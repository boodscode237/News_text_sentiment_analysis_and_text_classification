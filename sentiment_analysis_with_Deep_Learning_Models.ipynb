{
  "cells": [
    {
      "cell_type": "markdown",
      "metadata": {
        "id": "T1iFNeAISmx7"
      },
      "source": [
        "# **EXPLORATORY DATA ANALYSIS (EDA) OF THE DATASET**"
      ]
    },
    {
      "cell_type": "markdown",
      "metadata": {
        "id": "0FKitY3ahAx7"
      },
      "source": [
        "## Import Libraries"
      ]
    },
    {
      "cell_type": "code",
      "execution_count": null,
      "metadata": {
        "id": "_vgDwSZA3xKM"
      },
      "outputs": [],
      "source": [
        "%%capture\n",
        "!pip install pymorphy2"
      ]
    },
    {
      "cell_type": "code",
      "execution_count": null,
      "metadata": {
        "id": "nsDBX1yETA3v"
      },
      "outputs": [],
      "source": [
        "import numpy as np\n",
        "import pandas as pd\n",
        "import matplotlib.pyplot as plt\n",
        "import os\n",
        "import nltk\n",
        "import csv\n",
        "import tensorflow as tf\n",
        "from tensorflow import keras\n",
        "from tensorflow.keras import layers, Model\n",
        "from tensorflow.keras.layers.experimental.preprocessing import TextVectorization\n",
        "import re\n",
        "import string\n",
        "import random\n",
        "from sklearn.model_selection import train_test_split\n",
        "import tensorflow_datasets as tfds\n",
        "import json\n",
        "from pymorphy2 import MorphAnalyzer\n",
        "import pymorphy2\n",
        "from nltk.tokenize import word_tokenize"
      ]
    },
    {
      "cell_type": "code",
      "execution_count": null,
      "metadata": {
        "colab": {
          "base_uri": "https://localhost:8080/"
        },
        "id": "LeTajoH22knd",
        "outputId": "ca46308c-9a6f-4d35-d9b6-4249f3581cc4",
        "collapsed": true
      },
      "outputs": [
        {
          "output_type": "stream",
          "name": "stderr",
          "text": [
            "[nltk_data] Downloading collection 'all'\n",
            "[nltk_data]    | \n",
            "[nltk_data]    | Downloading package abc to /root/nltk_data...\n",
            "[nltk_data]    |   Unzipping corpora/abc.zip.\n",
            "[nltk_data]    | Downloading package alpino to /root/nltk_data...\n",
            "[nltk_data]    |   Unzipping corpora/alpino.zip.\n",
            "[nltk_data]    | Downloading package averaged_perceptron_tagger to\n",
            "[nltk_data]    |     /root/nltk_data...\n",
            "[nltk_data]    |   Unzipping taggers/averaged_perceptron_tagger.zip.\n",
            "[nltk_data]    | Downloading package averaged_perceptron_tagger_ru to\n",
            "[nltk_data]    |     /root/nltk_data...\n",
            "[nltk_data]    |   Unzipping\n",
            "[nltk_data]    |       taggers/averaged_perceptron_tagger_ru.zip.\n",
            "[nltk_data]    | Downloading package basque_grammars to\n",
            "[nltk_data]    |     /root/nltk_data...\n",
            "[nltk_data]    |   Unzipping grammars/basque_grammars.zip.\n",
            "[nltk_data]    | Downloading package bcp47 to /root/nltk_data...\n",
            "[nltk_data]    | Downloading package biocreative_ppi to\n",
            "[nltk_data]    |     /root/nltk_data...\n",
            "[nltk_data]    |   Unzipping corpora/biocreative_ppi.zip.\n",
            "[nltk_data]    | Downloading package bllip_wsj_no_aux to\n",
            "[nltk_data]    |     /root/nltk_data...\n",
            "[nltk_data]    |   Unzipping models/bllip_wsj_no_aux.zip.\n",
            "[nltk_data]    | Downloading package book_grammars to\n",
            "[nltk_data]    |     /root/nltk_data...\n",
            "[nltk_data]    |   Unzipping grammars/book_grammars.zip.\n",
            "[nltk_data]    | Downloading package brown to /root/nltk_data...\n",
            "[nltk_data]    |   Unzipping corpora/brown.zip.\n",
            "[nltk_data]    | Downloading package brown_tei to /root/nltk_data...\n",
            "[nltk_data]    |   Unzipping corpora/brown_tei.zip.\n",
            "[nltk_data]    | Downloading package cess_cat to /root/nltk_data...\n",
            "[nltk_data]    |   Unzipping corpora/cess_cat.zip.\n",
            "[nltk_data]    | Downloading package cess_esp to /root/nltk_data...\n",
            "[nltk_data]    |   Unzipping corpora/cess_esp.zip.\n",
            "[nltk_data]    | Downloading package chat80 to /root/nltk_data...\n",
            "[nltk_data]    |   Unzipping corpora/chat80.zip.\n",
            "[nltk_data]    | Downloading package city_database to\n",
            "[nltk_data]    |     /root/nltk_data...\n",
            "[nltk_data]    |   Unzipping corpora/city_database.zip.\n",
            "[nltk_data]    | Downloading package cmudict to /root/nltk_data...\n",
            "[nltk_data]    |   Unzipping corpora/cmudict.zip.\n",
            "[nltk_data]    | Downloading package comparative_sentences to\n",
            "[nltk_data]    |     /root/nltk_data...\n",
            "[nltk_data]    |   Unzipping corpora/comparative_sentences.zip.\n",
            "[nltk_data]    | Downloading package comtrans to /root/nltk_data...\n",
            "[nltk_data]    | Downloading package conll2000 to /root/nltk_data...\n",
            "[nltk_data]    |   Unzipping corpora/conll2000.zip.\n",
            "[nltk_data]    | Downloading package conll2002 to /root/nltk_data...\n",
            "[nltk_data]    |   Unzipping corpora/conll2002.zip.\n",
            "[nltk_data]    | Downloading package conll2007 to /root/nltk_data...\n",
            "[nltk_data]    | Downloading package crubadan to /root/nltk_data...\n",
            "[nltk_data]    |   Unzipping corpora/crubadan.zip.\n",
            "[nltk_data]    | Downloading package dependency_treebank to\n",
            "[nltk_data]    |     /root/nltk_data...\n",
            "[nltk_data]    |   Unzipping corpora/dependency_treebank.zip.\n",
            "[nltk_data]    | Downloading package dolch to /root/nltk_data...\n",
            "[nltk_data]    |   Unzipping corpora/dolch.zip.\n",
            "[nltk_data]    | Downloading package europarl_raw to\n",
            "[nltk_data]    |     /root/nltk_data...\n",
            "[nltk_data]    |   Unzipping corpora/europarl_raw.zip.\n",
            "[nltk_data]    | Downloading package extended_omw to\n",
            "[nltk_data]    |     /root/nltk_data...\n",
            "[nltk_data]    | Downloading package floresta to /root/nltk_data...\n",
            "[nltk_data]    |   Unzipping corpora/floresta.zip.\n",
            "[nltk_data]    | Downloading package framenet_v15 to\n",
            "[nltk_data]    |     /root/nltk_data...\n",
            "[nltk_data]    |   Unzipping corpora/framenet_v15.zip.\n",
            "[nltk_data]    | Downloading package framenet_v17 to\n",
            "[nltk_data]    |     /root/nltk_data...\n",
            "[nltk_data]    |   Unzipping corpora/framenet_v17.zip.\n",
            "[nltk_data]    | Downloading package gazetteers to /root/nltk_data...\n",
            "[nltk_data]    |   Unzipping corpora/gazetteers.zip.\n",
            "[nltk_data]    | Downloading package genesis to /root/nltk_data...\n",
            "[nltk_data]    |   Unzipping corpora/genesis.zip.\n",
            "[nltk_data]    | Downloading package gutenberg to /root/nltk_data...\n",
            "[nltk_data]    |   Unzipping corpora/gutenberg.zip.\n",
            "[nltk_data]    | Downloading package ieer to /root/nltk_data...\n",
            "[nltk_data]    |   Unzipping corpora/ieer.zip.\n",
            "[nltk_data]    | Downloading package inaugural to /root/nltk_data...\n",
            "[nltk_data]    |   Unzipping corpora/inaugural.zip.\n",
            "[nltk_data]    | Downloading package indian to /root/nltk_data...\n",
            "[nltk_data]    |   Unzipping corpora/indian.zip.\n",
            "[nltk_data]    | Downloading package jeita to /root/nltk_data...\n",
            "[nltk_data]    | Downloading package kimmo to /root/nltk_data...\n",
            "[nltk_data]    |   Unzipping corpora/kimmo.zip.\n",
            "[nltk_data]    | Downloading package knbc to /root/nltk_data...\n",
            "[nltk_data]    | Downloading package large_grammars to\n",
            "[nltk_data]    |     /root/nltk_data...\n",
            "[nltk_data]    |   Unzipping grammars/large_grammars.zip.\n",
            "[nltk_data]    | Downloading package lin_thesaurus to\n",
            "[nltk_data]    |     /root/nltk_data...\n",
            "[nltk_data]    |   Unzipping corpora/lin_thesaurus.zip.\n",
            "[nltk_data]    | Downloading package mac_morpho to /root/nltk_data...\n",
            "[nltk_data]    |   Unzipping corpora/mac_morpho.zip.\n",
            "[nltk_data]    | Downloading package machado to /root/nltk_data...\n",
            "[nltk_data]    | Downloading package masc_tagged to /root/nltk_data...\n",
            "[nltk_data]    | Downloading package maxent_ne_chunker to\n",
            "[nltk_data]    |     /root/nltk_data...\n",
            "[nltk_data]    |   Unzipping chunkers/maxent_ne_chunker.zip.\n",
            "[nltk_data]    | Downloading package maxent_treebank_pos_tagger to\n",
            "[nltk_data]    |     /root/nltk_data...\n",
            "[nltk_data]    |   Unzipping taggers/maxent_treebank_pos_tagger.zip.\n",
            "[nltk_data]    | Downloading package moses_sample to\n",
            "[nltk_data]    |     /root/nltk_data...\n",
            "[nltk_data]    |   Unzipping models/moses_sample.zip.\n",
            "[nltk_data]    | Downloading package movie_reviews to\n",
            "[nltk_data]    |     /root/nltk_data...\n",
            "[nltk_data]    |   Unzipping corpora/movie_reviews.zip.\n",
            "[nltk_data]    | Downloading package mte_teip5 to /root/nltk_data...\n",
            "[nltk_data]    |   Unzipping corpora/mte_teip5.zip.\n",
            "[nltk_data]    | Downloading package mwa_ppdb to /root/nltk_data...\n",
            "[nltk_data]    |   Unzipping misc/mwa_ppdb.zip.\n",
            "[nltk_data]    | Downloading package names to /root/nltk_data...\n",
            "[nltk_data]    |   Unzipping corpora/names.zip.\n",
            "[nltk_data]    | Downloading package nombank.1.0 to /root/nltk_data...\n",
            "[nltk_data]    | Downloading package nonbreaking_prefixes to\n",
            "[nltk_data]    |     /root/nltk_data...\n",
            "[nltk_data]    |   Unzipping corpora/nonbreaking_prefixes.zip.\n",
            "[nltk_data]    | Downloading package nps_chat to /root/nltk_data...\n",
            "[nltk_data]    |   Unzipping corpora/nps_chat.zip.\n",
            "[nltk_data]    | Downloading package omw to /root/nltk_data...\n",
            "[nltk_data]    | Downloading package omw-1.4 to /root/nltk_data...\n",
            "[nltk_data]    | Downloading package opinion_lexicon to\n",
            "[nltk_data]    |     /root/nltk_data...\n",
            "[nltk_data]    |   Unzipping corpora/opinion_lexicon.zip.\n",
            "[nltk_data]    | Downloading package panlex_swadesh to\n",
            "[nltk_data]    |     /root/nltk_data...\n",
            "[nltk_data]    | Downloading package paradigms to /root/nltk_data...\n",
            "[nltk_data]    |   Unzipping corpora/paradigms.zip.\n",
            "[nltk_data]    | Downloading package pe08 to /root/nltk_data...\n",
            "[nltk_data]    |   Unzipping corpora/pe08.zip.\n",
            "[nltk_data]    | Downloading package perluniprops to\n",
            "[nltk_data]    |     /root/nltk_data...\n",
            "[nltk_data]    |   Unzipping misc/perluniprops.zip.\n",
            "[nltk_data]    | Downloading package pil to /root/nltk_data...\n",
            "[nltk_data]    |   Unzipping corpora/pil.zip.\n",
            "[nltk_data]    | Downloading package pl196x to /root/nltk_data...\n",
            "[nltk_data]    |   Unzipping corpora/pl196x.zip.\n",
            "[nltk_data]    | Downloading package porter_test to /root/nltk_data...\n",
            "[nltk_data]    |   Unzipping stemmers/porter_test.zip.\n",
            "[nltk_data]    | Downloading package ppattach to /root/nltk_data...\n",
            "[nltk_data]    |   Unzipping corpora/ppattach.zip.\n",
            "[nltk_data]    | Downloading package problem_reports to\n",
            "[nltk_data]    |     /root/nltk_data...\n",
            "[nltk_data]    |   Unzipping corpora/problem_reports.zip.\n",
            "[nltk_data]    | Downloading package product_reviews_1 to\n",
            "[nltk_data]    |     /root/nltk_data...\n",
            "[nltk_data]    |   Unzipping corpora/product_reviews_1.zip.\n",
            "[nltk_data]    | Downloading package product_reviews_2 to\n",
            "[nltk_data]    |     /root/nltk_data...\n",
            "[nltk_data]    |   Unzipping corpora/product_reviews_2.zip.\n",
            "[nltk_data]    | Downloading package propbank to /root/nltk_data...\n",
            "[nltk_data]    | Downloading package pros_cons to /root/nltk_data...\n",
            "[nltk_data]    |   Unzipping corpora/pros_cons.zip.\n",
            "[nltk_data]    | Downloading package ptb to /root/nltk_data...\n",
            "[nltk_data]    |   Unzipping corpora/ptb.zip.\n",
            "[nltk_data]    | Downloading package punkt to /root/nltk_data...\n",
            "[nltk_data]    |   Unzipping tokenizers/punkt.zip.\n",
            "[nltk_data]    | Downloading package qc to /root/nltk_data...\n",
            "[nltk_data]    |   Unzipping corpora/qc.zip.\n",
            "[nltk_data]    | Downloading package reuters to /root/nltk_data...\n",
            "[nltk_data]    | Downloading package rslp to /root/nltk_data...\n",
            "[nltk_data]    |   Unzipping stemmers/rslp.zip.\n",
            "[nltk_data]    | Downloading package rte to /root/nltk_data...\n",
            "[nltk_data]    |   Unzipping corpora/rte.zip.\n",
            "[nltk_data]    | Downloading package sample_grammars to\n",
            "[nltk_data]    |     /root/nltk_data...\n",
            "[nltk_data]    |   Unzipping grammars/sample_grammars.zip.\n",
            "[nltk_data]    | Downloading package semcor to /root/nltk_data...\n",
            "[nltk_data]    | Downloading package senseval to /root/nltk_data...\n",
            "[nltk_data]    |   Unzipping corpora/senseval.zip.\n",
            "[nltk_data]    | Downloading package sentence_polarity to\n",
            "[nltk_data]    |     /root/nltk_data...\n",
            "[nltk_data]    |   Unzipping corpora/sentence_polarity.zip.\n",
            "[nltk_data]    | Downloading package sentiwordnet to\n",
            "[nltk_data]    |     /root/nltk_data...\n",
            "[nltk_data]    |   Unzipping corpora/sentiwordnet.zip.\n",
            "[nltk_data]    | Downloading package shakespeare to /root/nltk_data...\n",
            "[nltk_data]    |   Unzipping corpora/shakespeare.zip.\n",
            "[nltk_data]    | Downloading package sinica_treebank to\n",
            "[nltk_data]    |     /root/nltk_data...\n",
            "[nltk_data]    |   Unzipping corpora/sinica_treebank.zip.\n",
            "[nltk_data]    | Downloading package smultron to /root/nltk_data...\n",
            "[nltk_data]    |   Unzipping corpora/smultron.zip.\n",
            "[nltk_data]    | Downloading package snowball_data to\n",
            "[nltk_data]    |     /root/nltk_data...\n",
            "[nltk_data]    | Downloading package spanish_grammars to\n",
            "[nltk_data]    |     /root/nltk_data...\n",
            "[nltk_data]    |   Unzipping grammars/spanish_grammars.zip.\n",
            "[nltk_data]    | Downloading package state_union to /root/nltk_data...\n",
            "[nltk_data]    |   Unzipping corpora/state_union.zip.\n",
            "[nltk_data]    | Downloading package stopwords to /root/nltk_data...\n",
            "[nltk_data]    |   Unzipping corpora/stopwords.zip.\n",
            "[nltk_data]    | Downloading package subjectivity to\n",
            "[nltk_data]    |     /root/nltk_data...\n",
            "[nltk_data]    |   Unzipping corpora/subjectivity.zip.\n",
            "[nltk_data]    | Downloading package swadesh to /root/nltk_data...\n",
            "[nltk_data]    |   Unzipping corpora/swadesh.zip.\n",
            "[nltk_data]    | Downloading package switchboard to /root/nltk_data...\n",
            "[nltk_data]    |   Unzipping corpora/switchboard.zip.\n",
            "[nltk_data]    | Downloading package tagsets to /root/nltk_data...\n",
            "[nltk_data]    |   Unzipping help/tagsets.zip.\n",
            "[nltk_data]    | Downloading package timit to /root/nltk_data...\n",
            "[nltk_data]    |   Unzipping corpora/timit.zip.\n",
            "[nltk_data]    | Downloading package toolbox to /root/nltk_data...\n",
            "[nltk_data]    |   Unzipping corpora/toolbox.zip.\n",
            "[nltk_data]    | Downloading package treebank to /root/nltk_data...\n",
            "[nltk_data]    |   Unzipping corpora/treebank.zip.\n",
            "[nltk_data]    | Downloading package twitter_samples to\n",
            "[nltk_data]    |     /root/nltk_data...\n",
            "[nltk_data]    |   Unzipping corpora/twitter_samples.zip.\n",
            "[nltk_data]    | Downloading package udhr to /root/nltk_data...\n",
            "[nltk_data]    |   Unzipping corpora/udhr.zip.\n",
            "[nltk_data]    | Downloading package udhr2 to /root/nltk_data...\n",
            "[nltk_data]    |   Unzipping corpora/udhr2.zip.\n",
            "[nltk_data]    | Downloading package unicode_samples to\n",
            "[nltk_data]    |     /root/nltk_data...\n",
            "[nltk_data]    |   Unzipping corpora/unicode_samples.zip.\n",
            "[nltk_data]    | Downloading package universal_tagset to\n",
            "[nltk_data]    |     /root/nltk_data...\n",
            "[nltk_data]    |   Unzipping taggers/universal_tagset.zip.\n",
            "[nltk_data]    | Downloading package universal_treebanks_v20 to\n",
            "[nltk_data]    |     /root/nltk_data...\n",
            "[nltk_data]    | Downloading package vader_lexicon to\n",
            "[nltk_data]    |     /root/nltk_data...\n",
            "[nltk_data]    | Downloading package verbnet to /root/nltk_data...\n",
            "[nltk_data]    |   Unzipping corpora/verbnet.zip.\n",
            "[nltk_data]    | Downloading package verbnet3 to /root/nltk_data...\n",
            "[nltk_data]    |   Unzipping corpora/verbnet3.zip.\n",
            "[nltk_data]    | Downloading package webtext to /root/nltk_data...\n",
            "[nltk_data]    |   Unzipping corpora/webtext.zip.\n",
            "[nltk_data]    | Downloading package wmt15_eval to /root/nltk_data...\n",
            "[nltk_data]    |   Unzipping models/wmt15_eval.zip.\n",
            "[nltk_data]    | Downloading package word2vec_sample to\n",
            "[nltk_data]    |     /root/nltk_data...\n",
            "[nltk_data]    |   Unzipping models/word2vec_sample.zip.\n",
            "[nltk_data]    | Downloading package wordnet to /root/nltk_data...\n",
            "[nltk_data]    | Downloading package wordnet2021 to /root/nltk_data...\n",
            "[nltk_data]    | Downloading package wordnet2022 to /root/nltk_data...\n",
            "[nltk_data]    |   Unzipping corpora/wordnet2022.zip.\n",
            "[nltk_data]    | Downloading package wordnet31 to /root/nltk_data...\n",
            "[nltk_data]    | Downloading package wordnet_ic to /root/nltk_data...\n",
            "[nltk_data]    |   Unzipping corpora/wordnet_ic.zip.\n",
            "[nltk_data]    | Downloading package words to /root/nltk_data...\n",
            "[nltk_data]    |   Unzipping corpora/words.zip.\n",
            "[nltk_data]    | Downloading package ycoe to /root/nltk_data...\n",
            "[nltk_data]    |   Unzipping corpora/ycoe.zip.\n",
            "[nltk_data]    | \n",
            "[nltk_data]  Done downloading collection all\n"
          ]
        }
      ],
      "source": [
        "%%capture\n",
        "nltk.download('all')"
      ]
    },
    {
      "cell_type": "code",
      "execution_count": null,
      "metadata": {
        "colab": {
          "base_uri": "https://localhost:8080/"
        },
        "id": "0bPDDB871W56",
        "outputId": "7363854e-4d87-499f-fd7e-92149305894f"
      },
      "outputs": [
        {
          "output_type": "stream",
          "name": "stdout",
          "text": [
            "time: 525 µs (started: 2024-05-23 11:17:03 +00:00)\n"
          ]
        }
      ],
      "source": [
        "%%capture\n",
        "#title Record Each Cell's Execution Time\n",
        "!pip install ipython-autotime\n",
        "%load_ext autotime"
      ]
    },
    {
      "cell_type": "markdown",
      "metadata": {
        "id": "XY2GzB2SqKby"
      },
      "source": [
        "## Mount the google drive"
      ]
    },
    {
      "cell_type": "code",
      "execution_count": null,
      "metadata": {
        "colab": {
          "base_uri": "https://localhost:8080/"
        },
        "id": "2pIhSabUHQPB",
        "outputId": "348bfa35-749d-4ba1-a151-e6056dbb882d"
      },
      "outputs": [
        {
          "name": "stdout",
          "output_type": "stream",
          "text": [
            "Mounted at /content/drive\n",
            "time: 39 s (started: 2024-05-02 04:30:34 +00:00)\n"
          ]
        }
      ],
      "source": [
        "from google.colab import drive\n",
        "drive.mount('/content/drive')"
      ]
    },
    {
      "cell_type": "markdown",
      "metadata": {
        "id": "7WQNplaQhmB3"
      },
      "source": [
        "## Load the Dataset"
      ]
    },
    {
      "cell_type": "code",
      "source": [
        "import os\n",
        "import urllib.request\n",
        "import zipfile\n",
        "import io\n",
        "\n",
        "# Define the URLs for the datasets\n",
        "TASK2PATH = {\n",
        "    \"CoLA\": 'https://dl.fbaipublicfiles.com/glue/data/CoLA.zip',\n",
        "    \"SST\": 'https://dl.fbaipublicfiles.com/glue/data/SST-2.zip',\n",
        "    \"QQP\": 'https://dl.fbaipublicfiles.com/glue/data/QQP-clean.zip',\n",
        "    \"STS\": 'https://dl.fbaipublicfiles.com/glue/data/STS-B.zip',\n",
        "    \"MNLI\": 'https://dl.fbaipublicfiles.com/glue/data/MNLI.zip',\n",
        "    \"QNLI\": 'https://dl.fbaipublicfiles.com/glue/data/QNLIv2.zip',\n",
        "    \"RTE\": 'https://dl.fbaipublicfiles.com/glue/data/RTE.zip',\n",
        "    \"WNLI\": 'https://dl.fbaipublicfiles.com/glue/data/WNLI.zip',\n",
        "    \"diagnostic\": 'https://dl.fbaipublicfiles.com/glue/data/AX.tsv'\n",
        "}\n",
        "\n",
        "MRPC_TRAIN = 'https://dl.fbaipublicfiles.com/senteval/senteval_data/msr_paraphrase_train.txt'\n",
        "MRPC_TEST = 'https://dl.fbaipublicfiles.com/senteval/senteval_data/msr_paraphrase_test.txt'\n",
        "\n",
        "def download_and_extract(task, data_dir):\n",
        "    print(f\"Downloading and extracting {task}...\")\n",
        "    data_file = f\"{task}.zip\"\n",
        "    urllib.request.urlretrieve(TASK2PATH[task], data_file)\n",
        "    with zipfile.ZipFile(data_file, 'r') as zip_ref:\n",
        "        zip_ref.extractall(data_dir)\n",
        "    os.remove(data_file)\n",
        "    print(f\"\\tCompleted {task}!\")\n",
        "\n",
        "def format_mrpc(data_dir):\n",
        "    print(\"Processing MRPC...\")\n",
        "    mrpc_dir = os.path.join(data_dir, \"MRPC\")\n",
        "    if not os.path.exists(mrpc_dir):\n",
        "        os.makedirs(mrpc_dir)\n",
        "\n",
        "    mrpc_train_file = os.path.join(mrpc_dir, \"msr_paraphrase_train.txt\")\n",
        "    mrpc_test_file = os.path.join(mrpc_dir, \"msr_paraphrase_test.txt\")\n",
        "    urllib.request.urlretrieve(MRPC_TRAIN, mrpc_train_file)\n",
        "    urllib.request.urlretrieve(MRPC_TEST, mrpc_test_file)\n",
        "\n",
        "    with io.open(mrpc_test_file, encoding='utf-8') as data_fh, \\\n",
        "            io.open(os.path.join(mrpc_dir, \"test.tsv\"), 'w', encoding='utf-8') as test_fh:\n",
        "        header = data_fh.readline()\n",
        "        test_fh.write(\"index\\t#1 ID\\t#2 ID\\t#1 String\\t#2 String\\n\")\n",
        "        for idx, row in enumerate(data_fh):\n",
        "            label, id1, id2, s1, s2 = row.strip().split('\\t')\n",
        "            test_fh.write(f\"{idx}\\t{id1}\\t{id2}\\t{s1}\\t{s2}\\n\")\n",
        "\n",
        "    print(\"\\tCompleted MRPC!\")\n",
        "\n",
        "def download_diagnostic(data_dir):\n",
        "    print(\"Downloading and extracting diagnostic...\")\n",
        "    diagnostic_dir = os.path.join(data_dir, \"diagnostic\")\n",
        "    if not os.path.exists(diagnostic_dir):\n",
        "        os.makedirs(diagnostic_dir)\n",
        "    data_file = os.path.join(diagnostic_dir, \"diagnostic.tsv\")\n",
        "    urllib.request.urlretrieve(TASK2PATH[\"diagnostic\"], data_file)\n",
        "    print(\"\\tCompleted diagnostic!\")\n",
        "\n",
        "# Set the directory to save data\n",
        "data_dir = '/content/drive/MyDrive/Colab_Notebooks/nlp_with_python/ods_nlp_itmo/article/glue_data'\n",
        "\n",
        "if not os.path.exists(data_dir):\n",
        "    os.makedirs(data_dir)\n",
        "\n",
        "# List of tasks to download\n",
        "tasks = [\"CoLA\", \"SST\", \"QQP\", \"STS\", \"MNLI\", \"QNLI\", \"RTE\", \"WNLI\", \"MRPC\", \"diagnostic\"]\n",
        "\n",
        "# Download and extract each task\n",
        "for task in tasks:\n",
        "    if task == 'MRPC':\n",
        "        format_mrpc(data_dir)\n",
        "    elif task == 'diagnostic':\n",
        "        download_diagnostic(data_dir)\n",
        "    else:\n",
        "        download_and_extract(task, data_dir)\n",
        "\n",
        "print(\"All tasks downloaded and extracted.\")"
      ],
      "metadata": {
        "colab": {
          "base_uri": "https://localhost:8080/"
        },
        "id": "TB4HAf9FjMsD",
        "outputId": "06eda340-22f1-4811-b3b4-10cdabc97296"
      },
      "execution_count": null,
      "outputs": [
        {
          "output_type": "stream",
          "name": "stdout",
          "text": [
            "Downloading and extracting CoLA...\n",
            "\tCompleted CoLA!\n",
            "Downloading and extracting SST...\n",
            "\tCompleted SST!\n",
            "Downloading and extracting QQP...\n",
            "\tCompleted QQP!\n",
            "Downloading and extracting STS...\n",
            "\tCompleted STS!\n",
            "Downloading and extracting MNLI...\n",
            "\tCompleted MNLI!\n",
            "Downloading and extracting QNLI...\n",
            "\tCompleted QNLI!\n",
            "Downloading and extracting RTE...\n",
            "\tCompleted RTE!\n",
            "Downloading and extracting WNLI...\n",
            "\tCompleted WNLI!\n",
            "Processing MRPC...\n",
            "\tCompleted MRPC!\n",
            "Downloading and extracting diagnostic...\n",
            "\tCompleted diagnostic!\n",
            "All tasks downloaded and extracted.\n"
          ]
        }
      ]
    },
    {
      "cell_type": "markdown",
      "source": [
        "### Importing train and tests datasets"
      ],
      "metadata": {
        "id": "A4aNbfrJl9_R"
      }
    },
    {
      "cell_type": "code",
      "source": [
        "DATASET_ROOT = \"/content/drive/MyDrive/Colab_Notebooks/nlp_with_python/ods_nlp_itmo/article/glue_data\"\n",
        "TASKS = [\"SST-2\", \"CoLA\"]\n",
        "SPLIT_NAMES = [\"train\", \"test\", \"dev\"]\n",
        "FILE_EXTENSION = \".tsv\""
      ],
      "metadata": {
        "id": "Bl-tqe29COoa"
      },
      "execution_count": null,
      "outputs": []
    },
    {
      "cell_type": "code",
      "source": [
        "def read_tsv_file(path):\n",
        "    return pd.read_csv(path, sep=\"\\t\")\n",
        "\n",
        "def convert_to_csv(df, output_path):\n",
        "    df.to_csv(output_path, index=False)"
      ],
      "metadata": {
        "id": "4fyYoF-WCRwU"
      },
      "execution_count": null,
      "outputs": []
    },
    {
      "cell_type": "code",
      "source": [
        "for task in TASKS:\n",
        "    task_root = f\"{DATASET_ROOT}/{task}\"\n",
        "    for split in SPLIT_NAMES:\n",
        "        input_path = f\"{task_root}/{split}{FILE_EXTENSION}\"\n",
        "        output_path = f\"{task_root}/{split}.csv\"\n",
        "        df = read_tsv_file(input_path)\n",
        "        convert_to_csv(df, output_path)"
      ],
      "metadata": {
        "id": "1DN7QFAMCSbc"
      },
      "execution_count": null,
      "outputs": []
    },
    {
      "cell_type": "code",
      "source": [
        "sst2_train_df = pd.read_csv(\"/content/drive/MyDrive/Colab_Notebooks/nlp_with_python/ods_nlp_itmo/article/glue_data/SST-2/train.csv\")\n",
        "sst2_test_df = pd.read_csv(\"/content/drive/MyDrive/Colab_Notebooks/nlp_with_python/ods_nlp_itmo/article/glue_data/SST-2/test.csv\")\n",
        "sst2_dev_df = pd.read_csv(\"/content/drive/MyDrive/Colab_Notebooks/nlp_with_python/ods_nlp_itmo/article/glue_data/SST-2/dev.csv\")\n",
        "\n",
        "#cola_train_df = pd.read_csv(\"/content/drive/MyDrive/Colab_Notebooks/nlp_with_python/ods_nlp_itmo/article/glue_data/CoLA/train.csv\", header=None, names=[\"code\", \"label\", \"start\", \"sentence\"])\n",
        "#cola_test_df = pd.read_csv(\"/content/drive/MyDrive/Colab_Notebooks/nlp_with_python/ods_nlp_itmo/article/glue_data/CoLA/test.csv\")\n",
        "#cola_dev_df = pd.read_csv(\"/content/drive/MyDrive/Colab_Notebooks/nlp_with_python/ods_nlp_itmo/article/glue_data/CoLA/dev.csv\", header=None, names=[\"code\", \"label\", \"start\", \"sentence\"])"
      ],
      "metadata": {
        "colab": {
          "base_uri": "https://localhost:8080/"
        },
        "id": "1JC-GXkhC0xh",
        "outputId": "6a471f1c-bc3b-47f7-b3c8-64437b20aa8a"
      },
      "execution_count": null,
      "outputs": [
        {
          "output_type": "stream",
          "name": "stdout",
          "text": [
            "time: 334 ms (started: 2024-05-23 11:23:58 +00:00)\n"
          ]
        }
      ]
    },
    {
      "cell_type": "markdown",
      "metadata": {
        "id": "0hCQUwlfazOw"
      },
      "source": [
        "We need text classification for titles and for news texts."
      ]
    },
    {
      "cell_type": "code",
      "execution_count": null,
      "metadata": {
        "colab": {
          "base_uri": "https://localhost:8080/"
        },
        "id": "wyHnskupX9RC",
        "outputId": "e6e0ee3f-9851-4ed6-d2aa-924a9d0e08f6"
      },
      "outputs": [
        {
          "output_type": "stream",
          "name": "stdout",
          "text": [
            "time: 17.7 ms (started: 2024-05-23 11:31:22 +00:00)\n"
          ]
        }
      ],
      "source": [
        "df_text = sst2_train_df.copy()\n",
        "df_text = sst2_train_df[['sentence', 'label']]\n",
        "test_text = sst2_test_df.copy()\n",
        "valid_text = sst2_dev_df.copy()"
      ]
    },
    {
      "cell_type": "markdown",
      "metadata": {
        "id": "cMAgeynpfzZt"
      },
      "source": [
        "# **Working with text**"
      ]
    },
    {
      "cell_type": "markdown",
      "metadata": {
        "id": "N0QifWeLWbNs"
      },
      "source": [
        "## Analyze the Classes (Sentiments)"
      ]
    },
    {
      "cell_type": "markdown",
      "metadata": {
        "id": "89jYIEaiW6SR"
      },
      "source": [
        "### Topic List"
      ]
    },
    {
      "cell_type": "code",
      "execution_count": null,
      "metadata": {
        "colab": {
          "base_uri": "https://localhost:8080/"
        },
        "id": "ZZoFykmCXC0E",
        "outputId": "ebd19bad-d46f-443c-aa48-e6bbe80c44b1"
      },
      "outputs": [
        {
          "output_type": "stream",
          "name": "stdout",
          "text": [
            "Sentiments:\n",
            " [0 1]\n",
            "time: 2.64 ms (started: 2024-05-23 11:31:26 +00:00)\n"
          ]
        }
      ],
      "source": [
        "sentiment_list = df_text.label.unique()\n",
        "print(\"Sentiments:\\n\", sentiment_list)"
      ]
    },
    {
      "cell_type": "code",
      "execution_count": null,
      "metadata": {
        "colab": {
          "base_uri": "https://localhost:8080/"
        },
        "id": "9DImVJ7PWklp",
        "outputId": "2992ecc0-e870-49e7-aba0-626bd995385e"
      },
      "outputs": [
        {
          "output_type": "stream",
          "name": "stdout",
          "text": [
            "Number of Topics:  2\n",
            "time: 757 µs (started: 2024-05-23 11:31:29 +00:00)\n"
          ]
        }
      ],
      "source": [
        "number_of_sentiments = len(sentiment_list)\n",
        "print(\"Number of Topics: \",number_of_sentiments)"
      ]
    },
    {
      "cell_type": "markdown",
      "metadata": {
        "id": "b643VGKouXct"
      },
      "source": [
        "### Number of texts per Sentiments"
      ]
    },
    {
      "cell_type": "code",
      "execution_count": null,
      "metadata": {
        "colab": {
          "base_uri": "https://localhost:8080/"
        },
        "id": "l_OovJL5tE7y",
        "outputId": "0402f749-596c-49a4-9c05-d9481e7020a3"
      },
      "outputs": [
        {
          "output_type": "execute_result",
          "data": {
            "text/plain": [
              "label\n",
              "1    37569\n",
              "0    29780\n",
              "Name: count, dtype: int64"
            ]
          },
          "metadata": {},
          "execution_count": 54
        },
        {
          "output_type": "stream",
          "name": "stdout",
          "text": [
            "time: 17 ms (started: 2024-05-23 11:31:51 +00:00)\n"
          ]
        }
      ],
      "source": [
        "df_text.label.value_counts()"
      ]
    },
    {
      "cell_type": "code",
      "source": [
        "import seaborn as sns\n",
        "\n",
        "sns.set_style(\"whitegrid\")\n",
        "\n",
        "sns.set(font_scale=2)\n",
        "\n",
        "count_plot = df_text.label.value_counts().plot.bar(x=\"Label\", y=\"Texts\", figsize=(32, 8), color=['green', 'blue', 'red'])\n",
        "\n",
        "plt.title('Label Counts', fontsize=24, fontweight='bold', color='#333333')\n",
        "\n",
        "plt.xlabel('Label', fontsize=20, fontweight='bold', color='#333333')\n",
        "plt.ylabel('Counts', fontsize=20, fontweight='bold', color='#333333')\n",
        "\n",
        "plt.xticks(fontsize=16, fontweight='bold', color='#333333')\n",
        "plt.yticks(fontsize=16, fontweight='bold', color='#333333')\n",
        "\n",
        "plt.grid(linestyle='--', linewidth=1.5, color='#cccccc')\n",
        "\n",
        "plt.show()"
      ],
      "metadata": {
        "colab": {
          "base_uri": "https://localhost:8080/",
          "height": 409
        },
        "id": "BYoTQ_1kOagQ",
        "outputId": "cdbef905-e2f3-4118-b466-488ef025f4ee"
      },
      "execution_count": null,
      "outputs": [
        {
          "output_type": "display_data",
          "data": {
            "text/plain": [
              "<Figure size 3200x800 with 1 Axes>"
            ],
            "image/png": "[encoded data removed]"
          },
          "metadata": {}
        },
        {
          "output_type": "stream",
          "name": "stdout",
          "text": [
            "time: 1.07 s (started: 2024-05-23 11:33:10 +00:00)\n"
          ]
        }
      ]
    },
    {
      "cell_type": "markdown",
      "metadata": {
        "id": "y_pg-opRXsBY"
      },
      "source": [
        "## Analyze News (Text)"
      ]
    },
    {
      "cell_type": "markdown",
      "metadata": {
        "id": "ToOs5UcfVxQD"
      },
      "source": [
        "### Calculate the number of words in each reviews"
      ]
    },
    {
      "cell_type": "code",
      "execution_count": null,
      "metadata": {
        "colab": {
          "base_uri": "https://localhost:8080/"
        },
        "id": "9aLw9WZBsgCu",
        "outputId": "5504528f-05a9-4c3f-9bc2-3974d10ddbc6"
      },
      "outputs": [
        {
          "output_type": "stream",
          "name": "stdout",
          "text": [
            "time: 11.3 s (started: 2024-05-23 11:34:30 +00:00)\n"
          ]
        }
      ],
      "source": [
        "df_text['words'] = df_text['sentence'].apply(lambda x: len(word_tokenize(x)))"
      ]
    },
    {
      "cell_type": "code",
      "execution_count": null,
      "metadata": {
        "colab": {
          "base_uri": "https://localhost:8080/",
          "height": 224
        },
        "id": "P7No8hJRuFP-",
        "outputId": "caa66f16-cbdc-4df9-dd74-11ae514cb203"
      },
      "outputs": [
        {
          "output_type": "execute_result",
          "data": {
            "text/plain": [
              "                                                sentence  label  words\n",
              "67344                               a delightful comedy       1      3\n",
              "67345                   anguish , anger and frustration       0      5\n",
              "67346  at achieving the modest , crowd-pleasing goals...      1     11\n",
              "67347                                  a patient viewer       1      3\n",
              "67348  this new jangle of noise , mayhem and stupidit...      0     18"
            ],
            "text/html": [
              "\n",
              "  <div id=\"df-37f7ec10-31b6-4713-95c5-5723f229e125\" class=\"colab-df-container\">\n",
              "    <div>\n",
              "<style scoped>\n",
              "    .dataframe tbody tr th:only-of-type {\n",
              "        vertical-align: middle;\n",
              "    }\n",
              "\n",
              "    .dataframe tbody tr th {\n",
              "        vertical-align: top;\n",
              "    }\n",
              "\n",
              "    .dataframe thead th {\n",
              "        text-align: right;\n",
              "    }\n",
              "</style>\n",
              "<table border=\"1\" class=\"dataframe\">\n",
              "  <thead>\n",
              "    <tr style=\"text-align: right;\">\n",
              "      <th></th>\n",
              "      <th>sentence</th>\n",
              "      <th>label</th>\n",
              "      <th>words</th>\n",
              "    </tr>\n",
              "  </thead>\n",
              "  <tbody>\n",
              "    <tr>\n",
              "      <th>67344</th>\n",
              "      <td>a delightful comedy</td>\n",
              "      <td>1</td>\n",
              "      <td>3</td>\n",
              "    </tr>\n",
              "    <tr>\n",
              "      <th>67345</th>\n",
              "      <td>anguish , anger and frustration</td>\n",
              "      <td>0</td>\n",
              "      <td>5</td>\n",
              "    </tr>\n",
              "    <tr>\n",
              "      <th>67346</th>\n",
              "      <td>at achieving the modest , crowd-pleasing goals...</td>\n",
              "      <td>1</td>\n",
              "      <td>11</td>\n",
              "    </tr>\n",
              "    <tr>\n",
              "      <th>67347</th>\n",
              "      <td>a patient viewer</td>\n",
              "      <td>1</td>\n",
              "      <td>3</td>\n",
              "    </tr>\n",
              "    <tr>\n",
              "      <th>67348</th>\n",
              "      <td>this new jangle of noise , mayhem and stupidit...</td>\n",
              "      <td>0</td>\n",
              "      <td>18</td>\n",
              "    </tr>\n",
              "  </tbody>\n",
              "</table>\n",
              "</div>\n",
              "    <div class=\"colab-df-buttons\">\n",
              "\n",
              "  <div class=\"colab-df-container\">\n",
              "    <button class=\"colab-df-convert\" onclick=\"convertToInteractive('df-37f7ec10-31b6-4713-95c5-5723f229e125')\"\n",
              "            title=\"Convert this dataframe to an interactive table.\"\n",
              "            style=\"display:none;\">\n",
              "\n",
              "  <svg xmlns=\"http://www.w3.org/2000/svg\" height=\"24px\" viewBox=\"0 -960 960 960\">\n",
              "    <path d=\"M120-120v-720h720v720H120Zm60-500h600v-160H180v160Zm220 220h160v-160H400v160Zm0 220h160v-160H400v160ZM180-400h160v-160H180v160Zm440 0h160v-160H620v160ZM180-180h160v-160H180v160Zm440 0h160v-160H620v160Z\"/>\n",
              "  </svg>\n",
              "    </button>\n",
              "\n",
              "  <style>\n",
              "    .colab-df-container {\n",
              "      display:flex;\n",
              "      gap: 12px;\n",
              "    }\n",
              "\n",
              "    .colab-df-convert {\n",
              "      background-color: #E8F0FE;\n",
              "      border: none;\n",
              "      border-radius: 50%;\n",
              "      cursor: pointer;\n",
              "      display: none;\n",
              "      fill: #1967D2;\n",
              "      height: 32px;\n",
              "      padding: 0 0 0 0;\n",
              "      width: 32px;\n",
              "    }\n",
              "\n",
              "    .colab-df-convert:hover {\n",
              "      background-color: #E2EBFA;\n",
              "      box-shadow: 0px 1px 2px rgba(60, 64, 67, 0.3), 0px 1px 3px 1px rgba(60, 64, 67, 0.15);\n",
              "      fill: #174EA6;\n",
              "    }\n",
              "\n",
              "    .colab-df-buttons div {\n",
              "      margin-bottom: 4px;\n",
              "    }\n",
              "\n",
              "    [theme=dark] .colab-df-convert {\n",
              "      background-color: #3B4455;\n",
              "      fill: #D2E3FC;\n",
              "    }\n",
              "\n",
              "    [theme=dark] .colab-df-convert:hover {\n",
              "      background-color: #434B5C;\n",
              "      box-shadow: 0px 1px 3px 1px rgba(0, 0, 0, 0.15);\n",
              "      filter: drop-shadow(0px 1px 2px rgba(0, 0, 0, 0.3));\n",
              "      fill: #FFFFFF;\n",
              "    }\n",
              "  </style>\n",
              "\n",
              "    <script>\n",
              "      const buttonEl =\n",
              "        document.querySelector('#df-37f7ec10-31b6-4713-95c5-5723f229e125 button.colab-df-convert');\n",
              "      buttonEl.style.display =\n",
              "        google.colab.kernel.accessAllowed ? 'block' : 'none';\n",
              "\n",
              "      async function convertToInteractive(key) {\n",
              "        const element = document.querySelector('#df-37f7ec10-31b6-4713-95c5-5723f229e125');\n",
              "        const dataTable =\n",
              "          await google.colab.kernel.invokeFunction('convertToInteractive',\n",
              "                                                    [key], {});\n",
              "        if (!dataTable) return;\n",
              "\n",
              "        const docLinkHtml = 'Like what you see? Visit the ' +\n",
              "          '<a target=\"_blank\" href=https://colab.research.google.com/notebooks/data_table.ipynb>data table notebook</a>'\n",
              "          + ' to learn more about interactive tables.';\n",
              "        element.innerHTML = '';\n",
              "        dataTable['output_type'] = 'display_data';\n",
              "        await google.colab.output.renderOutput(dataTable, element);\n",
              "        const docLink = document.createElement('div');\n",
              "        docLink.innerHTML = docLinkHtml;\n",
              "        element.appendChild(docLink);\n",
              "      }\n",
              "    </script>\n",
              "  </div>\n",
              "\n",
              "\n",
              "<div id=\"df-67e2f14d-81a2-4ae3-ad7d-48848350d35c\">\n",
              "  <button class=\"colab-df-quickchart\" onclick=\"quickchart('df-67e2f14d-81a2-4ae3-ad7d-48848350d35c')\"\n",
              "            title=\"Suggest charts\"\n",
              "            style=\"display:none;\">\n",
              "\n",
              "<svg xmlns=\"http://www.w3.org/2000/svg\" height=\"24px\"viewBox=\"0 0 24 24\"\n",
              "     width=\"24px\">\n",
              "    <g>\n",
              "        <path d=\"M19 3H5c-1.1 0-2 .9-2 2v14c0 1.1.9 2 2 2h14c1.1 0 2-.9 2-2V5c0-1.1-.9-2-2-2zM9 17H7v-7h2v7zm4 0h-2V7h2v10zm4 0h-2v-4h2v4z\"/>\n",
              "    </g>\n",
              "</svg>\n",
              "  </button>\n",
              "\n",
              "<style>\n",
              "  .colab-df-quickchart {\n",
              "      --bg-color: #E8F0FE;\n",
              "      --fill-color: #1967D2;\n",
              "      --hover-bg-color: #E2EBFA;\n",
              "      --hover-fill-color: #174EA6;\n",
              "      --disabled-fill-color: #AAA;\n",
              "      --disabled-bg-color: #DDD;\n",
              "  }\n",
              "\n",
              "  [theme=dark] .colab-df-quickchart {\n",
              "      --bg-color: #3B4455;\n",
              "      --fill-color: #D2E3FC;\n",
              "      --hover-bg-color: #434B5C;\n",
              "      --hover-fill-color: #FFFFFF;\n",
              "      --disabled-bg-color: #3B4455;\n",
              "      --disabled-fill-color: #666;\n",
              "  }\n",
              "\n",
              "  .colab-df-quickchart {\n",
              "    background-color: var(--bg-color);\n",
              "    border: none;\n",
              "    border-radius: 50%;\n",
              "    cursor: pointer;\n",
              "    display: none;\n",
              "    fill: var(--fill-color);\n",
              "    height: 32px;\n",
              "    padding: 0;\n",
              "    width: 32px;\n",
              "  }\n",
              "\n",
              "  .colab-df-quickchart:hover {\n",
              "    background-color: var(--hover-bg-color);\n",
              "    box-shadow: 0 1px 2px rgba(60, 64, 67, 0.3), 0 1px 3px 1px rgba(60, 64, 67, 0.15);\n",
              "    fill: var(--button-hover-fill-color);\n",
              "  }\n",
              "\n",
              "  .colab-df-quickchart-complete:disabled,\n",
              "  .colab-df-quickchart-complete:disabled:hover {\n",
              "    background-color: var(--disabled-bg-color);\n",
              "    fill: var(--disabled-fill-color);\n",
              "    box-shadow: none;\n",
              "  }\n",
              "\n",
              "  .colab-df-spinner {\n",
              "    border: 2px solid var(--fill-color);\n",
              "    border-color: transparent;\n",
              "    border-bottom-color: var(--fill-color);\n",
              "    animation:\n",
              "      spin 1s steps(1) infinite;\n",
              "  }\n",
              "\n",
              "  @keyframes spin {\n",
              "    0% {\n",
              "      border-color: transparent;\n",
              "      border-bottom-color: var(--fill-color);\n",
              "      border-left-color: var(--fill-color);\n",
              "    }\n",
              "    20% {\n",
              "      border-color: transparent;\n",
              "      border-left-color: var(--fill-color);\n",
              "      border-top-color: var(--fill-color);\n",
              "    }\n",
              "    30% {\n",
              "      border-color: transparent;\n",
              "      border-left-color: var(--fill-color);\n",
              "      border-top-color: var(--fill-color);\n",
              "      border-right-color: var(--fill-color);\n",
              "    }\n",
              "    40% {\n",
              "      border-color: transparent;\n",
              "      border-right-color: var(--fill-color);\n",
              "      border-top-color: var(--fill-color);\n",
              "    }\n",
              "    60% {\n",
              "      border-color: transparent;\n",
              "      border-right-color: var(--fill-color);\n",
              "    }\n",
              "    80% {\n",
              "      border-color: transparent;\n",
              "      border-right-color: var(--fill-color);\n",
              "      border-bottom-color: var(--fill-color);\n",
              "    }\n",
              "    90% {\n",
              "      border-color: transparent;\n",
              "      border-bottom-color: var(--fill-color);\n",
              "    }\n",
              "  }\n",
              "</style>\n",
              "\n",
              "  <script>\n",
              "    async function quickchart(key) {\n",
              "      const quickchartButtonEl =\n",
              "        document.querySelector('#' + key + ' button');\n",
              "      quickchartButtonEl.disabled = true;  // To prevent multiple clicks.\n",
              "      quickchartButtonEl.classList.add('colab-df-spinner');\n",
              "      try {\n",
              "        const charts = await google.colab.kernel.invokeFunction(\n",
              "            'suggestCharts', [key], {});\n",
              "      } catch (error) {\n",
              "        console.error('Error during call to suggestCharts:', error);\n",
              "      }\n",
              "      quickchartButtonEl.classList.remove('colab-df-spinner');\n",
              "      quickchartButtonEl.classList.add('colab-df-quickchart-complete');\n",
              "    }\n",
              "    (() => {\n",
              "      let quickchartButtonEl =\n",
              "        document.querySelector('#df-67e2f14d-81a2-4ae3-ad7d-48848350d35c button');\n",
              "      quickchartButtonEl.style.display =\n",
              "        google.colab.kernel.accessAllowed ? 'block' : 'none';\n",
              "    })();\n",
              "  </script>\n",
              "</div>\n",
              "    </div>\n",
              "  </div>\n"
            ],
            "application/vnd.google.colaboratory.intrinsic+json": {
              "type": "dataframe",
              "summary": "{\n  \"name\": \"df_text\",\n  \"rows\": 5,\n  \"fields\": [\n    {\n      \"column\": \"sentence\",\n      \"properties\": {\n        \"dtype\": \"string\",\n        \"num_unique_values\": 5,\n        \"samples\": [\n          \"anguish , anger and frustration \",\n          \"this new jangle of noise , mayhem and stupidity must be a serious contender for the title . \",\n          \"at achieving the modest , crowd-pleasing goals it sets for itself \"\n        ],\n        \"semantic_type\": \"\",\n        \"description\": \"\"\n      }\n    },\n    {\n      \"column\": \"label\",\n      \"properties\": {\n        \"dtype\": \"number\",\n        \"std\": 0,\n        \"min\": 0,\n        \"max\": 1,\n        \"num_unique_values\": 2,\n        \"samples\": [\n          0,\n          1\n        ],\n        \"semantic_type\": \"\",\n        \"description\": \"\"\n      }\n    },\n    {\n      \"column\": \"words\",\n      \"properties\": {\n        \"dtype\": \"number\",\n        \"std\": 6,\n        \"min\": 3,\n        \"max\": 18,\n        \"num_unique_values\": 4,\n        \"samples\": [\n          5,\n          18\n        ],\n        \"semantic_type\": \"\",\n        \"description\": \"\"\n      }\n    }\n  ]\n}"
            }
          },
          "metadata": {},
          "execution_count": 61
        },
        {
          "output_type": "stream",
          "name": "stdout",
          "text": [
            "time: 16.8 ms (started: 2024-05-23 11:36:09 +00:00)\n"
          ]
        }
      ],
      "source": [
        "df_text.tail()"
      ]
    },
    {
      "cell_type": "markdown",
      "metadata": {
        "id": "wxCoazI7ijY1"
      },
      "source": [
        "### Review Length in terms of Number of Words"
      ]
    },
    {
      "cell_type": "code",
      "execution_count": null,
      "metadata": {
        "colab": {
          "base_uri": "https://localhost:8080/"
        },
        "id": "YOW4a_p1sd1T",
        "outputId": "791b1a1f-c1e7-4271-8c80-1340de80b990"
      },
      "outputs": [
        {
          "output_type": "execute_result",
          "data": {
            "text/plain": [
              "count    67349.000000\n",
              "mean         9.413711\n",
              "std          8.078156\n",
              "min          1.000000\n",
              "25%          3.000000\n",
              "50%          7.000000\n",
              "75%         13.000000\n",
              "max         53.000000\n",
              "Name: words, dtype: float64"
            ]
          },
          "metadata": {},
          "execution_count": 62
        },
        {
          "output_type": "stream",
          "name": "stdout",
          "text": [
            "time: 13.3 ms (started: 2024-05-23 11:36:39 +00:00)\n"
          ]
        }
      ],
      "source": [
        "df_text['words'].describe()"
      ]
    },
    {
      "cell_type": "markdown",
      "metadata": {
        "id": "5J_cioUCjcbJ"
      },
      "source": [
        "### Review Length in terms of Number of Words per Topic"
      ]
    },
    {
      "cell_type": "code",
      "execution_count": null,
      "metadata": {
        "colab": {
          "base_uri": "https://localhost:8080/",
          "height": 161
        },
        "id": "WmsXRoIYi4G8",
        "outputId": "4fc488f9-fb7e-4f41-a688-42706452be0f"
      },
      "outputs": [
        {
          "output_type": "execute_result",
          "data": {
            "text/plain": [
              "         count      mean       std  min  25%  50%   75%   max\n",
              "label                                                        \n",
              "0      29780.0  9.887811  8.162102  1.0  3.0  8.0  14.0  53.0\n",
              "1      37569.0  9.037904  7.991138  1.0  3.0  6.0  13.0  52.0"
            ],
            "text/html": [
              "\n",
              "  <div id=\"df-54dff991-3395-43fd-b989-08eaf36bc535\" class=\"colab-df-container\">\n",
              "    <div>\n",
              "<style scoped>\n",
              "    .dataframe tbody tr th:only-of-type {\n",
              "        vertical-align: middle;\n",
              "    }\n",
              "\n",
              "    .dataframe tbody tr th {\n",
              "        vertical-align: top;\n",
              "    }\n",
              "\n",
              "    .dataframe thead th {\n",
              "        text-align: right;\n",
              "    }\n",
              "</style>\n",
              "<table border=\"1\" class=\"dataframe\">\n",
              "  <thead>\n",
              "    <tr style=\"text-align: right;\">\n",
              "      <th></th>\n",
              "      <th>count</th>\n",
              "      <th>mean</th>\n",
              "      <th>std</th>\n",
              "      <th>min</th>\n",
              "      <th>25%</th>\n",
              "      <th>50%</th>\n",
              "      <th>75%</th>\n",
              "      <th>max</th>\n",
              "    </tr>\n",
              "    <tr>\n",
              "      <th>label</th>\n",
              "      <th></th>\n",
              "      <th></th>\n",
              "      <th></th>\n",
              "      <th></th>\n",
              "      <th></th>\n",
              "      <th></th>\n",
              "      <th></th>\n",
              "      <th></th>\n",
              "    </tr>\n",
              "  </thead>\n",
              "  <tbody>\n",
              "    <tr>\n",
              "      <th>0</th>\n",
              "      <td>29780.0</td>\n",
              "      <td>9.887811</td>\n",
              "      <td>8.162102</td>\n",
              "      <td>1.0</td>\n",
              "      <td>3.0</td>\n",
              "      <td>8.0</td>\n",
              "      <td>14.0</td>\n",
              "      <td>53.0</td>\n",
              "    </tr>\n",
              "    <tr>\n",
              "      <th>1</th>\n",
              "      <td>37569.0</td>\n",
              "      <td>9.037904</td>\n",
              "      <td>7.991138</td>\n",
              "      <td>1.0</td>\n",
              "      <td>3.0</td>\n",
              "      <td>6.0</td>\n",
              "      <td>13.0</td>\n",
              "      <td>52.0</td>\n",
              "    </tr>\n",
              "  </tbody>\n",
              "</table>\n",
              "</div>\n",
              "    <div class=\"colab-df-buttons\">\n",
              "\n",
              "  <div class=\"colab-df-container\">\n",
              "    <button class=\"colab-df-convert\" onclick=\"convertToInteractive('df-54dff991-3395-43fd-b989-08eaf36bc535')\"\n",
              "            title=\"Convert this dataframe to an interactive table.\"\n",
              "            style=\"display:none;\">\n",
              "\n",
              "  <svg xmlns=\"http://www.w3.org/2000/svg\" height=\"24px\" viewBox=\"0 -960 960 960\">\n",
              "    <path d=\"M120-120v-720h720v720H120Zm60-500h600v-160H180v160Zm220 220h160v-160H400v160Zm0 220h160v-160H400v160ZM180-400h160v-160H180v160Zm440 0h160v-160H620v160ZM180-180h160v-160H180v160Zm440 0h160v-160H620v160Z\"/>\n",
              "  </svg>\n",
              "    </button>\n",
              "\n",
              "  <style>\n",
              "    .colab-df-container {\n",
              "      display:flex;\n",
              "      gap: 12px;\n",
              "    }\n",
              "\n",
              "    .colab-df-convert {\n",
              "      background-color: #E8F0FE;\n",
              "      border: none;\n",
              "      border-radius: 50%;\n",
              "      cursor: pointer;\n",
              "      display: none;\n",
              "      fill: #1967D2;\n",
              "      height: 32px;\n",
              "      padding: 0 0 0 0;\n",
              "      width: 32px;\n",
              "    }\n",
              "\n",
              "    .colab-df-convert:hover {\n",
              "      background-color: #E2EBFA;\n",
              "      box-shadow: 0px 1px 2px rgba(60, 64, 67, 0.3), 0px 1px 3px 1px rgba(60, 64, 67, 0.15);\n",
              "      fill: #174EA6;\n",
              "    }\n",
              "\n",
              "    .colab-df-buttons div {\n",
              "      margin-bottom: 4px;\n",
              "    }\n",
              "\n",
              "    [theme=dark] .colab-df-convert {\n",
              "      background-color: #3B4455;\n",
              "      fill: #D2E3FC;\n",
              "    }\n",
              "\n",
              "    [theme=dark] .colab-df-convert:hover {\n",
              "      background-color: #434B5C;\n",
              "      box-shadow: 0px 1px 3px 1px rgba(0, 0, 0, 0.15);\n",
              "      filter: drop-shadow(0px 1px 2px rgba(0, 0, 0, 0.3));\n",
              "      fill: #FFFFFF;\n",
              "    }\n",
              "  </style>\n",
              "\n",
              "    <script>\n",
              "      const buttonEl =\n",
              "        document.querySelector('#df-54dff991-3395-43fd-b989-08eaf36bc535 button.colab-df-convert');\n",
              "      buttonEl.style.display =\n",
              "        google.colab.kernel.accessAllowed ? 'block' : 'none';\n",
              "\n",
              "      async function convertToInteractive(key) {\n",
              "        const element = document.querySelector('#df-54dff991-3395-43fd-b989-08eaf36bc535');\n",
              "        const dataTable =\n",
              "          await google.colab.kernel.invokeFunction('convertToInteractive',\n",
              "                                                    [key], {});\n",
              "        if (!dataTable) return;\n",
              "\n",
              "        const docLinkHtml = 'Like what you see? Visit the ' +\n",
              "          '<a target=\"_blank\" href=https://colab.research.google.com/notebooks/data_table.ipynb>data table notebook</a>'\n",
              "          + ' to learn more about interactive tables.';\n",
              "        element.innerHTML = '';\n",
              "        dataTable['output_type'] = 'display_data';\n",
              "        await google.colab.output.renderOutput(dataTable, element);\n",
              "        const docLink = document.createElement('div');\n",
              "        docLink.innerHTML = docLinkHtml;\n",
              "        element.appendChild(docLink);\n",
              "      }\n",
              "    </script>\n",
              "  </div>\n",
              "\n",
              "\n",
              "<div id=\"df-c1116d12-1287-4147-8e69-5748453a0312\">\n",
              "  <button class=\"colab-df-quickchart\" onclick=\"quickchart('df-c1116d12-1287-4147-8e69-5748453a0312')\"\n",
              "            title=\"Suggest charts\"\n",
              "            style=\"display:none;\">\n",
              "\n",
              "<svg xmlns=\"http://www.w3.org/2000/svg\" height=\"24px\"viewBox=\"0 0 24 24\"\n",
              "     width=\"24px\">\n",
              "    <g>\n",
              "        <path d=\"M19 3H5c-1.1 0-2 .9-2 2v14c0 1.1.9 2 2 2h14c1.1 0 2-.9 2-2V5c0-1.1-.9-2-2-2zM9 17H7v-7h2v7zm4 0h-2V7h2v10zm4 0h-2v-4h2v4z\"/>\n",
              "    </g>\n",
              "</svg>\n",
              "  </button>\n",
              "\n",
              "<style>\n",
              "  .colab-df-quickchart {\n",
              "      --bg-color: #E8F0FE;\n",
              "      --fill-color: #1967D2;\n",
              "      --hover-bg-color: #E2EBFA;\n",
              "      --hover-fill-color: #174EA6;\n",
              "      --disabled-fill-color: #AAA;\n",
              "      --disabled-bg-color: #DDD;\n",
              "  }\n",
              "\n",
              "  [theme=dark] .colab-df-quickchart {\n",
              "      --bg-color: #3B4455;\n",
              "      --fill-color: #D2E3FC;\n",
              "      --hover-bg-color: #434B5C;\n",
              "      --hover-fill-color: #FFFFFF;\n",
              "      --disabled-bg-color: #3B4455;\n",
              "      --disabled-fill-color: #666;\n",
              "  }\n",
              "\n",
              "  .colab-df-quickchart {\n",
              "    background-color: var(--bg-color);\n",
              "    border: none;\n",
              "    border-radius: 50%;\n",
              "    cursor: pointer;\n",
              "    display: none;\n",
              "    fill: var(--fill-color);\n",
              "    height: 32px;\n",
              "    padding: 0;\n",
              "    width: 32px;\n",
              "  }\n",
              "\n",
              "  .colab-df-quickchart:hover {\n",
              "    background-color: var(--hover-bg-color);\n",
              "    box-shadow: 0 1px 2px rgba(60, 64, 67, 0.3), 0 1px 3px 1px rgba(60, 64, 67, 0.15);\n",
              "    fill: var(--button-hover-fill-color);\n",
              "  }\n",
              "\n",
              "  .colab-df-quickchart-complete:disabled,\n",
              "  .colab-df-quickchart-complete:disabled:hover {\n",
              "    background-color: var(--disabled-bg-color);\n",
              "    fill: var(--disabled-fill-color);\n",
              "    box-shadow: none;\n",
              "  }\n",
              "\n",
              "  .colab-df-spinner {\n",
              "    border: 2px solid var(--fill-color);\n",
              "    border-color: transparent;\n",
              "    border-bottom-color: var(--fill-color);\n",
              "    animation:\n",
              "      spin 1s steps(1) infinite;\n",
              "  }\n",
              "\n",
              "  @keyframes spin {\n",
              "    0% {\n",
              "      border-color: transparent;\n",
              "      border-bottom-color: var(--fill-color);\n",
              "      border-left-color: var(--fill-color);\n",
              "    }\n",
              "    20% {\n",
              "      border-color: transparent;\n",
              "      border-left-color: var(--fill-color);\n",
              "      border-top-color: var(--fill-color);\n",
              "    }\n",
              "    30% {\n",
              "      border-color: transparent;\n",
              "      border-left-color: var(--fill-color);\n",
              "      border-top-color: var(--fill-color);\n",
              "      border-right-color: var(--fill-color);\n",
              "    }\n",
              "    40% {\n",
              "      border-color: transparent;\n",
              "      border-right-color: var(--fill-color);\n",
              "      border-top-color: var(--fill-color);\n",
              "    }\n",
              "    60% {\n",
              "      border-color: transparent;\n",
              "      border-right-color: var(--fill-color);\n",
              "    }\n",
              "    80% {\n",
              "      border-color: transparent;\n",
              "      border-right-color: var(--fill-color);\n",
              "      border-bottom-color: var(--fill-color);\n",
              "    }\n",
              "    90% {\n",
              "      border-color: transparent;\n",
              "      border-bottom-color: var(--fill-color);\n",
              "    }\n",
              "  }\n",
              "</style>\n",
              "\n",
              "  <script>\n",
              "    async function quickchart(key) {\n",
              "      const quickchartButtonEl =\n",
              "        document.querySelector('#' + key + ' button');\n",
              "      quickchartButtonEl.disabled = true;  // To prevent multiple clicks.\n",
              "      quickchartButtonEl.classList.add('colab-df-spinner');\n",
              "      try {\n",
              "        const charts = await google.colab.kernel.invokeFunction(\n",
              "            'suggestCharts', [key], {});\n",
              "      } catch (error) {\n",
              "        console.error('Error during call to suggestCharts:', error);\n",
              "      }\n",
              "      quickchartButtonEl.classList.remove('colab-df-spinner');\n",
              "      quickchartButtonEl.classList.add('colab-df-quickchart-complete');\n",
              "    }\n",
              "    (() => {\n",
              "      let quickchartButtonEl =\n",
              "        document.querySelector('#df-c1116d12-1287-4147-8e69-5748453a0312 button');\n",
              "      quickchartButtonEl.style.display =\n",
              "        google.colab.kernel.accessAllowed ? 'block' : 'none';\n",
              "    })();\n",
              "  </script>\n",
              "</div>\n",
              "    </div>\n",
              "  </div>\n"
            ],
            "application/vnd.google.colaboratory.intrinsic+json": {
              "type": "dataframe",
              "summary": "{\n  \"name\": \"df_text\",\n  \"rows\": 2,\n  \"fields\": [\n    {\n      \"column\": \"label\",\n      \"properties\": {\n        \"dtype\": \"number\",\n        \"std\": 0,\n        \"min\": 0,\n        \"max\": 1,\n        \"num_unique_values\": 2,\n        \"samples\": [\n          1,\n          0\n        ],\n        \"semantic_type\": \"\",\n        \"description\": \"\"\n      }\n    },\n    {\n      \"column\": \"count\",\n      \"properties\": {\n        \"dtype\": \"number\",\n        \"std\": 5507.654718662018,\n        \"min\": 29780.0,\n        \"max\": 37569.0,\n        \"num_unique_values\": 2,\n        \"samples\": [\n          37569.0,\n          29780.0\n        ],\n        \"semantic_type\": \"\",\n        \"description\": \"\"\n      }\n    },\n    {\n      \"column\": \"mean\",\n      \"properties\": {\n        \"dtype\": \"number\",\n        \"std\": 0.6009750175184674,\n        \"min\": 9.037903590726398,\n        \"max\": 9.887810611148423,\n        \"num_unique_values\": 2,\n        \"samples\": [\n          9.037903590726398,\n          9.887810611148423\n        ],\n        \"semantic_type\": \"\",\n        \"description\": \"\"\n      }\n    },\n    {\n      \"column\": \"std\",\n      \"properties\": {\n        \"dtype\": \"number\",\n        \"std\": 0.12088976128291701,\n        \"min\": 7.99113786132802,\n        \"max\": 8.162101801286367,\n        \"num_unique_values\": 2,\n        \"samples\": [\n          7.99113786132802,\n          8.162101801286367\n        ],\n        \"semantic_type\": \"\",\n        \"description\": \"\"\n      }\n    },\n    {\n      \"column\": \"min\",\n      \"properties\": {\n        \"dtype\": \"number\",\n        \"std\": 0.0,\n        \"min\": 1.0,\n        \"max\": 1.0,\n        \"num_unique_values\": 1,\n        \"samples\": [\n          1.0\n        ],\n        \"semantic_type\": \"\",\n        \"description\": \"\"\n      }\n    },\n    {\n      \"column\": \"25%\",\n      \"properties\": {\n        \"dtype\": \"number\",\n        \"std\": 0.0,\n        \"min\": 3.0,\n        \"max\": 3.0,\n        \"num_unique_values\": 1,\n        \"samples\": [\n          3.0\n        ],\n        \"semantic_type\": \"\",\n        \"description\": \"\"\n      }\n    },\n    {\n      \"column\": \"50%\",\n      \"properties\": {\n        \"dtype\": \"number\",\n        \"std\": 1.4142135623730951,\n        \"min\": 6.0,\n        \"max\": 8.0,\n        \"num_unique_values\": 2,\n        \"samples\": [\n          6.0\n        ],\n        \"semantic_type\": \"\",\n        \"description\": \"\"\n      }\n    },\n    {\n      \"column\": \"75%\",\n      \"properties\": {\n        \"dtype\": \"number\",\n        \"std\": 0.7071067811865476,\n        \"min\": 13.0,\n        \"max\": 14.0,\n        \"num_unique_values\": 2,\n        \"samples\": [\n          13.0\n        ],\n        \"semantic_type\": \"\",\n        \"description\": \"\"\n      }\n    },\n    {\n      \"column\": \"max\",\n      \"properties\": {\n        \"dtype\": \"number\",\n        \"std\": 0.7071067811865476,\n        \"min\": 52.0,\n        \"max\": 53.0,\n        \"num_unique_values\": 2,\n        \"samples\": [\n          52.0\n        ],\n        \"semantic_type\": \"\",\n        \"description\": \"\"\n      }\n    }\n  ]\n}"
            }
          },
          "metadata": {},
          "execution_count": 64
        },
        {
          "output_type": "stream",
          "name": "stdout",
          "text": [
            "time: 94.6 ms (started: 2024-05-23 11:37:06 +00:00)\n"
          ]
        }
      ],
      "source": [
        "df_text.groupby(['label'])['words'].describe()"
      ]
    },
    {
      "cell_type": "markdown",
      "metadata": {
        "id": "eXt_MIF9Z2pY"
      },
      "source": [
        "### Number of short reviews\n",
        "\n",
        "We can check the number of short reviews by comparing a threshold:"
      ]
    },
    {
      "cell_type": "code",
      "execution_count": null,
      "metadata": {
        "colab": {
          "base_uri": "https://localhost:8080/"
        },
        "id": "NX9NBHpZaNCG",
        "outputId": "aa9e6fbd-236d-49b7-ef71-c8b7c538ffb8"
      },
      "outputs": [
        {
          "output_type": "execute_result",
          "data": {
            "text/plain": [
              "sentence    63082\n",
              "label       63082\n",
              "words       63082\n",
              "dtype: int64"
            ]
          },
          "metadata": {},
          "execution_count": 68
        },
        {
          "output_type": "stream",
          "name": "stdout",
          "text": [
            "time: 38.8 ms (started: 2024-05-23 11:38:11 +00:00)\n"
          ]
        }
      ],
      "source": [
        "min_review_size = 1\n",
        "df_text[df_text['words']>min_review_size].count()"
      ]
    },
    {
      "cell_type": "markdown",
      "metadata": {
        "id": "kzcBajZr6tLY"
      },
      "source": [
        "### for DL Conv1D"
      ]
    },
    {
      "cell_type": "code",
      "execution_count": null,
      "metadata": {
        "colab": {
          "base_uri": "https://localhost:8080/"
        },
        "id": "oLr3-UEQcQ8b",
        "outputId": "a33e9249-d484-44aa-99c9-431cfa9b0e10"
      },
      "outputs": [
        {
          "output_type": "stream",
          "name": "stdout",
          "text": [
            "time: 764 µs (started: 2024-05-23 11:39:11 +00:00)\n"
          ]
        }
      ],
      "source": [
        "min_review_size = 1\n",
        "max_review_size = 53"
      ]
    },
    {
      "cell_type": "code",
      "execution_count": null,
      "metadata": {
        "colab": {
          "base_uri": "https://localhost:8080/"
        },
        "id": "eM4A0giqdN_c",
        "outputId": "ac83f4ab-5400-42d6-d0a5-72c3406bcd0e"
      },
      "outputs": [
        {
          "output_type": "stream",
          "name": "stdout",
          "text": [
            "time: 14 ms (started: 2024-05-23 11:40:14 +00:00)\n"
          ]
        }
      ],
      "source": [
        "data = df_text[df_text['words']>=min_review_size]"
      ]
    },
    {
      "cell_type": "markdown",
      "metadata": {
        "id": "lZ2iP9i-rG_a"
      },
      "source": [
        "## Analyze the Vocabulary\n",
        "\n"
      ]
    },
    {
      "cell_type": "code",
      "execution_count": null,
      "metadata": {
        "colab": {
          "base_uri": "https://localhost:8080/"
        },
        "id": "iGQUsBmm-Fcm",
        "outputId": "b572da07-4cf2-40fd-bd63-580584ecea14"
      },
      "outputs": [
        {
          "output_type": "stream",
          "name": "stdout",
          "text": [
            "Number of distinct words in raw data: 14816\n",
            "time: 513 ms (started: 2024-05-23 11:40:49 +00:00)\n"
          ]
        }
      ],
      "source": [
        "vocab = {word.lower() for sentence in [x.split() for x in data['sentence'].tolist()] for word in sentence}\n",
        "print(\"Number of distinct words in raw data:\", len(vocab))"
      ]
    },
    {
      "cell_type": "code",
      "execution_count": null,
      "metadata": {
        "colab": {
          "base_uri": "https://localhost:8080/"
        },
        "id": "jK2McU9l8RKK",
        "outputId": "3c3f6908-a697-46d0-cabb-5fb1597fe2ba"
      },
      "outputs": [
        {
          "output_type": "stream",
          "name": "stdout",
          "text": [
            "time: 653 µs (started: 2024-05-23 11:41:28 +00:00)\n"
          ]
        }
      ],
      "source": [
        "vocab_size = len(vocab)"
      ]
    },
    {
      "cell_type": "markdown",
      "metadata": {
        "id": "4RF5brmFLRK6"
      },
      "source": [
        "### Count the frequency of words in the raw dataset"
      ]
    },
    {
      "cell_type": "code",
      "execution_count": null,
      "metadata": {
        "colab": {
          "base_uri": "https://localhost:8080/"
        },
        "id": "Waq9fPRzDw-G",
        "outputId": "137533a9-131a-4ffd-e97a-878272436fa7"
      },
      "outputs": [
        {
          "output_type": "stream",
          "name": "stdout",
          "text": [
            "time: 4.45 s (started: 2024-05-23 11:42:18 +00:00)\n"
          ]
        }
      ],
      "source": [
        "word_freq = (\n",
        "    data.sentence.str.split(expand=True)\n",
        "    .stack()\n",
        "    .value_counts()\n",
        "    .reset_index(name='freq')\n",
        "    .rename(columns={'index': 'word'})\n",
        ")"
      ]
    },
    {
      "cell_type": "markdown",
      "metadata": {
        "id": "wluCG-7pfW82"
      },
      "source": [
        "# PREPARE THE DATASET"
      ]
    },
    {
      "cell_type": "code",
      "execution_count": null,
      "metadata": {
        "colab": {
          "base_uri": "https://localhost:8080/"
        },
        "id": "DMVvmYHmlbKS",
        "outputId": "208c83fb-1438-4030-be66-89f03b8c12b9"
      },
      "outputs": [
        {
          "output_type": "stream",
          "name": "stdout",
          "text": [
            "<class 'pandas.core.frame.DataFrame'>\n",
            "RangeIndex: 67349 entries, 0 to 67348\n",
            "Data columns (total 3 columns):\n",
            " #   Column    Non-Null Count  Dtype \n",
            "---  ------    --------------  ----- \n",
            " 0   sentence  67349 non-null  object\n",
            " 1   label     67349 non-null  int64 \n",
            " 2   words     67349 non-null  int64 \n",
            "dtypes: int64(2), object(1)\n",
            "memory usage: 1.5+ MB\n",
            "time: 38.6 ms (started: 2024-05-23 11:43:10 +00:00)\n"
          ]
        }
      ],
      "source": [
        "data.info()"
      ]
    },
    {
      "cell_type": "code",
      "execution_count": null,
      "metadata": {
        "colab": {
          "base_uri": "https://localhost:8080/",
          "height": 318
        },
        "id": "MJO2u1v83UIQ",
        "outputId": "e4de57d3-a6f4-4acd-9dce-9953990ab35b"
      },
      "outputs": [
        {
          "output_type": "execute_result",
          "data": {
            "text/plain": [
              "              label         words\n",
              "count  67349.000000  67349.000000\n",
              "mean       0.557826      9.413711\n",
              "std        0.496649      8.078156\n",
              "min        0.000000      1.000000\n",
              "25%        0.000000      3.000000\n",
              "50%        1.000000      7.000000\n",
              "75%        1.000000     13.000000\n",
              "max        1.000000     53.000000"
            ],
            "text/html": [
              "\n",
              "  <div id=\"df-85975289-783d-4bd7-9993-eb4c2ecbee3c\" class=\"colab-df-container\">\n",
              "    <div>\n",
              "<style scoped>\n",
              "    .dataframe tbody tr th:only-of-type {\n",
              "        vertical-align: middle;\n",
              "    }\n",
              "\n",
              "    .dataframe tbody tr th {\n",
              "        vertical-align: top;\n",
              "    }\n",
              "\n",
              "    .dataframe thead th {\n",
              "        text-align: right;\n",
              "    }\n",
              "</style>\n",
              "<table border=\"1\" class=\"dataframe\">\n",
              "  <thead>\n",
              "    <tr style=\"text-align: right;\">\n",
              "      <th></th>\n",
              "      <th>label</th>\n",
              "      <th>words</th>\n",
              "    </tr>\n",
              "  </thead>\n",
              "  <tbody>\n",
              "    <tr>\n",
              "      <th>count</th>\n",
              "      <td>67349.000000</td>\n",
              "      <td>67349.000000</td>\n",
              "    </tr>\n",
              "    <tr>\n",
              "      <th>mean</th>\n",
              "      <td>0.557826</td>\n",
              "      <td>9.413711</td>\n",
              "    </tr>\n",
              "    <tr>\n",
              "      <th>std</th>\n",
              "      <td>0.496649</td>\n",
              "      <td>8.078156</td>\n",
              "    </tr>\n",
              "    <tr>\n",
              "      <th>min</th>\n",
              "      <td>0.000000</td>\n",
              "      <td>1.000000</td>\n",
              "    </tr>\n",
              "    <tr>\n",
              "      <th>25%</th>\n",
              "      <td>0.000000</td>\n",
              "      <td>3.000000</td>\n",
              "    </tr>\n",
              "    <tr>\n",
              "      <th>50%</th>\n",
              "      <td>1.000000</td>\n",
              "      <td>7.000000</td>\n",
              "    </tr>\n",
              "    <tr>\n",
              "      <th>75%</th>\n",
              "      <td>1.000000</td>\n",
              "      <td>13.000000</td>\n",
              "    </tr>\n",
              "    <tr>\n",
              "      <th>max</th>\n",
              "      <td>1.000000</td>\n",
              "      <td>53.000000</td>\n",
              "    </tr>\n",
              "  </tbody>\n",
              "</table>\n",
              "</div>\n",
              "    <div class=\"colab-df-buttons\">\n",
              "\n",
              "  <div class=\"colab-df-container\">\n",
              "    <button class=\"colab-df-convert\" onclick=\"convertToInteractive('df-85975289-783d-4bd7-9993-eb4c2ecbee3c')\"\n",
              "            title=\"Convert this dataframe to an interactive table.\"\n",
              "            style=\"display:none;\">\n",
              "\n",
              "  <svg xmlns=\"http://www.w3.org/2000/svg\" height=\"24px\" viewBox=\"0 -960 960 960\">\n",
              "    <path d=\"M120-120v-720h720v720H120Zm60-500h600v-160H180v160Zm220 220h160v-160H400v160Zm0 220h160v-160H400v160ZM180-400h160v-160H180v160Zm440 0h160v-160H620v160ZM180-180h160v-160H180v160Zm440 0h160v-160H620v160Z\"/>\n",
              "  </svg>\n",
              "    </button>\n",
              "\n",
              "  <style>\n",
              "    .colab-df-container {\n",
              "      display:flex;\n",
              "      gap: 12px;\n",
              "    }\n",
              "\n",
              "    .colab-df-convert {\n",
              "      background-color: #E8F0FE;\n",
              "      border: none;\n",
              "      border-radius: 50%;\n",
              "      cursor: pointer;\n",
              "      display: none;\n",
              "      fill: #1967D2;\n",
              "      height: 32px;\n",
              "      padding: 0 0 0 0;\n",
              "      width: 32px;\n",
              "    }\n",
              "\n",
              "    .colab-df-convert:hover {\n",
              "      background-color: #E2EBFA;\n",
              "      box-shadow: 0px 1px 2px rgba(60, 64, 67, 0.3), 0px 1px 3px 1px rgba(60, 64, 67, 0.15);\n",
              "      fill: #174EA6;\n",
              "    }\n",
              "\n",
              "    .colab-df-buttons div {\n",
              "      margin-bottom: 4px;\n",
              "    }\n",
              "\n",
              "    [theme=dark] .colab-df-convert {\n",
              "      background-color: #3B4455;\n",
              "      fill: #D2E3FC;\n",
              "    }\n",
              "\n",
              "    [theme=dark] .colab-df-convert:hover {\n",
              "      background-color: #434B5C;\n",
              "      box-shadow: 0px 1px 3px 1px rgba(0, 0, 0, 0.15);\n",
              "      filter: drop-shadow(0px 1px 2px rgba(0, 0, 0, 0.3));\n",
              "      fill: #FFFFFF;\n",
              "    }\n",
              "  </style>\n",
              "\n",
              "    <script>\n",
              "      const buttonEl =\n",
              "        document.querySelector('#df-85975289-783d-4bd7-9993-eb4c2ecbee3c button.colab-df-convert');\n",
              "      buttonEl.style.display =\n",
              "        google.colab.kernel.accessAllowed ? 'block' : 'none';\n",
              "\n",
              "      async function convertToInteractive(key) {\n",
              "        const element = document.querySelector('#df-85975289-783d-4bd7-9993-eb4c2ecbee3c');\n",
              "        const dataTable =\n",
              "          await google.colab.kernel.invokeFunction('convertToInteractive',\n",
              "                                                    [key], {});\n",
              "        if (!dataTable) return;\n",
              "\n",
              "        const docLinkHtml = 'Like what you see? Visit the ' +\n",
              "          '<a target=\"_blank\" href=https://colab.research.google.com/notebooks/data_table.ipynb>data table notebook</a>'\n",
              "          + ' to learn more about interactive tables.';\n",
              "        element.innerHTML = '';\n",
              "        dataTable['output_type'] = 'display_data';\n",
              "        await google.colab.output.renderOutput(dataTable, element);\n",
              "        const docLink = document.createElement('div');\n",
              "        docLink.innerHTML = docLinkHtml;\n",
              "        element.appendChild(docLink);\n",
              "      }\n",
              "    </script>\n",
              "  </div>\n",
              "\n",
              "\n",
              "<div id=\"df-3d05a1fb-593d-4529-a3c0-5500f968d173\">\n",
              "  <button class=\"colab-df-quickchart\" onclick=\"quickchart('df-3d05a1fb-593d-4529-a3c0-5500f968d173')\"\n",
              "            title=\"Suggest charts\"\n",
              "            style=\"display:none;\">\n",
              "\n",
              "<svg xmlns=\"http://www.w3.org/2000/svg\" height=\"24px\"viewBox=\"0 0 24 24\"\n",
              "     width=\"24px\">\n",
              "    <g>\n",
              "        <path d=\"M19 3H5c-1.1 0-2 .9-2 2v14c0 1.1.9 2 2 2h14c1.1 0 2-.9 2-2V5c0-1.1-.9-2-2-2zM9 17H7v-7h2v7zm4 0h-2V7h2v10zm4 0h-2v-4h2v4z\"/>\n",
              "    </g>\n",
              "</svg>\n",
              "  </button>\n",
              "\n",
              "<style>\n",
              "  .colab-df-quickchart {\n",
              "      --bg-color: #E8F0FE;\n",
              "      --fill-color: #1967D2;\n",
              "      --hover-bg-color: #E2EBFA;\n",
              "      --hover-fill-color: #174EA6;\n",
              "      --disabled-fill-color: #AAA;\n",
              "      --disabled-bg-color: #DDD;\n",
              "  }\n",
              "\n",
              "  [theme=dark] .colab-df-quickchart {\n",
              "      --bg-color: #3B4455;\n",
              "      --fill-color: #D2E3FC;\n",
              "      --hover-bg-color: #434B5C;\n",
              "      --hover-fill-color: #FFFFFF;\n",
              "      --disabled-bg-color: #3B4455;\n",
              "      --disabled-fill-color: #666;\n",
              "  }\n",
              "\n",
              "  .colab-df-quickchart {\n",
              "    background-color: var(--bg-color);\n",
              "    border: none;\n",
              "    border-radius: 50%;\n",
              "    cursor: pointer;\n",
              "    display: none;\n",
              "    fill: var(--fill-color);\n",
              "    height: 32px;\n",
              "    padding: 0;\n",
              "    width: 32px;\n",
              "  }\n",
              "\n",
              "  .colab-df-quickchart:hover {\n",
              "    background-color: var(--hover-bg-color);\n",
              "    box-shadow: 0 1px 2px rgba(60, 64, 67, 0.3), 0 1px 3px 1px rgba(60, 64, 67, 0.15);\n",
              "    fill: var(--button-hover-fill-color);\n",
              "  }\n",
              "\n",
              "  .colab-df-quickchart-complete:disabled,\n",
              "  .colab-df-quickchart-complete:disabled:hover {\n",
              "    background-color: var(--disabled-bg-color);\n",
              "    fill: var(--disabled-fill-color);\n",
              "    box-shadow: none;\n",
              "  }\n",
              "\n",
              "  .colab-df-spinner {\n",
              "    border: 2px solid var(--fill-color);\n",
              "    border-color: transparent;\n",
              "    border-bottom-color: var(--fill-color);\n",
              "    animation:\n",
              "      spin 1s steps(1) infinite;\n",
              "  }\n",
              "\n",
              "  @keyframes spin {\n",
              "    0% {\n",
              "      border-color: transparent;\n",
              "      border-bottom-color: var(--fill-color);\n",
              "      border-left-color: var(--fill-color);\n",
              "    }\n",
              "    20% {\n",
              "      border-color: transparent;\n",
              "      border-left-color: var(--fill-color);\n",
              "      border-top-color: var(--fill-color);\n",
              "    }\n",
              "    30% {\n",
              "      border-color: transparent;\n",
              "      border-left-color: var(--fill-color);\n",
              "      border-top-color: var(--fill-color);\n",
              "      border-right-color: var(--fill-color);\n",
              "    }\n",
              "    40% {\n",
              "      border-color: transparent;\n",
              "      border-right-color: var(--fill-color);\n",
              "      border-top-color: var(--fill-color);\n",
              "    }\n",
              "    60% {\n",
              "      border-color: transparent;\n",
              "      border-right-color: var(--fill-color);\n",
              "    }\n",
              "    80% {\n",
              "      border-color: transparent;\n",
              "      border-right-color: var(--fill-color);\n",
              "      border-bottom-color: var(--fill-color);\n",
              "    }\n",
              "    90% {\n",
              "      border-color: transparent;\n",
              "      border-bottom-color: var(--fill-color);\n",
              "    }\n",
              "  }\n",
              "</style>\n",
              "\n",
              "  <script>\n",
              "    async function quickchart(key) {\n",
              "      const quickchartButtonEl =\n",
              "        document.querySelector('#' + key + ' button');\n",
              "      quickchartButtonEl.disabled = true;  // To prevent multiple clicks.\n",
              "      quickchartButtonEl.classList.add('colab-df-spinner');\n",
              "      try {\n",
              "        const charts = await google.colab.kernel.invokeFunction(\n",
              "            'suggestCharts', [key], {});\n",
              "      } catch (error) {\n",
              "        console.error('Error during call to suggestCharts:', error);\n",
              "      }\n",
              "      quickchartButtonEl.classList.remove('colab-df-spinner');\n",
              "      quickchartButtonEl.classList.add('colab-df-quickchart-complete');\n",
              "    }\n",
              "    (() => {\n",
              "      let quickchartButtonEl =\n",
              "        document.querySelector('#df-3d05a1fb-593d-4529-a3c0-5500f968d173 button');\n",
              "      quickchartButtonEl.style.display =\n",
              "        google.colab.kernel.accessAllowed ? 'block' : 'none';\n",
              "    })();\n",
              "  </script>\n",
              "</div>\n",
              "    </div>\n",
              "  </div>\n"
            ],
            "application/vnd.google.colaboratory.intrinsic+json": {
              "type": "dataframe",
              "summary": "{\n  \"name\": \"data\",\n  \"rows\": 8,\n  \"fields\": [\n    {\n      \"column\": \"label\",\n      \"properties\": {\n        \"dtype\": \"number\",\n        \"std\": 23811.262524818954,\n        \"min\": 0.0,\n        \"max\": 67349.0,\n        \"num_unique_values\": 5,\n        \"samples\": [\n          0.5578256544269403,\n          1.0,\n          0.49664862438462476\n        ],\n        \"semantic_type\": \"\",\n        \"description\": \"\"\n      }\n    },\n    {\n      \"column\": \"words\",\n      \"properties\": {\n        \"dtype\": \"number\",\n        \"std\": 23806.700489803592,\n        \"min\": 1.0,\n        \"max\": 67349.0,\n        \"num_unique_values\": 8,\n        \"samples\": [\n          9.413710671279455,\n          7.0,\n          67349.0\n        ],\n        \"semantic_type\": \"\",\n        \"description\": \"\"\n      }\n    }\n  ]\n}"
            }
          },
          "metadata": {},
          "execution_count": 84
        },
        {
          "output_type": "stream",
          "name": "stdout",
          "text": [
            "time: 41.1 ms (started: 2024-05-23 11:43:18 +00:00)\n"
          ]
        }
      ],
      "source": [
        "data.describe()"
      ]
    },
    {
      "cell_type": "code",
      "execution_count": null,
      "metadata": {
        "colab": {
          "base_uri": "https://localhost:8080/"
        },
        "id": "VAIVvhLjlvYt",
        "outputId": "e85d69ca-e05b-4a87-aa5c-0b354cdb0ad3"
      },
      "outputs": [
        {
          "output_type": "stream",
          "name": "stdout",
          "text": [
            "time: 12.3 ms (started: 2024-05-23 11:43:24 +00:00)\n"
          ]
        }
      ],
      "source": [
        "data = data.sample(frac=1)"
      ]
    },
    {
      "cell_type": "code",
      "source": [
        "data['sentiment'] = np.where(data['label'] == 0, 'negative', 'positive')"
      ],
      "metadata": {
        "colab": {
          "base_uri": "https://localhost:8080/"
        },
        "id": "XNdk5d5XRg0Q",
        "outputId": "73a2af46-de6d-489c-f0c8-3442952ff682"
      },
      "execution_count": null,
      "outputs": [
        {
          "output_type": "stream",
          "name": "stdout",
          "text": [
            "time: 34.3 ms (started: 2024-05-23 11:47:57 +00:00)\n"
          ]
        }
      ]
    },
    {
      "cell_type": "code",
      "execution_count": null,
      "metadata": {
        "colab": {
          "base_uri": "https://localhost:8080/"
        },
        "id": "K3wnpmqwbMK-",
        "outputId": "3b0f3697-54df-4dfc-9228-267c9beb5b76"
      },
      "outputs": [
        {
          "output_type": "execute_result",
          "data": {
            "text/plain": [
              "sentence       object\n",
              "label           int64\n",
              "words           int64\n",
              "sentiment    category\n",
              "dtype: object"
            ]
          },
          "metadata": {},
          "execution_count": 95
        },
        {
          "output_type": "stream",
          "name": "stdout",
          "text": [
            "time: 15.6 ms (started: 2024-05-23 11:49:02 +00:00)\n"
          ]
        }
      ],
      "source": [
        "data[\"sentiment\"] = data[\"sentiment\"].astype('category')\n",
        "data[\"label\"] = data[\"label\"].astype('int')\n",
        "data.dtypes"
      ]
    },
    {
      "cell_type": "code",
      "execution_count": null,
      "metadata": {
        "colab": {
          "base_uri": "https://localhost:8080/",
          "height": 224
        },
        "id": "qKIJPKldcohH",
        "outputId": "d45bcb46-0c98-4840-c6bb-86f8c8c9d4eb"
      },
      "outputs": [
        {
          "output_type": "execute_result",
          "data": {
            "text/plain": [
              "                                                sentence  label  words  \\\n",
              "32442                                     or `` suck ''       0      4   \n",
              "32720  mindless without being the peak of all things ...      0      9   \n",
              "20461  eschews the previous film 's historical panora...      0     16   \n",
              "9858   , having sucked dry the undead action flick fo...      0     27   \n",
              "11156  the imax screen enhances the personal touch of...      1     11   \n",
              "\n",
              "      sentiment  sentiment_id  \n",
              "32442  negative             0  \n",
              "32720  negative             0  \n",
              "20461  negative             0  \n",
              "9858   negative             0  \n",
              "11156  positive             1  "
            ],
            "text/html": [
              "\n",
              "  <div id=\"df-f46e51e2-0df6-4745-a242-05ce76f4e685\" class=\"colab-df-container\">\n",
              "    <div>\n",
              "<style scoped>\n",
              "    .dataframe tbody tr th:only-of-type {\n",
              "        vertical-align: middle;\n",
              "    }\n",
              "\n",
              "    .dataframe tbody tr th {\n",
              "        vertical-align: top;\n",
              "    }\n",
              "\n",
              "    .dataframe thead th {\n",
              "        text-align: right;\n",
              "    }\n",
              "</style>\n",
              "<table border=\"1\" class=\"dataframe\">\n",
              "  <thead>\n",
              "    <tr style=\"text-align: right;\">\n",
              "      <th></th>\n",
              "      <th>sentence</th>\n",
              "      <th>label</th>\n",
              "      <th>words</th>\n",
              "      <th>sentiment</th>\n",
              "      <th>sentiment_id</th>\n",
              "    </tr>\n",
              "  </thead>\n",
              "  <tbody>\n",
              "    <tr>\n",
              "      <th>32442</th>\n",
              "      <td>or `` suck ''</td>\n",
              "      <td>0</td>\n",
              "      <td>4</td>\n",
              "      <td>negative</td>\n",
              "      <td>0</td>\n",
              "    </tr>\n",
              "    <tr>\n",
              "      <th>32720</th>\n",
              "      <td>mindless without being the peak of all things ...</td>\n",
              "      <td>0</td>\n",
              "      <td>9</td>\n",
              "      <td>negative</td>\n",
              "      <td>0</td>\n",
              "    </tr>\n",
              "    <tr>\n",
              "      <th>20461</th>\n",
              "      <td>eschews the previous film 's historical panora...</td>\n",
              "      <td>0</td>\n",
              "      <td>16</td>\n",
              "      <td>negative</td>\n",
              "      <td>0</td>\n",
              "    </tr>\n",
              "    <tr>\n",
              "      <th>9858</th>\n",
              "      <td>, having sucked dry the undead action flick fo...</td>\n",
              "      <td>0</td>\n",
              "      <td>27</td>\n",
              "      <td>negative</td>\n",
              "      <td>0</td>\n",
              "    </tr>\n",
              "    <tr>\n",
              "      <th>11156</th>\n",
              "      <td>the imax screen enhances the personal touch of...</td>\n",
              "      <td>1</td>\n",
              "      <td>11</td>\n",
              "      <td>positive</td>\n",
              "      <td>1</td>\n",
              "    </tr>\n",
              "  </tbody>\n",
              "</table>\n",
              "</div>\n",
              "    <div class=\"colab-df-buttons\">\n",
              "\n",
              "  <div class=\"colab-df-container\">\n",
              "    <button class=\"colab-df-convert\" onclick=\"convertToInteractive('df-f46e51e2-0df6-4745-a242-05ce76f4e685')\"\n",
              "            title=\"Convert this dataframe to an interactive table.\"\n",
              "            style=\"display:none;\">\n",
              "\n",
              "  <svg xmlns=\"http://www.w3.org/2000/svg\" height=\"24px\" viewBox=\"0 -960 960 960\">\n",
              "    <path d=\"M120-120v-720h720v720H120Zm60-500h600v-160H180v160Zm220 220h160v-160H400v160Zm0 220h160v-160H400v160ZM180-400h160v-160H180v160Zm440 0h160v-160H620v160ZM180-180h160v-160H180v160Zm440 0h160v-160H620v160Z\"/>\n",
              "  </svg>\n",
              "    </button>\n",
              "\n",
              "  <style>\n",
              "    .colab-df-container {\n",
              "      display:flex;\n",
              "      gap: 12px;\n",
              "    }\n",
              "\n",
              "    .colab-df-convert {\n",
              "      background-color: #E8F0FE;\n",
              "      border: none;\n",
              "      border-radius: 50%;\n",
              "      cursor: pointer;\n",
              "      display: none;\n",
              "      fill: #1967D2;\n",
              "      height: 32px;\n",
              "      padding: 0 0 0 0;\n",
              "      width: 32px;\n",
              "    }\n",
              "\n",
              "    .colab-df-convert:hover {\n",
              "      background-color: #E2EBFA;\n",
              "      box-shadow: 0px 1px 2px rgba(60, 64, 67, 0.3), 0px 1px 3px 1px rgba(60, 64, 67, 0.15);\n",
              "      fill: #174EA6;\n",
              "    }\n",
              "\n",
              "    .colab-df-buttons div {\n",
              "      margin-bottom: 4px;\n",
              "    }\n",
              "\n",
              "    [theme=dark] .colab-df-convert {\n",
              "      background-color: #3B4455;\n",
              "      fill: #D2E3FC;\n",
              "    }\n",
              "\n",
              "    [theme=dark] .colab-df-convert:hover {\n",
              "      background-color: #434B5C;\n",
              "      box-shadow: 0px 1px 3px 1px rgba(0, 0, 0, 0.15);\n",
              "      filter: drop-shadow(0px 1px 2px rgba(0, 0, 0, 0.3));\n",
              "      fill: #FFFFFF;\n",
              "    }\n",
              "  </style>\n",
              "\n",
              "    <script>\n",
              "      const buttonEl =\n",
              "        document.querySelector('#df-f46e51e2-0df6-4745-a242-05ce76f4e685 button.colab-df-convert');\n",
              "      buttonEl.style.display =\n",
              "        google.colab.kernel.accessAllowed ? 'block' : 'none';\n",
              "\n",
              "      async function convertToInteractive(key) {\n",
              "        const element = document.querySelector('#df-f46e51e2-0df6-4745-a242-05ce76f4e685');\n",
              "        const dataTable =\n",
              "          await google.colab.kernel.invokeFunction('convertToInteractive',\n",
              "                                                    [key], {});\n",
              "        if (!dataTable) return;\n",
              "\n",
              "        const docLinkHtml = 'Like what you see? Visit the ' +\n",
              "          '<a target=\"_blank\" href=https://colab.research.google.com/notebooks/data_table.ipynb>data table notebook</a>'\n",
              "          + ' to learn more about interactive tables.';\n",
              "        element.innerHTML = '';\n",
              "        dataTable['output_type'] = 'display_data';\n",
              "        await google.colab.output.renderOutput(dataTable, element);\n",
              "        const docLink = document.createElement('div');\n",
              "        docLink.innerHTML = docLinkHtml;\n",
              "        element.appendChild(docLink);\n",
              "      }\n",
              "    </script>\n",
              "  </div>\n",
              "\n",
              "\n",
              "<div id=\"df-fe98758a-a4ee-424b-9bb3-049a1187e0a4\">\n",
              "  <button class=\"colab-df-quickchart\" onclick=\"quickchart('df-fe98758a-a4ee-424b-9bb3-049a1187e0a4')\"\n",
              "            title=\"Suggest charts\"\n",
              "            style=\"display:none;\">\n",
              "\n",
              "<svg xmlns=\"http://www.w3.org/2000/svg\" height=\"24px\"viewBox=\"0 0 24 24\"\n",
              "     width=\"24px\">\n",
              "    <g>\n",
              "        <path d=\"M19 3H5c-1.1 0-2 .9-2 2v14c0 1.1.9 2 2 2h14c1.1 0 2-.9 2-2V5c0-1.1-.9-2-2-2zM9 17H7v-7h2v7zm4 0h-2V7h2v10zm4 0h-2v-4h2v4z\"/>\n",
              "    </g>\n",
              "</svg>\n",
              "  </button>\n",
              "\n",
              "<style>\n",
              "  .colab-df-quickchart {\n",
              "      --bg-color: #E8F0FE;\n",
              "      --fill-color: #1967D2;\n",
              "      --hover-bg-color: #E2EBFA;\n",
              "      --hover-fill-color: #174EA6;\n",
              "      --disabled-fill-color: #AAA;\n",
              "      --disabled-bg-color: #DDD;\n",
              "  }\n",
              "\n",
              "  [theme=dark] .colab-df-quickchart {\n",
              "      --bg-color: #3B4455;\n",
              "      --fill-color: #D2E3FC;\n",
              "      --hover-bg-color: #434B5C;\n",
              "      --hover-fill-color: #FFFFFF;\n",
              "      --disabled-bg-color: #3B4455;\n",
              "      --disabled-fill-color: #666;\n",
              "  }\n",
              "\n",
              "  .colab-df-quickchart {\n",
              "    background-color: var(--bg-color);\n",
              "    border: none;\n",
              "    border-radius: 50%;\n",
              "    cursor: pointer;\n",
              "    display: none;\n",
              "    fill: var(--fill-color);\n",
              "    height: 32px;\n",
              "    padding: 0;\n",
              "    width: 32px;\n",
              "  }\n",
              "\n",
              "  .colab-df-quickchart:hover {\n",
              "    background-color: var(--hover-bg-color);\n",
              "    box-shadow: 0 1px 2px rgba(60, 64, 67, 0.3), 0 1px 3px 1px rgba(60, 64, 67, 0.15);\n",
              "    fill: var(--button-hover-fill-color);\n",
              "  }\n",
              "\n",
              "  .colab-df-quickchart-complete:disabled,\n",
              "  .colab-df-quickchart-complete:disabled:hover {\n",
              "    background-color: var(--disabled-bg-color);\n",
              "    fill: var(--disabled-fill-color);\n",
              "    box-shadow: none;\n",
              "  }\n",
              "\n",
              "  .colab-df-spinner {\n",
              "    border: 2px solid var(--fill-color);\n",
              "    border-color: transparent;\n",
              "    border-bottom-color: var(--fill-color);\n",
              "    animation:\n",
              "      spin 1s steps(1) infinite;\n",
              "  }\n",
              "\n",
              "  @keyframes spin {\n",
              "    0% {\n",
              "      border-color: transparent;\n",
              "      border-bottom-color: var(--fill-color);\n",
              "      border-left-color: var(--fill-color);\n",
              "    }\n",
              "    20% {\n",
              "      border-color: transparent;\n",
              "      border-left-color: var(--fill-color);\n",
              "      border-top-color: var(--fill-color);\n",
              "    }\n",
              "    30% {\n",
              "      border-color: transparent;\n",
              "      border-left-color: var(--fill-color);\n",
              "      border-top-color: var(--fill-color);\n",
              "      border-right-color: var(--fill-color);\n",
              "    }\n",
              "    40% {\n",
              "      border-color: transparent;\n",
              "      border-right-color: var(--fill-color);\n",
              "      border-top-color: var(--fill-color);\n",
              "    }\n",
              "    60% {\n",
              "      border-color: transparent;\n",
              "      border-right-color: var(--fill-color);\n",
              "    }\n",
              "    80% {\n",
              "      border-color: transparent;\n",
              "      border-right-color: var(--fill-color);\n",
              "      border-bottom-color: var(--fill-color);\n",
              "    }\n",
              "    90% {\n",
              "      border-color: transparent;\n",
              "      border-bottom-color: var(--fill-color);\n",
              "    }\n",
              "  }\n",
              "</style>\n",
              "\n",
              "  <script>\n",
              "    async function quickchart(key) {\n",
              "      const quickchartButtonEl =\n",
              "        document.querySelector('#' + key + ' button');\n",
              "      quickchartButtonEl.disabled = true;  // To prevent multiple clicks.\n",
              "      quickchartButtonEl.classList.add('colab-df-spinner');\n",
              "      try {\n",
              "        const charts = await google.colab.kernel.invokeFunction(\n",
              "            'suggestCharts', [key], {});\n",
              "      } catch (error) {\n",
              "        console.error('Error during call to suggestCharts:', error);\n",
              "      }\n",
              "      quickchartButtonEl.classList.remove('colab-df-spinner');\n",
              "      quickchartButtonEl.classList.add('colab-df-quickchart-complete');\n",
              "    }\n",
              "    (() => {\n",
              "      let quickchartButtonEl =\n",
              "        document.querySelector('#df-fe98758a-a4ee-424b-9bb3-049a1187e0a4 button');\n",
              "      quickchartButtonEl.style.display =\n",
              "        google.colab.kernel.accessAllowed ? 'block' : 'none';\n",
              "    })();\n",
              "  </script>\n",
              "</div>\n",
              "    </div>\n",
              "  </div>\n"
            ],
            "application/vnd.google.colaboratory.intrinsic+json": {
              "type": "dataframe",
              "summary": "{\n  \"name\": \"data\",\n  \"rows\": 5,\n  \"fields\": [\n    {\n      \"column\": \"sentence\",\n      \"properties\": {\n        \"dtype\": \"string\",\n        \"num_unique_values\": 5,\n        \"samples\": [\n          \"mindless without being the peak of all things insipid \",\n          \"the imax screen enhances the personal touch of manual animation . \",\n          \"eschews the previous film 's historical panorama and roiling pathos for bug-eyed mugging and gay-niche condescension \"\n        ],\n        \"semantic_type\": \"\",\n        \"description\": \"\"\n      }\n    },\n    {\n      \"column\": \"label\",\n      \"properties\": {\n        \"dtype\": \"number\",\n        \"std\": 0,\n        \"min\": 0,\n        \"max\": 1,\n        \"num_unique_values\": 2,\n        \"samples\": [\n          1,\n          0\n        ],\n        \"semantic_type\": \"\",\n        \"description\": \"\"\n      }\n    },\n    {\n      \"column\": \"words\",\n      \"properties\": {\n        \"dtype\": \"number\",\n        \"std\": 8,\n        \"min\": 4,\n        \"max\": 27,\n        \"num_unique_values\": 5,\n        \"samples\": [\n          9,\n          11\n        ],\n        \"semantic_type\": \"\",\n        \"description\": \"\"\n      }\n    },\n    {\n      \"column\": \"sentiment\",\n      \"properties\": {\n        \"dtype\": \"category\",\n        \"num_unique_values\": 2,\n        \"samples\": [\n          \"positive\",\n          \"negative\"\n        ],\n        \"semantic_type\": \"\",\n        \"description\": \"\"\n      }\n    },\n    {\n      \"column\": \"sentiment_id\",\n      \"properties\": {\n        \"dtype\": \"int8\",\n        \"num_unique_values\": 2,\n        \"samples\": [\n          1,\n          0\n        ],\n        \"semantic_type\": \"\",\n        \"description\": \"\"\n      }\n    }\n  ]\n}"
            }
          },
          "metadata": {},
          "execution_count": 97
        },
        {
          "output_type": "stream",
          "name": "stdout",
          "text": [
            "time: 45.8 ms (started: 2024-05-23 11:50:34 +00:00)\n"
          ]
        }
      ],
      "source": [
        "data[\"sentiment_id\"] = data[\"sentiment\"].cat.codes\n",
        "data.tail()"
      ]
    },
    {
      "cell_type": "markdown",
      "metadata": {
        "id": "FZAJct7ZmKzo"
      },
      "source": [
        "## Build a Dictionary for id to text sentiments:"
      ]
    },
    {
      "cell_type": "code",
      "execution_count": null,
      "metadata": {
        "colab": {
          "base_uri": "https://localhost:8080/"
        },
        "id": "a_aImG2odN4m",
        "outputId": "c9c7118b-7cc3-4c78-b49e-8a47b8cfb732"
      },
      "outputs": [
        {
          "output_type": "execute_result",
          "data": {
            "text/plain": [
              "{1: 'positive', 0: 'negative'}"
            ]
          },
          "metadata": {},
          "execution_count": 98
        },
        {
          "output_type": "stream",
          "name": "stdout",
          "text": [
            "time: 106 ms (started: 2024-05-23 11:50:52 +00:00)\n"
          ]
        }
      ],
      "source": [
        "id_to_sentiment = pd.Series(data.sentiment.values,index=data.sentiment_id).to_dict()\n",
        "id_to_sentiment"
      ]
    },
    {
      "cell_type": "markdown",
      "metadata": {
        "id": "biZu_Tv8mYnf"
      },
      "source": [
        "## Build another Dictionary for sentiments to text:"
      ]
    },
    {
      "cell_type": "code",
      "execution_count": null,
      "metadata": {
        "colab": {
          "base_uri": "https://localhost:8080/"
        },
        "id": "_Sqjaeasdgy7",
        "outputId": "9465b0f8-d4db-4815-8c38-5f9f62db1505"
      },
      "outputs": [
        {
          "output_type": "execute_result",
          "data": {
            "text/plain": [
              "{'positive': 1, 'negative': 0}"
            ]
          },
          "metadata": {},
          "execution_count": 100
        },
        {
          "output_type": "stream",
          "name": "stdout",
          "text": [
            "time: 3.29 ms (started: 2024-05-23 12:22:10 +00:00)\n"
          ]
        }
      ],
      "source": [
        "sentiment_to_id = {v:k for k,v in id_to_sentiment.items()}\n",
        "sentiment_to_id"
      ]
    },
    {
      "cell_type": "markdown",
      "metadata": {
        "id": "P-NKEQdJmgQj"
      },
      "source": [
        "### Check the conversions:"
      ]
    },
    {
      "cell_type": "code",
      "execution_count": null,
      "metadata": {
        "colab": {
          "base_uri": "https://localhost:8080/"
        },
        "id": "vKQWFiii4hLo",
        "outputId": "8e1bbb16-077f-4273-9867-07d64fb4ed9a"
      },
      "outputs": [
        {
          "output_type": "stream",
          "name": "stdout",
          "text": [
            "'01 Text Classification with Deep Learning Models.ipynb'   glue_data\n",
            "time: 129 ms (started: 2024-05-23 12:22:03 +00:00)\n"
          ]
        }
      ],
      "source": [
        "!ls"
      ]
    },
    {
      "cell_type": "code",
      "execution_count": null,
      "metadata": {
        "colab": {
          "base_uri": "https://localhost:8080/"
        },
        "id": "gmpN3u_wR0n_",
        "outputId": "6ab043d2-1771-4e85-dcef-3ded47698548"
      },
      "outputs": [
        {
          "output_type": "stream",
          "name": "stdout",
          "text": [
            "time: 31.9 ms (started: 2024-05-23 12:22:22 +00:00)\n"
          ]
        }
      ],
      "source": [
        "import pickle\n",
        "with open('id_to_sentiment.pkl', 'wb') as fp:\n",
        "    pickle.dump(id_to_sentiment, fp)"
      ]
    },
    {
      "cell_type": "code",
      "execution_count": null,
      "metadata": {
        "colab": {
          "base_uri": "https://localhost:8080/"
        },
        "id": "ysWDQwSOTDC2",
        "outputId": "ccc5b62a-d52b-40ad-e781-189b0be2db3f"
      },
      "outputs": [
        {
          "output_type": "stream",
          "name": "stdout",
          "text": [
            "time: 4.31 ms (started: 2024-05-23 12:22:27 +00:00)\n"
          ]
        }
      ],
      "source": [
        "with open('id_to_sentiment.pkl', 'rb') as fp:\n",
        "    id_to_sentiment_loaded = pickle.load(fp)"
      ]
    },
    {
      "cell_type": "code",
      "execution_count": null,
      "metadata": {
        "colab": {
          "base_uri": "https://localhost:8080/"
        },
        "id": "ZirtZa_-4Ehh",
        "outputId": "66cc5d7d-1713-44d5-8ef8-70a116c25a3e"
      },
      "outputs": [
        {
          "output_type": "execute_result",
          "data": {
            "text/plain": [
              "{1: 'positive', 0: 'negative'}"
            ]
          },
          "metadata": {},
          "execution_count": 103
        },
        {
          "output_type": "stream",
          "name": "stdout",
          "text": [
            "time: 3.43 ms (started: 2024-05-23 12:22:31 +00:00)\n"
          ]
        }
      ],
      "source": [
        "id_to_sentiment_loaded"
      ]
    },
    {
      "cell_type": "code",
      "execution_count": null,
      "metadata": {
        "colab": {
          "base_uri": "https://localhost:8080/"
        },
        "id": "Yg4850NH-Ncz",
        "outputId": "ee99fdc8-8b84-46e0-9962-781eb11ae6d0"
      },
      "outputs": [
        {
          "output_type": "stream",
          "name": "stdout",
          "text": [
            "number of sentiments: 2\n",
            "time: 736 µs (started: 2024-05-23 12:22:38 +00:00)\n"
          ]
        }
      ],
      "source": [
        "number_of_sentiment = len(sentiment_to_id)\n",
        "print(f\"number of sentiments: {number_of_sentiment}\")"
      ]
    },
    {
      "cell_type": "markdown",
      "metadata": {
        "id": "cCWUzmCUWzmZ"
      },
      "source": [
        "### **Test, Train & Validation Datasets**"
      ]
    },
    {
      "cell_type": "code",
      "execution_count": null,
      "metadata": {
        "colab": {
          "base_uri": "https://localhost:8080/"
        },
        "id": "88JF1EuBMEk4",
        "outputId": "c78d68d0-72d9-4e1b-e50b-eca57e3b516f"
      },
      "outputs": [
        {
          "output_type": "stream",
          "name": "stdout",
          "text": [
            "time: 70.6 ms (started: 2024-05-23 12:52:40 +00:00)\n"
          ]
        }
      ],
      "source": [
        "train_text, test_text = train_test_split(data, test_size=0.2, random_state=23052024)\n",
        "\n",
        "train_features = train_text['sentence']\n",
        "train_target = train_text['label']\n",
        "\n",
        "val_features = valid_text['sentence']\n",
        "val_target = valid_text['label']\n",
        "\n",
        "test_features = test_text['sentence']\n",
        "test_target = test_text['label']"
      ]
    },
    {
      "cell_type": "code",
      "execution_count": null,
      "metadata": {
        "colab": {
          "base_uri": "https://localhost:8080/"
        },
        "id": "liqAzjrL6x9H",
        "outputId": "9f9b9000-bb5e-4b73-b181-a95e43bbe7d1"
      },
      "outputs": [
        {
          "output_type": "stream",
          "name": "stdout",
          "text": [
            "Train Data Set size:  53879\n",
            "Validation Data Set size:  872\n",
            "Test Data Set size:  13470\n",
            "time: 16.3 ms (started: 2024-05-23 12:52:41 +00:00)\n"
          ]
        }
      ],
      "source": [
        "print(\"Train Data Set size: \", len(train_features))\n",
        "print(\"Validation Data Set size: \", len(val_features))\n",
        "print(\"Test Data Set size: \", len(test_features))"
      ]
    },
    {
      "cell_type": "markdown",
      "metadata": {
        "id": "BKuPtn1VoxnX"
      },
      "source": [
        "## Build the Train TensorFlow Datasets\n",
        "\n"
      ]
    },
    {
      "cell_type": "code",
      "execution_count": null,
      "metadata": {
        "colab": {
          "base_uri": "https://localhost:8080/"
        },
        "id": "_njrFq8l2wiF",
        "outputId": "2491ba21-928e-486b-9f82-3aded57d2a4b"
      },
      "outputs": [
        {
          "output_type": "stream",
          "name": "stdout",
          "text": [
            "Same elements: False\n",
            "time: 795 µs (started: 2024-05-23 12:46:11 +00:00)\n"
          ]
        }
      ],
      "source": [
        "same_elements = train_features.equals(val_features)\n",
        "\n",
        "print('Same elements:', same_elements)"
      ]
    },
    {
      "cell_type": "code",
      "execution_count": null,
      "metadata": {
        "colab": {
          "base_uri": "https://localhost:8080/"
        },
        "id": "ZQkacHLi2zTx",
        "outputId": "1e44581b-6706-4f14-a6f9-4dd07a24ab28"
      },
      "outputs": [
        {
          "output_type": "stream",
          "name": "stdout",
          "text": [
            "time: 17.3 ms (started: 2024-05-23 12:46:13 +00:00)\n"
          ]
        }
      ],
      "source": [
        "train_text_ds_raw = tf.data.Dataset.from_tensor_slices(\n",
        "            tf.cast(train_features.values, tf.string)\n",
        ")"
      ]
    },
    {
      "cell_type": "code",
      "execution_count": null,
      "metadata": {
        "colab": {
          "base_uri": "https://localhost:8080/"
        },
        "id": "cmxCFccruPNp",
        "outputId": "0c6a650f-c5eb-468a-a988-e85dc385c5a0"
      },
      "outputs": [
        {
          "output_type": "stream",
          "name": "stdout",
          "text": [
            "time: 5.62 ms (started: 2024-05-23 12:46:15 +00:00)\n"
          ]
        }
      ],
      "source": [
        "train_sentiment_ds_raw = tf.data.Dataset.from_tensor_slices(\n",
        "            tf.cast(train_target.values, tf.int64),\n",
        ")"
      ]
    },
    {
      "cell_type": "code",
      "execution_count": null,
      "metadata": {
        "colab": {
          "base_uri": "https://localhost:8080/"
        },
        "id": "iXBCb3fpxu2R",
        "outputId": "7a2574e3-4b2f-4bb7-f6a1-cb3221a0eaf9"
      },
      "outputs": [
        {
          "output_type": "execute_result",
          "data": {
            "text/plain": [
              "TensorSpec(shape=(), dtype=tf.string, name=None)"
            ]
          },
          "metadata": {},
          "execution_count": 156
        },
        {
          "output_type": "stream",
          "name": "stdout",
          "text": [
            "time: 3.19 ms (started: 2024-05-23 12:46:17 +00:00)\n"
          ]
        }
      ],
      "source": [
        "train_text_ds_raw.element_spec"
      ]
    },
    {
      "cell_type": "markdown",
      "metadata": {
        "id": "I9oAjlqipore"
      },
      "source": [
        "## Decide the dictionary size and the review size\n",
        "\n",
        "For preprocessing the text, we need to decide the **dictionary (vocab) size** and the **maximum review (text) size**.\n",
        "\n",
        "We will just take the `min` and `max`."
      ]
    },
    {
      "cell_type": "code",
      "execution_count": null,
      "metadata": {
        "colab": {
          "base_uri": "https://localhost:8080/"
        },
        "id": "2frnPx9C4wE6",
        "outputId": "158cb73a-8d2c-4455-a05d-78f9d55755cb"
      },
      "outputs": [
        {
          "output_type": "stream",
          "name": "stdout",
          "text": [
            "time: 537 µs (started: 2024-05-23 12:46:21 +00:00)\n"
          ]
        }
      ],
      "source": [
        "vocab_size = vocab_size\n",
        "max_len = max_review_size"
      ]
    },
    {
      "cell_type": "markdown",
      "metadata": {
        "id": "3pK1RrG8rROz"
      },
      "source": [
        "## Prepare the Keras Text Vectorization layer\n",
        "\n"
      ]
    },
    {
      "cell_type": "code",
      "execution_count": null,
      "metadata": {
        "colab": {
          "base_uri": "https://localhost:8080/"
        },
        "id": "cOT-mq3Q6fc6",
        "outputId": "2e7c5f29-6429-4f3a-f7d7-52bb11612811"
      },
      "outputs": [
        {
          "output_type": "stream",
          "name": "stdout",
          "text": [
            "time: 1.14 ms (started: 2024-05-23 12:46:24 +00:00)\n"
          ]
        }
      ],
      "source": [
        "import string\n",
        "\n",
        "@tf.keras.utils.register_keras_serializable()\n",
        "def custom_standardization(input_string):\n",
        "    \"\"\" Preprocess English text \"\"\"\n",
        "    # Convert text to lowercase\n",
        "    no_uppercased = tf.strings.lower(input_string, encoding='utf-8')\n",
        "    # Remove HTML tags\n",
        "    no_html_tags = tf.strings.regex_replace(no_uppercased, \"<[^>]+>\", \" \")\n",
        "    # Remove email addresses\n",
        "    no_emails = tf.strings.regex_replace(no_html_tags, r'\\S+@\\S+', ' ')\n",
        "    # Remove digits\n",
        "    no_digits = tf.strings.regex_replace(no_emails, r\"\\d\", \" \")\n",
        "    # Remove punctuation\n",
        "    no_punctuations = tf.strings.regex_replace(no_digits, f\"([{string.punctuation}])\", r\" \")\n",
        "    # Remove newlines\n",
        "    no_newlines = tf.strings.regex_replace(no_punctuations, \"\\n\", \" \")\n",
        "    # Remove extra spaces\n",
        "    no_extra_space = tf.strings.regex_replace(no_newlines, \" +\", \" \")\n",
        "    return no_extra_space"
      ]
    },
    {
      "cell_type": "code",
      "execution_count": null,
      "metadata": {
        "colab": {
          "base_uri": "https://localhost:8080/"
        },
        "id": "4M2IQsBBuy-a",
        "outputId": "0f8d32a6-fe20-4623-b1e3-cb3aa6b5b45b"
      },
      "outputs": [
        {
          "output_type": "stream",
          "name": "stdout",
          "text": [
            "input:   \n",
            "<html>\n",
            "<head>\n",
            "<title>or `` suck ''</title>\n",
            "</head>\n",
            "<body>\n",
            "<p>This is an example text with some punctuation: test, test, test.</p>\n",
            "<p>It also contains numbers, for example 123456.</p>\n",
            "<p>And some examples - _ for removal: sample1 and sample2.</p>\n",
            "<p>Email address: example@example.com</p>\n",
            "</body>\n",
            "</html>\n",
            "\n",
            "output:   or suck this is an example text with some punctuation test test test it also contains numbers for example and some examples for removal sample and sample email address \n",
            "time: 4.34 ms (started: 2024-05-23 12:33:39 +00:00)\n"
          ]
        }
      ],
      "source": [
        "input_string = \"\"\"\n",
        "<html>\n",
        "<head>\n",
        "<title>or `` suck ''</title>\n",
        "</head>\n",
        "<body>\n",
        "<p>This is an example text with some punctuation: test, test, test.</p>\n",
        "<p>It also contains numbers, for example 123456.</p>\n",
        "<p>And some examples - _ for removal: sample1 and sample2.</p>\n",
        "<p>Email address: example@example.com</p>\n",
        "</body>\n",
        "</html>\n",
        "\"\"\"\n",
        "\n",
        "print(\"input:  \", input_string)\n",
        "output_string= custom_standardization(input_string)\n",
        "print(\"output: \", output_string.numpy().decode(\"utf-8\"))"
      ]
    },
    {
      "cell_type": "markdown",
      "metadata": {
        "id": "n13_xGT0n2G9"
      },
      "source": [
        "### Build a TextVectorization layer"
      ]
    },
    {
      "cell_type": "code",
      "execution_count": null,
      "metadata": {
        "colab": {
          "base_uri": "https://localhost:8080/"
        },
        "id": "8w0EVbmjQQTo",
        "outputId": "6a784670-854f-4e70-ccdd-03f7a4ba2280"
      },
      "outputs": [
        {
          "output_type": "stream",
          "name": "stdout",
          "text": [
            "time: 10.6 ms (started: 2024-05-23 12:46:47 +00:00)\n"
          ]
        }
      ],
      "source": [
        "vectorize_layer = TextVectorization(\n",
        "    standardize=custom_standardization,\n",
        "    max_tokens=vocab_size - 1,\n",
        "    output_mode=\"int\",\n",
        "    output_sequence_length=max_len,\n",
        ")"
      ]
    },
    {
      "cell_type": "markdown",
      "metadata": {
        "id": "-BNECmcJoA2k"
      },
      "source": [
        "### Adopt the Text Vectorization layer"
      ]
    },
    {
      "cell_type": "code",
      "execution_count": null,
      "metadata": {
        "colab": {
          "base_uri": "https://localhost:8080/"
        },
        "id": "N8nd1qGXwy-Q",
        "outputId": "d9ec11c8-1262-4a56-fd53-7d63ca9279e6"
      },
      "outputs": [
        {
          "output_type": "stream",
          "name": "stdout",
          "text": [
            "time: 1min 7s (started: 2024-05-23 12:47:39 +00:00)\n"
          ]
        }
      ],
      "source": [
        "vectorize_layer.adapt(train_text_ds_raw)\n",
        "vocab = vectorize_layer.get_vocabulary()"
      ]
    },
    {
      "cell_type": "markdown",
      "metadata": {
        "id": "4WOHYDCsoHA2"
      },
      "source": [
        "### Check the dictionary (vocab) and preprocessing"
      ]
    },
    {
      "cell_type": "markdown",
      "metadata": {
        "id": "mOyv5s64AD1J"
      },
      "source": [
        "Let's see some example conversions:"
      ]
    },
    {
      "cell_type": "markdown",
      "metadata": {
        "id": "AwLTEYa7a2aD"
      },
      "source": [
        "### Save & Load the adopted TextVectorization layer"
      ]
    },
    {
      "cell_type": "code",
      "execution_count": null,
      "metadata": {
        "colab": {
          "base_uri": "https://localhost:8080/"
        },
        "id": "fHwRco9l89C9",
        "outputId": "bd13bf3e-67e9-4a89-a296-1471ddf808da"
      },
      "outputs": [
        {
          "output_type": "stream",
          "name": "stdout",
          "text": [
            "/content/drive/MyDrive/Colab_Notebooks/nlp_with_python/ods_nlp_itmo/article/models\n",
            "time: 112 ms (started: 2024-05-23 12:37:29 +00:00)\n"
          ]
        }
      ],
      "source": [
        "%cd models/\n",
        "%ls"
      ]
    },
    {
      "cell_type": "code",
      "execution_count": null,
      "metadata": {
        "colab": {
          "base_uri": "https://localhost:8080/"
        },
        "id": "LRvfjtqQa8Wa",
        "outputId": "7172d82f-c82f-49dd-fdb2-82edc4453070"
      },
      "outputs": [
        {
          "output_type": "stream",
          "name": "stdout",
          "text": [
            "Model: \"sequential_1\"\n",
            "_________________________________________________________________\n",
            " Layer (type)                Output Shape              Param #   \n",
            "=================================================================\n",
            " text_vectorization_1 (Text  (None, 53)                0         \n",
            " Vectorization)                                                  \n",
            "                                                                 \n",
            "=================================================================\n",
            "Total params: 0 (0.00 Byte)\n",
            "Trainable params: 0 (0.00 Byte)\n",
            "Non-trainable params: 0 (0.00 Byte)\n",
            "_________________________________________________________________\n"
          ]
        },
        {
          "output_type": "stream",
          "name": "stderr",
          "text": [
            "WARNING:tensorflow:Compiled the loaded model, but the compiled metrics have yet to be built. `model.compile_metrics` will be empty until you train or evaluate the model.\n"
          ]
        },
        {
          "output_type": "stream",
          "name": "stdout",
          "text": [
            "time: 665 ms (started: 2024-05-23 12:50:07 +00:00)\n"
          ]
        }
      ],
      "source": [
        "vectorizer_model = tf.keras.models.Sequential()\n",
        "vectorizer_model.add(tf.keras.Input(shape=(1,), dtype=tf.string))\n",
        "vectorizer_model.add(vectorize_layer)\n",
        "vectorizer_model.summary()\n",
        "\n",
        "filepath = \"vectorize_layer_model\"\n",
        "vectorizer_model.save(filepath, save_format=\"tf\")"
      ]
    },
    {
      "cell_type": "code",
      "execution_count": null,
      "metadata": {
        "colab": {
          "base_uri": "https://localhost:8080/"
        },
        "id": "mYEdEVkY6K27",
        "outputId": "ce763f23-bcf9-4eb0-9568-aa29ec97a0cc"
      },
      "outputs": [
        {
          "output_type": "stream",
          "name": "stdout",
          "text": [
            "\u001b[0m\u001b[01;34mvectorize_layer_model\u001b[0m/\n",
            "time: 107 ms (started: 2024-05-23 12:50:11 +00:00)\n"
          ]
        }
      ],
      "source": [
        "%ls"
      ]
    },
    {
      "cell_type": "code",
      "execution_count": null,
      "metadata": {
        "colab": {
          "base_uri": "https://localhost:8080/"
        },
        "id": "a-BtuFg-5-yL",
        "outputId": "28573d33-d516-47d1-fecb-04b26facaba2"
      },
      "outputs": [
        {
          "output_type": "stream",
          "name": "stderr",
          "text": [
            "WARNING:tensorflow:No training configuration found in save file, so the model was *not* compiled. Compile it manually.\n"
          ]
        },
        {
          "output_type": "stream",
          "name": "stdout",
          "text": [
            "time: 251 ms (started: 2024-05-23 12:50:14 +00:00)\n"
          ]
        }
      ],
      "source": [
        "# Load the saved model\n",
        "loaded_vectorizer_model = tf.keras.models.load_model(filepath)\n",
        "loaded_vectorizer_layer = loaded_vectorizer_model.layers[0]"
      ]
    },
    {
      "cell_type": "markdown",
      "metadata": {
        "id": "CbV8D9hsopHQ"
      },
      "source": [
        "### Check the loaded Text Vectorization layer"
      ]
    },
    {
      "cell_type": "code",
      "execution_count": null,
      "metadata": {
        "colab": {
          "base_uri": "https://localhost:8080/"
        },
        "id": "RuYPZL21br_i",
        "outputId": "719b03c8-42cb-406d-bd99-c1948603fc06"
      },
      "outputs": [
        {
          "output_type": "stream",
          "name": "stdout",
          "text": [
            "original vocab has the  13554  entries\n",
            "loaded_vectorizer_layer vocab has the  13554  entries\n",
            "original vocab:  ['', '[UNK]', 'the', 'a', 'and', 'of', 'to', 's', 'is', 'that']\n",
            "loaded vocab  :  ['', '[UNK]', 'the', 'a', 'and', 'of', 'to', 's', 'is', 'that']\n",
            "time: 57.8 ms (started: 2024-05-23 12:50:17 +00:00)\n"
          ]
        }
      ],
      "source": [
        "loaded_vocab = loaded_vectorizer_layer.get_vocabulary()\n",
        "print(\"original vocab has the \", len(vocab),\" entries\")\n",
        "print(\"loaded_vectorizer_layer vocab has the \", len(loaded_vocab),\" entries\")\n",
        "print(\"original vocab: \", vocab[:10])\n",
        "print(\"loaded vocab  : \", loaded_vocab[:10])"
      ]
    },
    {
      "cell_type": "markdown",
      "metadata": {
        "id": "B8u-YGa_b51s"
      },
      "source": [
        "## Preprocess the Train & Test Data by the adopted TextVecorization Layer"
      ]
    },
    {
      "cell_type": "code",
      "execution_count": null,
      "metadata": {
        "colab": {
          "base_uri": "https://localhost:8080/"
        },
        "id": "sQAPD_JWUwDk",
        "outputId": "f7deb922-389b-42a8-d282-cbe8101efbf2"
      },
      "outputs": [
        {
          "output_type": "stream",
          "name": "stdout",
          "text": [
            "time: 738 µs (started: 2024-05-23 12:50:20 +00:00)\n"
          ]
        }
      ],
      "source": [
        "prepare_lm_inputs_labels = lambda text: tf.squeeze(vectorize_layer(tf.expand_dims(text, -1)))"
      ]
    },
    {
      "cell_type": "markdown",
      "metadata": {
        "id": "wPPlnaI2Svqq"
      },
      "source": [
        "### Process the Train Data"
      ]
    },
    {
      "cell_type": "code",
      "execution_count": null,
      "metadata": {
        "colab": {
          "base_uri": "https://localhost:8080/"
        },
        "id": "1ZvtYD3fA6st",
        "outputId": "9056d8f4-2c8f-43de-dbc0-fd8563617a19"
      },
      "outputs": [
        {
          "output_type": "stream",
          "name": "stdout",
          "text": [
            "time: 49.7 ms (started: 2024-05-23 12:50:23 +00:00)\n"
          ]
        }
      ],
      "source": [
        "train_text_ds = train_text_ds_raw.map(prepare_lm_inputs_labels,\n",
        "                                  num_parallel_calls=tf.data.experimental.AUTOTUNE)"
      ]
    },
    {
      "cell_type": "code",
      "execution_count": null,
      "metadata": {
        "colab": {
          "base_uri": "https://localhost:8080/"
        },
        "id": "fm6dSqnaVNJm",
        "outputId": "7c9be8f3-9df5-4f77-bf91-b7a045bd67fa"
      },
      "outputs": [
        {
          "output_type": "execute_result",
          "data": {
            "text/plain": [
              "TensorSpec(shape=<unknown>, dtype=tf.int64, name=None)"
            ]
          },
          "metadata": {},
          "execution_count": 170
        },
        {
          "output_type": "stream",
          "name": "stdout",
          "text": [
            "time: 3.64 ms (started: 2024-05-23 12:50:24 +00:00)\n"
          ]
        }
      ],
      "source": [
        "train_text_ds.element_spec"
      ]
    },
    {
      "cell_type": "code",
      "execution_count": null,
      "metadata": {
        "colab": {
          "base_uri": "https://localhost:8080/"
        },
        "id": "C-VI2K5p7jSx",
        "outputId": "b4844e40-b1cc-458f-9e73-7e7bc1787133"
      },
      "outputs": [
        {
          "output_type": "stream",
          "name": "stdout",
          "text": [
            "time: 3.49 ms (started: 2024-05-23 12:50:52 +00:00)\n"
          ]
        }
      ],
      "source": [
        "train_ds = tf.data.Dataset.zip(\n",
        "    (train_text_ds,train_sentiment_ds_raw)\n",
        ")"
      ]
    },
    {
      "cell_type": "code",
      "execution_count": null,
      "metadata": {
        "colab": {
          "base_uri": "https://localhost:8080/"
        },
        "id": "nz8zrDUlMkfp",
        "outputId": "71ccd66c-7c1f-4ce9-ab01-4494de289498"
      },
      "outputs": [
        {
          "output_type": "stream",
          "name": "stdout",
          "text": [
            "Train size:  53879\n",
            "time: 2.17 ms (started: 2024-05-23 12:50:54 +00:00)\n"
          ]
        }
      ],
      "source": [
        "train_size = train_ds.cardinality().numpy()\n",
        "print(\"Train size: \", train_size)"
      ]
    },
    {
      "cell_type": "markdown",
      "metadata": {
        "id": "YwHBcSzC2qW_"
      },
      "source": [
        "### Process the Validation Data"
      ]
    },
    {
      "cell_type": "code",
      "execution_count": null,
      "metadata": {
        "colab": {
          "base_uri": "https://localhost:8080/"
        },
        "id": "5FiqWbvaGy1-",
        "outputId": "f306cc79-0be9-44a6-b280-3db22dffd423"
      },
      "outputs": [
        {
          "output_type": "stream",
          "name": "stdout",
          "text": [
            "time: 4.07 ms (started: 2024-05-23 12:50:59 +00:00)\n"
          ]
        }
      ],
      "source": [
        "val_text_ds_raw = tf.data.Dataset.from_tensor_slices(\n",
        "            tf.cast(val_features.values, tf.string)\n",
        ")"
      ]
    },
    {
      "cell_type": "code",
      "execution_count": null,
      "metadata": {
        "colab": {
          "base_uri": "https://localhost:8080/"
        },
        "id": "t9yJLVQHG9we",
        "outputId": "b7225ac3-dbb2-4b4f-c756-f2db5e8d0b4c"
      },
      "outputs": [
        {
          "output_type": "stream",
          "name": "stdout",
          "text": [
            "time: 4.49 ms (started: 2024-05-23 12:51:02 +00:00)\n"
          ]
        }
      ],
      "source": [
        "val_sentiment_ds_raw = tf.data.Dataset.from_tensor_slices(\n",
        "            tf.cast(val_target.values, tf.int64),\n",
        ")"
      ]
    },
    {
      "cell_type": "code",
      "execution_count": null,
      "metadata": {
        "colab": {
          "base_uri": "https://localhost:8080/"
        },
        "id": "0SJK8Us3HM0K",
        "outputId": "7af5b0c8-b302-41cc-c2f4-d2e52aa20f97"
      },
      "outputs": [
        {
          "output_type": "stream",
          "name": "stdout",
          "text": [
            "time: 65.7 ms (started: 2024-05-23 12:51:06 +00:00)\n"
          ]
        }
      ],
      "source": [
        "val_text_ds = val_text_ds_raw.map(prepare_lm_inputs_labels,\n",
        "                                  num_parallel_calls=tf.data.experimental.AUTOTUNE)"
      ]
    },
    {
      "cell_type": "code",
      "execution_count": null,
      "metadata": {
        "colab": {
          "base_uri": "https://localhost:8080/"
        },
        "id": "VvyHSvgUHZhW",
        "outputId": "1311c170-ffec-4bef-da80-c60d54034764"
      },
      "outputs": [
        {
          "output_type": "stream",
          "name": "stdout",
          "text": [
            "time: 3.19 ms (started: 2024-05-23 12:51:11 +00:00)\n"
          ]
        }
      ],
      "source": [
        "val_ds = tf.data.Dataset.zip(\n",
        "    (val_text_ds, val_sentiment_ds_raw)\n",
        ")"
      ]
    },
    {
      "cell_type": "markdown",
      "metadata": {
        "id": "H0cwI_9iGL7v"
      },
      "source": [
        "### Process the Test Data"
      ]
    },
    {
      "cell_type": "code",
      "execution_count": null,
      "metadata": {
        "colab": {
          "base_uri": "https://localhost:8080/"
        },
        "id": "jEs5Zphj2pNp",
        "outputId": "4fe64948-539b-4a15-be26-9b0d888fde8b"
      },
      "outputs": [
        {
          "output_type": "stream",
          "name": "stdout",
          "text": [
            "time: 13.6 ms (started: 2024-05-23 12:53:11 +00:00)\n"
          ]
        }
      ],
      "source": [
        "test_text_ds_raw = tf.data.Dataset.from_tensor_slices(\n",
        "            tf.cast(test_features.values, tf.string)\n",
        ")"
      ]
    },
    {
      "cell_type": "code",
      "execution_count": null,
      "metadata": {
        "colab": {
          "base_uri": "https://localhost:8080/"
        },
        "id": "r9G0fIIN3GAk",
        "outputId": "93c9209e-b32a-4189-8d82-6ff47ef6867f"
      },
      "outputs": [
        {
          "output_type": "stream",
          "name": "stdout",
          "text": [
            "time: 19.4 ms (started: 2024-05-23 12:53:20 +00:00)\n"
          ]
        }
      ],
      "source": [
        "test_sentiment_ds_raw = tf.data.Dataset.from_tensor_slices(\n",
        "            tf.cast(test_target.values, tf.int64),\n",
        ")"
      ]
    },
    {
      "cell_type": "code",
      "execution_count": null,
      "metadata": {
        "colab": {
          "base_uri": "https://localhost:8080/"
        },
        "id": "Rswg9fBz3Wh0",
        "outputId": "be0bc4a8-c23e-4930-9009-20362ed12bbd"
      },
      "outputs": [
        {
          "output_type": "stream",
          "name": "stdout",
          "text": [
            "time: 51.2 ms (started: 2024-05-23 12:53:28 +00:00)\n"
          ]
        }
      ],
      "source": [
        "test_text_ds = test_text_ds_raw.map(prepare_lm_inputs_labels,\n",
        "                                  num_parallel_calls=tf.data.experimental.AUTOTUNE)"
      ]
    },
    {
      "cell_type": "code",
      "execution_count": null,
      "metadata": {
        "colab": {
          "base_uri": "https://localhost:8080/"
        },
        "id": "L6WNJPw33j4q",
        "outputId": "db7e5a1d-ac23-4d98-de06-37125e2860c3"
      },
      "outputs": [
        {
          "output_type": "stream",
          "name": "stdout",
          "text": [
            "time: 5.62 ms (started: 2024-05-23 12:53:34 +00:00)\n"
          ]
        }
      ],
      "source": [
        "test_ds = tf.data.Dataset.zip(\n",
        "    (test_text_ds, test_sentiment_ds_raw)\n",
        ")"
      ]
    },
    {
      "cell_type": "code",
      "execution_count": null,
      "metadata": {
        "colab": {
          "base_uri": "https://localhost:8080/"
        },
        "id": "t3jw9GmYzAYG",
        "outputId": "2c18cbba-e59c-4155-d493-e1e6e2a4af48"
      },
      "outputs": [
        {
          "output_type": "stream",
          "name": "stdout",
          "text": [
            "Test size:  13470\n",
            "time: 3.38 ms (started: 2024-05-23 12:53:38 +00:00)\n"
          ]
        }
      ],
      "source": [
        "test_size = test_ds.cardinality().numpy()\n",
        "print(\"Test size: \", test_size)"
      ]
    },
    {
      "cell_type": "markdown",
      "metadata": {
        "id": "6fTRI4VM22vs"
      },
      "source": [
        "## Finalize the TensorFlow Data Pipeline"
      ]
    },
    {
      "cell_type": "code",
      "execution_count": null,
      "metadata": {
        "colab": {
          "base_uri": "https://localhost:8080/"
        },
        "id": "aqgknEOoMaei",
        "outputId": "c3eb3d0c-c676-435d-d298-9df0ee070cb8"
      },
      "outputs": [
        {
          "output_type": "stream",
          "name": "stdout",
          "text": [
            "time: 46.9 ms (started: 2024-05-23 12:53:47 +00:00)\n"
          ]
        }
      ],
      "source": [
        "batch_size=64\n",
        "AUTOTUNE=tf.data.experimental.AUTOTUNE\n",
        "\n",
        "train_ds=train_ds.shuffle(buffer_size=train_size)\n",
        "train_ds=train_ds.batch(batch_size=batch_size,drop_remainder=True)\n",
        "train_ds=train_ds.cache()\n",
        "train_ds = train_ds.prefetch(AUTOTUNE)\n",
        "\n",
        "val_ds=val_ds.shuffle(buffer_size=train_size)\n",
        "val_ds=val_ds.batch(batch_size=batch_size,drop_remainder=True)\n",
        "val_ds=val_ds.cache()\n",
        "val_ds = val_ds.prefetch(AUTOTUNE)\n",
        "\n",
        "test_ds=test_ds.shuffle(buffer_size=train_size)\n",
        "test_ds=test_ds.batch(batch_size=batch_size,drop_remainder=True)\n",
        "test_ds=test_ds.cache()\n",
        "test_ds = test_ds.prefetch(AUTOTUNE)"
      ]
    },
    {
      "cell_type": "code",
      "execution_count": null,
      "metadata": {
        "colab": {
          "base_uri": "https://localhost:8080/"
        },
        "id": "xb5oVnsq_iR_",
        "outputId": "e3a8aa6f-1edf-48ad-aab5-527f9b14ca4b"
      },
      "outputs": [
        {
          "output_type": "execute_result",
          "data": {
            "text/plain": [
              "(TensorSpec(shape=<unknown>, dtype=tf.int64, name=None),\n",
              " TensorSpec(shape=(64,), dtype=tf.int64, name=None))"
            ]
          },
          "metadata": {},
          "execution_count": 189
        },
        {
          "output_type": "stream",
          "name": "stdout",
          "text": [
            "time: 3.93 ms (started: 2024-05-23 12:53:54 +00:00)\n"
          ]
        }
      ],
      "source": [
        "train_ds.element_spec"
      ]
    },
    {
      "cell_type": "markdown",
      "metadata": {
        "id": "iq4UNwuelBn7"
      },
      "source": [
        "# TEXT CLASSIFICATION WITH AN EMBEDDING LAYER IN A FEED FORWARD NETWORK"
      ]
    },
    {
      "cell_type": "markdown",
      "metadata": {
        "id": "XlyhKgzFLx5v"
      },
      "source": [
        "## Keras Embedding Layer"
      ]
    },
    {
      "cell_type": "code",
      "execution_count": null,
      "metadata": {
        "colab": {
          "base_uri": "https://localhost:8080/"
        },
        "id": "bQpQvZfiXP6Y",
        "outputId": "76f82da8-897e-45e6-9717-2e203549b191"
      },
      "outputs": [
        {
          "output_type": "stream",
          "name": "stdout",
          "text": [
            "time: 111 ms (started: 2024-05-23 12:54:11 +00:00)\n"
          ]
        }
      ],
      "source": [
        "class FFNModel:\n",
        "    def __init__(self, max_len, vocab_size, embed_dim=16, feed_forward_dim=64, number_of_sentiment=3):\n",
        "        self.max_len = max_len\n",
        "        self.vocab_size = vocab_size\n",
        "        self.embed_dim = embed_dim\n",
        "        self.feed_forward_dim = feed_forward_dim\n",
        "        self.number_of_sentiment = number_of_sentiment\n",
        "\n",
        "    def build_model(self):\n",
        "        inputs_tokens = layers.Input(shape=(self.max_len,), dtype=tf.int32)\n",
        "        embedding_layer = layers.Embedding(input_dim=self.vocab_size,\n",
        "                                           output_dim=self.embed_dim,\n",
        "                                           input_length=self.max_len)\n",
        "        x = embedding_layer(inputs_tokens)\n",
        "        x = layers.Flatten()(x)\n",
        "        dense_layer = layers.Dense(self.feed_forward_dim, activation='relu')\n",
        "        x = dense_layer(x)\n",
        "        x = layers.Dropout(.5)(x)\n",
        "        outputs = layers.Dense(self.number_of_sentiment)(x)\n",
        "\n",
        "        model = keras.Model(inputs=inputs_tokens, outputs=outputs, name='model_FFN')\n",
        "        loss_fn = tf.keras.losses.SparseCategoricalCrossentropy(from_logits=True)\n",
        "        metric_fn = tf.keras.metrics.SparseCategoricalAccuracy()\n",
        "        model.compile(optimizer=\"adam\", loss=loss_fn, metrics=metric_fn)\n",
        "\n",
        "        return model\n",
        "\n",
        "model_builder = FFNModel(max_len, vocab_size)\n",
        "model_FFN = model_builder.build_model()"
      ]
    },
    {
      "cell_type": "code",
      "execution_count": null,
      "metadata": {
        "colab": {
          "base_uri": "https://localhost:8080/"
        },
        "id": "3BAt0FXuXW8w",
        "outputId": "e15fc29d-61ea-4e41-832f-f5a35286ba4d"
      },
      "outputs": [
        {
          "output_type": "stream",
          "name": "stdout",
          "text": [
            "Model: \"model_FFN\"\n",
            "_________________________________________________________________\n",
            " Layer (type)                Output Shape              Param #   \n",
            "=================================================================\n",
            " input_3 (InputLayer)        [(None, 53)]              0         \n",
            "                                                                 \n",
            " embedding (Embedding)       (None, 53, 16)            237056    \n",
            "                                                                 \n",
            " flatten (Flatten)           (None, 848)               0         \n",
            "                                                                 \n",
            " dense (Dense)               (None, 64)                54336     \n",
            "                                                                 \n",
            " dropout (Dropout)           (None, 64)                0         \n",
            "                                                                 \n",
            " dense_1 (Dense)             (None, 3)                 195       \n",
            "                                                                 \n",
            "=================================================================\n",
            "Total params: 291587 (1.11 MB)\n",
            "Trainable params: 291587 (1.11 MB)\n",
            "Non-trainable params: 0 (0.00 Byte)\n",
            "_________________________________________________________________\n",
            "time: 39.2 ms (started: 2024-05-23 12:54:13 +00:00)\n"
          ]
        }
      ],
      "source": [
        "model_FFN.summary()"
      ]
    },
    {
      "cell_type": "code",
      "execution_count": null,
      "metadata": {
        "colab": {
          "base_uri": "https://localhost:8080/",
          "height": 661
        },
        "id": "67kwMN_Wmand",
        "outputId": "0eda28df-13b8-47e0-a511-626535d98cfe"
      },
      "outputs": [
        {
          "output_type": "execute_result",
          "data": {
            "image/png": "[encoded data removed]",
            "text/plain": [
              "<IPython.core.display.Image object>"
            ]
          },
          "metadata": {},
          "execution_count": 192
        },
        {
          "output_type": "stream",
          "name": "stdout",
          "text": [
            "time: 379 ms (started: 2024-05-23 12:54:17 +00:00)\n"
          ]
        }
      ],
      "source": [
        "tf.keras.utils.plot_model(model_FFN,show_shapes=True)"
      ]
    },
    {
      "cell_type": "markdown",
      "metadata": {
        "id": "0QCOFKQ0mjNS"
      },
      "source": [
        "## Train"
      ]
    },
    {
      "cell_type": "code",
      "execution_count": null,
      "metadata": {
        "colab": {
          "base_uri": "https://localhost:8080/"
        },
        "id": "harWUj52wr40",
        "outputId": "9d46d3bd-276f-4a41-f46b-e12f2b79595c"
      },
      "outputs": [
        {
          "output_type": "execute_result",
          "data": {
            "text/plain": [
              "(TensorSpec(shape=<unknown>, dtype=tf.int64, name=None),\n",
              " TensorSpec(shape=(64,), dtype=tf.int64, name=None))"
            ]
          },
          "metadata": {},
          "execution_count": 193
        },
        {
          "output_type": "stream",
          "name": "stdout",
          "text": [
            "time: 3.43 ms (started: 2024-05-23 12:54:21 +00:00)\n"
          ]
        }
      ],
      "source": [
        "train_ds.element_spec"
      ]
    },
    {
      "cell_type": "code",
      "execution_count": null,
      "metadata": {
        "colab": {
          "base_uri": "https://localhost:8080/"
        },
        "id": "W2RbFNdSmlLH",
        "outputId": "88fe39f4-8f32-4543-ab1a-beeae47e8967"
      },
      "outputs": [
        {
          "output_type": "stream",
          "name": "stdout",
          "text": [
            "Epoch 1/7\n",
            "841/841 - 11s - loss: 0.4974 - sparse_categorical_accuracy: 0.7423 - val_loss: 0.4591 - val_sparse_categorical_accuracy: 0.8065 - 11s/epoch - 13ms/step\n",
            "Epoch 2/7\n",
            "841/841 - 4s - loss: 0.2262 - sparse_categorical_accuracy: 0.9152 - val_loss: 0.5359 - val_sparse_categorical_accuracy: 0.8053 - 4s/epoch - 4ms/step\n",
            "Epoch 3/7\n",
            "841/841 - 4s - loss: 0.1466 - sparse_categorical_accuracy: 0.9488 - val_loss: 0.6610 - val_sparse_categorical_accuracy: 0.8077 - 4s/epoch - 5ms/step\n",
            "Epoch 4/7\n",
            "841/841 - 5s - loss: 0.0990 - sparse_categorical_accuracy: 0.9681 - val_loss: 0.7915 - val_sparse_categorical_accuracy: 0.7969 - 5s/epoch - 6ms/step\n",
            "Epoch 5/7\n",
            "841/841 - 4s - loss: 0.0692 - sparse_categorical_accuracy: 0.9784 - val_loss: 0.8912 - val_sparse_categorical_accuracy: 0.8089 - 4s/epoch - 4ms/step\n",
            "Epoch 6/7\n",
            "841/841 - 4s - loss: 0.0521 - sparse_categorical_accuracy: 0.9841 - val_loss: 1.0408 - val_sparse_categorical_accuracy: 0.8113 - 4s/epoch - 5ms/step\n",
            "Epoch 7/7\n",
            "841/841 - 5s - loss: 0.0413 - sparse_categorical_accuracy: 0.9869 - val_loss: 1.0957 - val_sparse_categorical_accuracy: 0.8077 - 5s/epoch - 5ms/step\n",
            "time: 51.3 s (started: 2024-05-23 12:54:23 +00:00)\n"
          ]
        }
      ],
      "source": [
        "history = model_FFN.fit(train_ds, validation_data=val_ds, verbose=2, epochs=7)"
      ]
    },
    {
      "cell_type": "markdown",
      "metadata": {
        "id": "pCYwd7RQPH6W"
      },
      "source": [
        "Let's observe the **accuracy** and the **loss** values during the training at each epoch:"
      ]
    },
    {
      "cell_type": "code",
      "execution_count": null,
      "metadata": {
        "colab": {
          "base_uri": "https://localhost:8080/",
          "height": 538
        },
        "id": "5NfaojD5zm5P",
        "outputId": "b7fa4502-e15e-4c15-d710-ac85378196b1"
      },
      "outputs": [
        {
          "output_type": "display_data",
          "data": {
            "text/plain": [
              "<Figure size 640x480 with 1 Axes>"
            ],
            "image/png": "[encoded data removed]"
          },
          "metadata": {}
        },
        {
          "output_type": "stream",
          "name": "stdout",
          "text": [
            "time: 286 ms (started: 2024-05-23 12:55:18 +00:00)\n"
          ]
        }
      ],
      "source": [
        "plt.plot(history.history['sparse_categorical_accuracy'])\n",
        "plt.plot(history.history['val_sparse_categorical_accuracy'])\n",
        "plt.title('model_FFN accuracy')\n",
        "plt.ylabel('accuracy')\n",
        "plt.xlabel('epoch')\n",
        "plt.legend(['train', 'val'], loc='upper left')\n",
        "plt.show()"
      ]
    },
    {
      "cell_type": "code",
      "execution_count": null,
      "metadata": {
        "colab": {
          "base_uri": "https://localhost:8080/",
          "height": 538
        },
        "id": "J4v4YU4Lzt12",
        "outputId": "88db76ec-6275-4a7b-96e4-6c43bfc00a1a"
      },
      "outputs": [
        {
          "output_type": "display_data",
          "data": {
            "text/plain": [
              "<Figure size 640x480 with 1 Axes>"
            ],
            "image/png": "[encoded data removed]"
          },
          "metadata": {}
        },
        {
          "output_type": "stream",
          "name": "stdout",
          "text": [
            "time: 288 ms (started: 2024-05-23 12:55:25 +00:00)\n"
          ]
        }
      ],
      "source": [
        "plt.plot(history.history['loss'])\n",
        "plt.plot(history.history['val_loss'])\n",
        "plt.title('model_FFN loss')\n",
        "plt.ylabel('loss')\n",
        "plt.xlabel('epoch')\n",
        "plt.legend(['train', 'val'], loc='upper left')\n",
        "plt.show()"
      ]
    },
    {
      "cell_type": "markdown",
      "metadata": {
        "id": "6fssqPfJm2TK"
      },
      "source": [
        "## Save the trained model"
      ]
    },
    {
      "cell_type": "code",
      "execution_count": null,
      "metadata": {
        "colab": {
          "base_uri": "https://localhost:8080/"
        },
        "id": "0d8aCcirmx2b",
        "outputId": "f87980ae-87e9-4e10-867d-babbbbcea603"
      },
      "outputs": [
        {
          "output_type": "stream",
          "name": "stdout",
          "text": [
            "time: 1.65 s (started: 2024-05-23 12:55:51 +00:00)\n"
          ]
        }
      ],
      "source": [
        "tf.keras.models.save_model(model_FFN, 'MultiClassTextClassification_FFN')"
      ]
    },
    {
      "cell_type": "markdown",
      "metadata": {
        "id": "IBopPR6knEd_"
      },
      "source": [
        "## Test"
      ]
    },
    {
      "cell_type": "markdown",
      "metadata": {
        "id": "iuP9CLQTnGJt"
      },
      "source": [
        "We can test the trained model with the test dataset:"
      ]
    },
    {
      "cell_type": "code",
      "execution_count": null,
      "metadata": {
        "colab": {
          "base_uri": "https://localhost:8080/"
        },
        "id": "XCj_8uKwm6i7",
        "outputId": "894f98e3-232f-416c-d101-d5db2418daf2"
      },
      "outputs": [
        {
          "output_type": "stream",
          "name": "stdout",
          "text": [
            "210/210 [==============================] - 1s 2ms/step - loss: 0.4415 - sparse_categorical_accuracy: 0.9013\n",
            "Test accuracy:  0.9012649059295654\n",
            "time: 2.57 s (started: 2024-05-23 12:55:56 +00:00)\n"
          ]
        }
      ],
      "source": [
        "loss, accuracy = model_FFN.evaluate(test_ds)\n",
        "print(\"Test accuracy: \", accuracy)"
      ]
    },
    {
      "cell_type": "markdown",
      "metadata": {
        "id": "VfU-UchUlkWt"
      },
      "source": [
        "## Predictions"
      ]
    },
    {
      "cell_type": "markdown",
      "metadata": {
        "id": "f30AOAGBQCik"
      },
      "source": [
        "We can use the **trained model** `predict()` method to **predict** the class of the given reviews as follows:"
      ]
    },
    {
      "cell_type": "code",
      "execution_count": null,
      "metadata": {
        "colab": {
          "base_uri": "https://localhost:8080/"
        },
        "id": "rtMua_wVloKz",
        "outputId": "bf0c4a64-0131-40df-ae5d-af15ae9ac895"
      },
      "outputs": [
        {
          "output_type": "stream",
          "name": "stdout",
          "text": [
            "210/210 [==============================] - 0s 2ms/step\n",
            "time: 450 ms (started: 2024-05-23 14:50:26 +00:00)\n"
          ]
        }
      ],
      "source": [
        "preds = model_FFN.predict(test_ds)\n",
        "preds = preds.argmax(axis=1)"
      ]
    },
    {
      "cell_type": "markdown",
      "metadata": {
        "id": "WwpP_pwBQTbM"
      },
      "source": [
        "We can also get the **actual (true)** class of the given reviews as follows:"
      ]
    },
    {
      "cell_type": "code",
      "execution_count": null,
      "metadata": {
        "colab": {
          "base_uri": "https://localhost:8080/"
        },
        "id": "DTSrCQpzmh60",
        "outputId": "9a6ea9ba-68b6-4405-b095-7f2c01dcd72f"
      },
      "outputs": [
        {
          "output_type": "stream",
          "name": "stdout",
          "text": [
            "time: 5.15 s (started: 2024-05-23 14:50:29 +00:00)\n"
          ]
        }
      ],
      "source": [
        "actuals = test_ds.unbatch().map(lambda x,y: y)\n",
        "actuals=list(actuals.as_numpy_iterator())"
      ]
    },
    {
      "cell_type": "markdown",
      "metadata": {
        "id": "ahF0l03UQnec"
      },
      "source": [
        "By comparing the ***`preds`*** and the ***`actuals`*** values, we can **measure** the model performance as below."
      ]
    },
    {
      "cell_type": "markdown",
      "metadata": {
        "id": "AiI4ZMhL6wT1"
      },
      "source": [
        "## Classification Report"
      ]
    },
    {
      "cell_type": "markdown",
      "metadata": {
        "id": "CyGHJNtl61tN"
      },
      "source": [
        "Since we are dealing with a **classification**, it is a good idea to generate a **classification report** to observe the performance of the model for ***each class***. We can use the [SKLearn `classification_report()` method](https://scikit-learn.org/stable/modules/generated/sklearn.metrics.classification_report.html) to build a text report showing the main classification **metrics**.\n",
        "\n",
        "Report is the summary of the **precision, recall, F1** score for ***each class***.\n",
        "\n",
        "The reported ***averages*** include:\n",
        "* **macro average** (averaging the unweighted mean per label),\n",
        "* **weighted average** (averaging the support-weighted mean per label),  \n",
        "* **sample average** (only for multilabel classification),\n",
        "* **micro average** (averaging the total true positives, false negatives and false positives) is only shown for multi-label or multi-class with a subset of classes, because it corresponds to accuracy otherwise and would be the same for all metrics."
      ]
    },
    {
      "cell_type": "code",
      "execution_count": null,
      "metadata": {
        "colab": {
          "base_uri": "https://localhost:8080/"
        },
        "id": "7VCIP7LvmVOy",
        "outputId": "12a38412-3984-494a-9e93-14ee67bdf456"
      },
      "outputs": [
        {
          "output_type": "stream",
          "name": "stdout",
          "text": [
            "              precision    recall  f1-score   support\n",
            "\n",
            "           0     0.8924    0.8813    0.8868      5899\n",
            "           1     0.9081    0.9169    0.9124      7541\n",
            "\n",
            "    accuracy                         0.9013     13440\n",
            "   macro avg     0.9002    0.8991    0.8996     13440\n",
            "weighted avg     0.9012    0.9013    0.9012     13440\n",
            "\n",
            "time: 39.9 ms (started: 2024-05-23 14:50:37 +00:00)\n"
          ]
        }
      ],
      "source": [
        "from sklearn import metrics\n",
        "print(metrics.classification_report(actuals, preds, digits=4))"
      ]
    },
    {
      "cell_type": "markdown",
      "metadata": {
        "id": "GzQ0Q4mX_IS3"
      },
      "source": [
        "## Confusion Matrix"
      ]
    },
    {
      "cell_type": "code",
      "execution_count": null,
      "metadata": {
        "colab": {
          "base_uri": "https://localhost:8080/"
        },
        "id": "RBrSHA1ns_bR",
        "outputId": "03be4d77-a178-4bbc-e38b-c1eadbd7eaa9"
      },
      "outputs": [
        {
          "output_type": "stream",
          "name": "stdout",
          "text": [
            "time: 11.4 ms (started: 2024-05-23 14:50:43 +00:00)\n"
          ]
        }
      ],
      "source": [
        "from sklearn.metrics import confusion_matrix\n",
        "cm = confusion_matrix(actuals, preds)\n",
        "cm_df = pd.DataFrame(cm, index = id_to_sentiment.values() ,columns = id_to_sentiment.values())"
      ]
    },
    {
      "cell_type": "markdown",
      "metadata": {
        "id": "5exmP2-4HzJ6"
      },
      "source": [
        "Below, you can observe the distribution of predictions over the classes."
      ]
    },
    {
      "cell_type": "code",
      "execution_count": null,
      "metadata": {
        "colab": {
          "base_uri": "https://localhost:8080/",
          "height": 129
        },
        "id": "bpGoUcKix3OA",
        "outputId": "ca86e814-0c31-4c65-8571-e3aaadda4473"
      },
      "outputs": [
        {
          "output_type": "execute_result",
          "data": {
            "text/plain": [
              "          positive  negative\n",
              "positive      5199       700\n",
              "negative       627      6914"
            ],
            "text/html": [
              "\n",
              "  <div id=\"df-7328664e-6f29-4c88-a777-4a25ebb47a8a\" class=\"colab-df-container\">\n",
              "    <div>\n",
              "<style scoped>\n",
              "    .dataframe tbody tr th:only-of-type {\n",
              "        vertical-align: middle;\n",
              "    }\n",
              "\n",
              "    .dataframe tbody tr th {\n",
              "        vertical-align: top;\n",
              "    }\n",
              "\n",
              "    .dataframe thead th {\n",
              "        text-align: right;\n",
              "    }\n",
              "</style>\n",
              "<table border=\"1\" class=\"dataframe\">\n",
              "  <thead>\n",
              "    <tr style=\"text-align: right;\">\n",
              "      <th></th>\n",
              "      <th>positive</th>\n",
              "      <th>negative</th>\n",
              "    </tr>\n",
              "  </thead>\n",
              "  <tbody>\n",
              "    <tr>\n",
              "      <th>positive</th>\n",
              "      <td>5199</td>\n",
              "      <td>700</td>\n",
              "    </tr>\n",
              "    <tr>\n",
              "      <th>negative</th>\n",
              "      <td>627</td>\n",
              "      <td>6914</td>\n",
              "    </tr>\n",
              "  </tbody>\n",
              "</table>\n",
              "</div>\n",
              "    <div class=\"colab-df-buttons\">\n",
              "\n",
              "  <div class=\"colab-df-container\">\n",
              "    <button class=\"colab-df-convert\" onclick=\"convertToInteractive('df-7328664e-6f29-4c88-a777-4a25ebb47a8a')\"\n",
              "            title=\"Convert this dataframe to an interactive table.\"\n",
              "            style=\"display:none;\">\n",
              "\n",
              "  <svg xmlns=\"http://www.w3.org/2000/svg\" height=\"24px\" viewBox=\"0 -960 960 960\">\n",
              "    <path d=\"M120-120v-720h720v720H120Zm60-500h600v-160H180v160Zm220 220h160v-160H400v160Zm0 220h160v-160H400v160ZM180-400h160v-160H180v160Zm440 0h160v-160H620v160ZM180-180h160v-160H180v160Zm440 0h160v-160H620v160Z\"/>\n",
              "  </svg>\n",
              "    </button>\n",
              "\n",
              "  <style>\n",
              "    .colab-df-container {\n",
              "      display:flex;\n",
              "      gap: 12px;\n",
              "    }\n",
              "\n",
              "    .colab-df-convert {\n",
              "      background-color: #E8F0FE;\n",
              "      border: none;\n",
              "      border-radius: 50%;\n",
              "      cursor: pointer;\n",
              "      display: none;\n",
              "      fill: #1967D2;\n",
              "      height: 32px;\n",
              "      padding: 0 0 0 0;\n",
              "      width: 32px;\n",
              "    }\n",
              "\n",
              "    .colab-df-convert:hover {\n",
              "      background-color: #E2EBFA;\n",
              "      box-shadow: 0px 1px 2px rgba(60, 64, 67, 0.3), 0px 1px 3px 1px rgba(60, 64, 67, 0.15);\n",
              "      fill: #174EA6;\n",
              "    }\n",
              "\n",
              "    .colab-df-buttons div {\n",
              "      margin-bottom: 4px;\n",
              "    }\n",
              "\n",
              "    [theme=dark] .colab-df-convert {\n",
              "      background-color: #3B4455;\n",
              "      fill: #D2E3FC;\n",
              "    }\n",
              "\n",
              "    [theme=dark] .colab-df-convert:hover {\n",
              "      background-color: #434B5C;\n",
              "      box-shadow: 0px 1px 3px 1px rgba(0, 0, 0, 0.15);\n",
              "      filter: drop-shadow(0px 1px 2px rgba(0, 0, 0, 0.3));\n",
              "      fill: #FFFFFF;\n",
              "    }\n",
              "  </style>\n",
              "\n",
              "    <script>\n",
              "      const buttonEl =\n",
              "        document.querySelector('#df-7328664e-6f29-4c88-a777-4a25ebb47a8a button.colab-df-convert');\n",
              "      buttonEl.style.display =\n",
              "        google.colab.kernel.accessAllowed ? 'block' : 'none';\n",
              "\n",
              "      async function convertToInteractive(key) {\n",
              "        const element = document.querySelector('#df-7328664e-6f29-4c88-a777-4a25ebb47a8a');\n",
              "        const dataTable =\n",
              "          await google.colab.kernel.invokeFunction('convertToInteractive',\n",
              "                                                    [key], {});\n",
              "        if (!dataTable) return;\n",
              "\n",
              "        const docLinkHtml = 'Like what you see? Visit the ' +\n",
              "          '<a target=\"_blank\" href=https://colab.research.google.com/notebooks/data_table.ipynb>data table notebook</a>'\n",
              "          + ' to learn more about interactive tables.';\n",
              "        element.innerHTML = '';\n",
              "        dataTable['output_type'] = 'display_data';\n",
              "        await google.colab.output.renderOutput(dataTable, element);\n",
              "        const docLink = document.createElement('div');\n",
              "        docLink.innerHTML = docLinkHtml;\n",
              "        element.appendChild(docLink);\n",
              "      }\n",
              "    </script>\n",
              "  </div>\n",
              "\n",
              "\n",
              "<div id=\"df-ec107a20-c26d-4004-ad21-ff044c38610e\">\n",
              "  <button class=\"colab-df-quickchart\" onclick=\"quickchart('df-ec107a20-c26d-4004-ad21-ff044c38610e')\"\n",
              "            title=\"Suggest charts\"\n",
              "            style=\"display:none;\">\n",
              "\n",
              "<svg xmlns=\"http://www.w3.org/2000/svg\" height=\"24px\"viewBox=\"0 0 24 24\"\n",
              "     width=\"24px\">\n",
              "    <g>\n",
              "        <path d=\"M19 3H5c-1.1 0-2 .9-2 2v14c0 1.1.9 2 2 2h14c1.1 0 2-.9 2-2V5c0-1.1-.9-2-2-2zM9 17H7v-7h2v7zm4 0h-2V7h2v10zm4 0h-2v-4h2v4z\"/>\n",
              "    </g>\n",
              "</svg>\n",
              "  </button>\n",
              "\n",
              "<style>\n",
              "  .colab-df-quickchart {\n",
              "      --bg-color: #E8F0FE;\n",
              "      --fill-color: #1967D2;\n",
              "      --hover-bg-color: #E2EBFA;\n",
              "      --hover-fill-color: #174EA6;\n",
              "      --disabled-fill-color: #AAA;\n",
              "      --disabled-bg-color: #DDD;\n",
              "  }\n",
              "\n",
              "  [theme=dark] .colab-df-quickchart {\n",
              "      --bg-color: #3B4455;\n",
              "      --fill-color: #D2E3FC;\n",
              "      --hover-bg-color: #434B5C;\n",
              "      --hover-fill-color: #FFFFFF;\n",
              "      --disabled-bg-color: #3B4455;\n",
              "      --disabled-fill-color: #666;\n",
              "  }\n",
              "\n",
              "  .colab-df-quickchart {\n",
              "    background-color: var(--bg-color);\n",
              "    border: none;\n",
              "    border-radius: 50%;\n",
              "    cursor: pointer;\n",
              "    display: none;\n",
              "    fill: var(--fill-color);\n",
              "    height: 32px;\n",
              "    padding: 0;\n",
              "    width: 32px;\n",
              "  }\n",
              "\n",
              "  .colab-df-quickchart:hover {\n",
              "    background-color: var(--hover-bg-color);\n",
              "    box-shadow: 0 1px 2px rgba(60, 64, 67, 0.3), 0 1px 3px 1px rgba(60, 64, 67, 0.15);\n",
              "    fill: var(--button-hover-fill-color);\n",
              "  }\n",
              "\n",
              "  .colab-df-quickchart-complete:disabled,\n",
              "  .colab-df-quickchart-complete:disabled:hover {\n",
              "    background-color: var(--disabled-bg-color);\n",
              "    fill: var(--disabled-fill-color);\n",
              "    box-shadow: none;\n",
              "  }\n",
              "\n",
              "  .colab-df-spinner {\n",
              "    border: 2px solid var(--fill-color);\n",
              "    border-color: transparent;\n",
              "    border-bottom-color: var(--fill-color);\n",
              "    animation:\n",
              "      spin 1s steps(1) infinite;\n",
              "  }\n",
              "\n",
              "  @keyframes spin {\n",
              "    0% {\n",
              "      border-color: transparent;\n",
              "      border-bottom-color: var(--fill-color);\n",
              "      border-left-color: var(--fill-color);\n",
              "    }\n",
              "    20% {\n",
              "      border-color: transparent;\n",
              "      border-left-color: var(--fill-color);\n",
              "      border-top-color: var(--fill-color);\n",
              "    }\n",
              "    30% {\n",
              "      border-color: transparent;\n",
              "      border-left-color: var(--fill-color);\n",
              "      border-top-color: var(--fill-color);\n",
              "      border-right-color: var(--fill-color);\n",
              "    }\n",
              "    40% {\n",
              "      border-color: transparent;\n",
              "      border-right-color: var(--fill-color);\n",
              "      border-top-color: var(--fill-color);\n",
              "    }\n",
              "    60% {\n",
              "      border-color: transparent;\n",
              "      border-right-color: var(--fill-color);\n",
              "    }\n",
              "    80% {\n",
              "      border-color: transparent;\n",
              "      border-right-color: var(--fill-color);\n",
              "      border-bottom-color: var(--fill-color);\n",
              "    }\n",
              "    90% {\n",
              "      border-color: transparent;\n",
              "      border-bottom-color: var(--fill-color);\n",
              "    }\n",
              "  }\n",
              "</style>\n",
              "\n",
              "  <script>\n",
              "    async function quickchart(key) {\n",
              "      const quickchartButtonEl =\n",
              "        document.querySelector('#' + key + ' button');\n",
              "      quickchartButtonEl.disabled = true;  // To prevent multiple clicks.\n",
              "      quickchartButtonEl.classList.add('colab-df-spinner');\n",
              "      try {\n",
              "        const charts = await google.colab.kernel.invokeFunction(\n",
              "            'suggestCharts', [key], {});\n",
              "      } catch (error) {\n",
              "        console.error('Error during call to suggestCharts:', error);\n",
              "      }\n",
              "      quickchartButtonEl.classList.remove('colab-df-spinner');\n",
              "      quickchartButtonEl.classList.add('colab-df-quickchart-complete');\n",
              "    }\n",
              "    (() => {\n",
              "      let quickchartButtonEl =\n",
              "        document.querySelector('#df-ec107a20-c26d-4004-ad21-ff044c38610e button');\n",
              "      quickchartButtonEl.style.display =\n",
              "        google.colab.kernel.accessAllowed ? 'block' : 'none';\n",
              "    })();\n",
              "  </script>\n",
              "</div>\n",
              "    </div>\n",
              "  </div>\n"
            ],
            "application/vnd.google.colaboratory.intrinsic+json": {
              "type": "dataframe",
              "variable_name": "cm_df",
              "summary": "{\n  \"name\": \"cm_df\",\n  \"rows\": 2,\n  \"fields\": [\n    {\n      \"column\": \"positive\",\n      \"properties\": {\n        \"dtype\": \"number\",\n        \"std\": 3232,\n        \"min\": 627,\n        \"max\": 5199,\n        \"num_unique_values\": 2,\n        \"samples\": [\n          627,\n          5199\n        ],\n        \"semantic_type\": \"\",\n        \"description\": \"\"\n      }\n    },\n    {\n      \"column\": \"negative\",\n      \"properties\": {\n        \"dtype\": \"number\",\n        \"std\": 4393,\n        \"min\": 700,\n        \"max\": 6914,\n        \"num_unique_values\": 2,\n        \"samples\": [\n          6914,\n          700\n        ],\n        \"semantic_type\": \"\",\n        \"description\": \"\"\n      }\n    }\n  ]\n}"
            }
          },
          "metadata": {},
          "execution_count": 233
        },
        {
          "output_type": "stream",
          "name": "stdout",
          "text": [
            "time: 17 ms (started: 2024-05-23 14:50:46 +00:00)\n"
          ]
        }
      ],
      "source": [
        "cm_df"
      ]
    },
    {
      "cell_type": "code",
      "execution_count": null,
      "metadata": {
        "colab": {
          "base_uri": "https://localhost:8080/"
        },
        "id": "msJf0RnUWWjk",
        "outputId": "1af5af0e-771b-48de-8038-4aaa9d86edec"
      },
      "outputs": [
        {
          "output_type": "stream",
          "name": "stdout",
          "text": [
            "time: 6.54 s (started: 2024-05-23 12:57:00 +00:00)\n"
          ]
        }
      ],
      "source": [
        "%%capture\n",
        "!pip install ipywidgets"
      ]
    },
    {
      "cell_type": "code",
      "execution_count": null,
      "metadata": {
        "colab": {
          "base_uri": "https://localhost:8080/",
          "height": 740,
          "referenced_widgets": [
            "f8dbce256fc44ca9812a21964dfd4406",
            "485bd1d016cb42acaa4661c65c3f3236",
            "860fba34d9e8459bba2ea13b7f9ab226",
            "a7cee3cc32bd4da095a41b10fa210644"
          ]
        },
        "id": "bcqhcR1EWYqZ",
        "outputId": "ed8affa9-2245-410c-e91a-94b1ccdc8651"
      },
      "outputs": [
        {
          "output_type": "display_data",
          "data": {
            "text/plain": [
              "interactive(children=(Output(),), _dom_classes=('widget-interact',))"
            ],
            "application/vnd.jupyter.widget-view+json": {
              "version_major": 2,
              "version_minor": 0,
              "model_id": "f8dbce256fc44ca9812a21964dfd4406"
            }
          },
          "metadata": {}
        },
        {
          "output_type": "execute_result",
          "data": {
            "text/plain": [
              "<function __main__.update_heatmap(vmin, vmax)>"
            ],
            "text/html": [
              "<div style=\"max-width:800px; border: 1px solid var(--colab-border-color);\"><style>\n",
              "      pre.function-repr-contents {\n",
              "        overflow-x: auto;\n",
              "        padding: 8px 12px;\n",
              "        max-height: 500px;\n",
              "      }\n",
              "\n",
              "      pre.function-repr-contents.function-repr-contents-collapsed {\n",
              "        cursor: pointer;\n",
              "        max-height: 100px;\n",
              "      }\n",
              "    </style>\n",
              "    <pre style=\"white-space: initial; background:\n",
              "         var(--colab-secondary-surface-color); padding: 8px 12px;\n",
              "         border-bottom: 1px solid var(--colab-border-color);\"><b>update_heatmap</b><br/>def update_heatmap(vmin, vmax)</pre><pre class=\"function-repr-contents function-repr-contents-collapsed\" style=\"\"><a class=\"filepath\" style=\"display:none\" href=\"#\">/content/drive/MyDrive/Colab_Notebooks/nlp_with_python/ods_nlp_itmo/article/models/&lt;ipython-input-205-04ebeb271ae0&gt;</a>&lt;no docstring&gt;</pre></div>"
            ]
          },
          "metadata": {},
          "execution_count": 205
        },
        {
          "output_type": "display_data",
          "data": {
            "text/plain": [
              "<Figure size 640x480 with 2 Axes>"
            ],
            "image/png": "[encoded data removed]"
          },
          "metadata": {}
        },
        {
          "output_type": "stream",
          "name": "stdout",
          "text": [
            "time: 3.2 s (started: 2024-05-23 12:57:08 +00:00)\n"
          ]
        }
      ],
      "source": [
        "import numpy as np\n",
        "import seaborn as sns\n",
        "import matplotlib.pyplot as plt\n",
        "from ipywidgets import interact, fixed\n",
        "\n",
        "def update_heatmap(vmin, vmax):\n",
        "    ax = sns.heatmap(cm_df / np.sum(cm_df), vmin=vmin, vmax=vmax, annot=True, fmt='.1%', cmap='Blues')\n",
        "    ax.set_title('Interactive Confusion Matrix\\n\\n')\n",
        "    ax.set_xlabel('\\nPredicted')\n",
        "    ax.set_ylabel('Actual')\n",
        "    ax.xaxis.set_ticklabels(id_to_sentiment.values())\n",
        "    ax.yaxis.set_ticklabels(id_to_sentiment.values())\n",
        "\n",
        "interact(update_heatmap, vmin=fixed(0), vmax=fixed(1))"
      ]
    },
    {
      "cell_type": "markdown",
      "metadata": {
        "id": "wsVGKfoaY0yA"
      },
      "source": [
        "# TEXT CLASSIFICATION WITH A CONVOLUTIONAL (CONV1D) LAYER"
      ]
    },
    {
      "cell_type": "markdown",
      "metadata": {
        "id": "EBezw2d5ZAAU"
      },
      "source": [
        "## Let's build a model with a Conv1D layer"
      ]
    },
    {
      "cell_type": "code",
      "execution_count": null,
      "metadata": {
        "colab": {
          "base_uri": "https://localhost:8080/"
        },
        "id": "OrWCjkFCYcvZ",
        "outputId": "e85d0be1-e8c5-4ad9-e97a-a9e625adf0db"
      },
      "outputs": [
        {
          "output_type": "stream",
          "name": "stdout",
          "text": [
            "time: 243 ms (started: 2024-05-23 12:57:47 +00:00)\n"
          ]
        }
      ],
      "source": [
        "from tensorflow.keras import layers, Model\n",
        "\n",
        "class Conv1DModel:\n",
        "    def __init__(self, vocab_size, max_len, number_of_categories):\n",
        "        self.embed_dim = 16\n",
        "        self.feed_forward_dim = 64\n",
        "        self.vocab_size = vocab_size\n",
        "        self.max_len = max_len\n",
        "        self.number_of_categories = number_of_categories\n",
        "\n",
        "    def create_model(self):\n",
        "        inputs_tokens = layers.Input(shape=(self.max_len,), dtype=tf.int32)\n",
        "        embedding_layer = layers.Embedding(input_dim=self.vocab_size,\n",
        "                                           output_dim=self.embed_dim,\n",
        "                                           input_length=self.max_len)\n",
        "        x = embedding_layer(inputs_tokens)\n",
        "        x = layers.Conv1D(filters=256, kernel_size=7,\n",
        "                          padding='same', activation='relu')(x)\n",
        "        x = layers.Conv1D(filters=128, kernel_size=5,\n",
        "                          padding='same', activation='relu')(x)\n",
        "        x = layers.Conv1D(filters=128, kernel_size=3,\n",
        "                          padding='same', activation='relu')(x)\n",
        "        x = layers.MaxPooling1D(pool_size=2)(x)\n",
        "        x = layers.Flatten()(x)\n",
        "        x = layers.Dense(self.feed_forward_dim, activation='sigmoid')(x)\n",
        "        x = layers.Dropout(0.5)(x)\n",
        "        outputs = layers.Dense(self.number_of_categories)(x)\n",
        "        model = Model(inputs=inputs_tokens,\n",
        "                      outputs=outputs, name='model_Conv1D')\n",
        "        loss_fn = tf.keras.losses.SparseCategoricalCrossentropy(from_logits=True)\n",
        "        metric_fn = tf.keras.metrics.SparseCategoricalAccuracy()\n",
        "        model.compile(optimizer=\"adam\", loss=loss_fn, metrics=metric_fn)\n",
        "        return model\n",
        "\n",
        "\n",
        "conv1d_model = Conv1DModel(vocab_size, max_len, 3)\n",
        "model = conv1d_model.create_model()"
      ]
    },
    {
      "cell_type": "code",
      "execution_count": null,
      "metadata": {
        "colab": {
          "base_uri": "https://localhost:8080/"
        },
        "id": "_oPM8Iy9ZiJ7",
        "outputId": "a91a0a6e-5746-481f-c168-dfe37f4d9dcf"
      },
      "outputs": [
        {
          "output_type": "stream",
          "name": "stdout",
          "text": [
            "Model: \"model_Conv1D\"\n",
            "_________________________________________________________________\n",
            " Layer (type)                Output Shape              Param #   \n",
            "=================================================================\n",
            " input_4 (InputLayer)        [(None, 53)]              0         \n",
            "                                                                 \n",
            " embedding_1 (Embedding)     (None, 53, 16)            237056    \n",
            "                                                                 \n",
            " conv1d (Conv1D)             (None, 53, 256)           28928     \n",
            "                                                                 \n",
            " conv1d_1 (Conv1D)           (None, 53, 128)           163968    \n",
            "                                                                 \n",
            " conv1d_2 (Conv1D)           (None, 53, 128)           49280     \n",
            "                                                                 \n",
            " max_pooling1d (MaxPooling1  (None, 26, 128)           0         \n",
            " D)                                                              \n",
            "                                                                 \n",
            " flatten_1 (Flatten)         (None, 3328)              0         \n",
            "                                                                 \n",
            " dense_2 (Dense)             (None, 64)                213056    \n",
            "                                                                 \n",
            " dropout_1 (Dropout)         (None, 64)                0         \n",
            "                                                                 \n",
            " dense_3 (Dense)             (None, 3)                 195       \n",
            "                                                                 \n",
            "=================================================================\n",
            "Total params: 692483 (2.64 MB)\n",
            "Trainable params: 692483 (2.64 MB)\n",
            "Non-trainable params: 0 (0.00 Byte)\n",
            "_________________________________________________________________\n",
            "time: 43.9 ms (started: 2024-05-23 12:57:49 +00:00)\n"
          ]
        }
      ],
      "source": [
        "model.summary()"
      ]
    },
    {
      "cell_type": "code",
      "execution_count": null,
      "metadata": {
        "colab": {
          "base_uri": "https://localhost:8080/"
        },
        "id": "GzTtDn-Sdbme",
        "outputId": "c60a561b-cfdf-4b74-bd31-a0c518698b9f"
      },
      "outputs": [
        {
          "output_type": "stream",
          "name": "stdout",
          "text": [
            "Model: \"model_Conv1D\"\n",
            "_________________________________________________________________\n",
            " Layer (type)                Output Shape              Param #   \n",
            "=================================================================\n",
            " input_4 (InputLayer)        [(None, 53)]              0         \n",
            "                                                                 \n",
            " embedding_1 (Embedding)     (None, 53, 16)            237056    \n",
            "                                                                 \n",
            " conv1d (Conv1D)             (None, 53, 256)           28928     \n",
            "                                                                 \n",
            " conv1d_1 (Conv1D)           (None, 53, 128)           163968    \n",
            "                                                                 \n",
            " conv1d_2 (Conv1D)           (None, 53, 128)           49280     \n",
            "                                                                 \n",
            " max_pooling1d (MaxPooling1  (None, 26, 128)           0         \n",
            " D)                                                              \n",
            "                                                                 \n",
            " flatten_1 (Flatten)         (None, 3328)              0         \n",
            "                                                                 \n",
            " dense_2 (Dense)             (None, 64)                213056    \n",
            "                                                                 \n",
            " dropout_1 (Dropout)         (None, 64)                0         \n",
            "                                                                 \n",
            " dense_3 (Dense)             (None, 3)                 195       \n",
            "                                                                 \n",
            "=================================================================\n",
            "Total params: 692483 (2.64 MB)\n",
            "Trainable params: 692483 (2.64 MB)\n",
            "Non-trainable params: 0 (0.00 Byte)\n",
            "_________________________________________________________________\n",
            "time: 45.1 ms (started: 2024-05-23 12:57:52 +00:00)\n"
          ]
        }
      ],
      "source": [
        "model.summary()"
      ]
    },
    {
      "cell_type": "code",
      "execution_count": null,
      "metadata": {
        "colab": {
          "base_uri": "https://localhost:8080/",
          "height": 1000
        },
        "id": "Br9H5Mw1dvll",
        "outputId": "b17fa564-6342-4c24-fbac-d9b295982bcb"
      },
      "outputs": [
        {
          "output_type": "execute_result",
          "data": {
            "image/png": "[encoded data removed]",
            "text/plain": [
              "<IPython.core.display.Image object>"
            ]
          },
          "metadata": {},
          "execution_count": 209
        },
        {
          "output_type": "stream",
          "name": "stdout",
          "text": [
            "time: 95.4 ms (started: 2024-05-23 12:57:54 +00:00)\n"
          ]
        }
      ],
      "source": [
        "tf.keras.utils.plot_model(model,show_shapes=True)"
      ]
    },
    {
      "cell_type": "markdown",
      "metadata": {
        "id": "nUrnLgrneFq7"
      },
      "source": [
        "## Train"
      ]
    },
    {
      "cell_type": "code",
      "execution_count": null,
      "metadata": {
        "colab": {
          "base_uri": "https://localhost:8080/"
        },
        "id": "P6f53vLeeHde",
        "outputId": "641f071f-62ac-4531-de2a-8b7c1a80e5e7"
      },
      "outputs": [
        {
          "output_type": "stream",
          "name": "stdout",
          "text": [
            "Epoch 1/25\n",
            "841/841 [==============================] - 136s 159ms/step - loss: 0.4072 - sparse_categorical_accuracy: 0.8146 - val_loss: 0.4201 - val_sparse_categorical_accuracy: 0.8317\n",
            "Epoch 2/25\n",
            "841/841 [==============================] - 112s 133ms/step - loss: 0.2079 - sparse_categorical_accuracy: 0.9258 - val_loss: 0.4638 - val_sparse_categorical_accuracy: 0.8353\n",
            "Epoch 3/25\n",
            "841/841 [==============================] - 112s 133ms/step - loss: 0.1411 - sparse_categorical_accuracy: 0.9509 - val_loss: 0.5477 - val_sparse_categorical_accuracy: 0.8293\n",
            "Epoch 4/25\n",
            "841/841 [==============================] - 112s 133ms/step - loss: 0.1004 - sparse_categorical_accuracy: 0.9661 - val_loss: 0.6062 - val_sparse_categorical_accuracy: 0.8185\n",
            "Epoch 5/25\n",
            "841/841 [==============================] - 116s 138ms/step - loss: 0.0757 - sparse_categorical_accuracy: 0.9750 - val_loss: 0.7614 - val_sparse_categorical_accuracy: 0.7957\n",
            "Epoch 6/25\n",
            "841/841 [==============================] - 110s 131ms/step - loss: 0.0615 - sparse_categorical_accuracy: 0.9802 - val_loss: 0.7480 - val_sparse_categorical_accuracy: 0.8125\n",
            "Epoch 7/25\n",
            "841/841 [==============================] - 112s 133ms/step - loss: 0.0517 - sparse_categorical_accuracy: 0.9838 - val_loss: 0.8374 - val_sparse_categorical_accuracy: 0.8065\n",
            "Epoch 8/25\n",
            "841/841 [==============================] - 111s 133ms/step - loss: 0.0434 - sparse_categorical_accuracy: 0.9863 - val_loss: 0.8505 - val_sparse_categorical_accuracy: 0.8149\n",
            "Epoch 9/25\n",
            "841/841 [==============================] - 110s 131ms/step - loss: 0.0378 - sparse_categorical_accuracy: 0.9890 - val_loss: 0.9091 - val_sparse_categorical_accuracy: 0.8149\n",
            "Epoch 10/25\n",
            "841/841 [==============================] - 111s 132ms/step - loss: 0.0318 - sparse_categorical_accuracy: 0.9904 - val_loss: 0.8829 - val_sparse_categorical_accuracy: 0.8221\n",
            "Epoch 11/25\n",
            "841/841 [==============================] - 111s 132ms/step - loss: 0.0327 - sparse_categorical_accuracy: 0.9902 - val_loss: 0.9462 - val_sparse_categorical_accuracy: 0.8173\n",
            "Epoch 12/25\n",
            "841/841 [==============================] - 111s 133ms/step - loss: 0.0287 - sparse_categorical_accuracy: 0.9919 - val_loss: 1.1203 - val_sparse_categorical_accuracy: 0.8017\n",
            "Epoch 13/25\n",
            "841/841 [==============================] - 112s 133ms/step - loss: 0.0287 - sparse_categorical_accuracy: 0.9924 - val_loss: 0.9080 - val_sparse_categorical_accuracy: 0.8197\n",
            "Epoch 14/25\n",
            "841/841 [==============================] - 112s 133ms/step - loss: 0.0283 - sparse_categorical_accuracy: 0.9923 - val_loss: 0.9437 - val_sparse_categorical_accuracy: 0.8161\n",
            "Epoch 15/25\n",
            "841/841 [==============================] - 113s 135ms/step - loss: 0.0270 - sparse_categorical_accuracy: 0.9928 - val_loss: 1.0148 - val_sparse_categorical_accuracy: 0.8077\n",
            "Epoch 16/25\n",
            "841/841 [==============================] - 112s 133ms/step - loss: 0.0241 - sparse_categorical_accuracy: 0.9936 - val_loss: 1.0572 - val_sparse_categorical_accuracy: 0.8029\n",
            "Epoch 17/25\n",
            "841/841 [==============================] - 112s 133ms/step - loss: 0.0255 - sparse_categorical_accuracy: 0.9933 - val_loss: 1.0270 - val_sparse_categorical_accuracy: 0.8077\n",
            "Epoch 18/25\n",
            "841/841 [==============================] - 111s 132ms/step - loss: 0.0258 - sparse_categorical_accuracy: 0.9927 - val_loss: 0.9717 - val_sparse_categorical_accuracy: 0.8137\n",
            "Epoch 19/25\n",
            "841/841 [==============================] - 112s 133ms/step - loss: 0.0261 - sparse_categorical_accuracy: 0.9928 - val_loss: 0.9887 - val_sparse_categorical_accuracy: 0.7981\n",
            "Epoch 20/25\n",
            "841/841 [==============================] - 111s 132ms/step - loss: 0.0231 - sparse_categorical_accuracy: 0.9936 - val_loss: 0.9512 - val_sparse_categorical_accuracy: 0.8173\n",
            "Epoch 21/25\n",
            "841/841 [==============================] - 111s 132ms/step - loss: 0.0241 - sparse_categorical_accuracy: 0.9937 - val_loss: 0.9761 - val_sparse_categorical_accuracy: 0.8089\n",
            "Epoch 22/25\n",
            "841/841 [==============================] - 111s 132ms/step - loss: 0.0218 - sparse_categorical_accuracy: 0.9936 - val_loss: 1.0182 - val_sparse_categorical_accuracy: 0.8077\n",
            "Epoch 23/25\n",
            "841/841 [==============================] - 111s 132ms/step - loss: 0.0215 - sparse_categorical_accuracy: 0.9943 - val_loss: 1.0670 - val_sparse_categorical_accuracy: 0.7981\n",
            "Epoch 24/25\n",
            "841/841 [==============================] - 111s 132ms/step - loss: 0.0231 - sparse_categorical_accuracy: 0.9938 - val_loss: 1.0318 - val_sparse_categorical_accuracy: 0.8185\n",
            "Epoch 25/25\n",
            "841/841 [==============================] - 112s 133ms/step - loss: 0.0218 - sparse_categorical_accuracy: 0.9941 - val_loss: 1.0873 - val_sparse_categorical_accuracy: 0.8041\n",
            "time: 52min 31s (started: 2024-05-23 12:58:01 +00:00)\n"
          ]
        }
      ],
      "source": [
        "history=model.fit(train_ds, validation_data=val_ds ,verbose=1, epochs=25)"
      ]
    },
    {
      "cell_type": "markdown",
      "metadata": {
        "id": "CF5J84BcNY0G"
      },
      "source": [
        "Let's observe the **accuracy** and the **loss** values during the training:"
      ]
    },
    {
      "cell_type": "code",
      "execution_count": null,
      "metadata": {
        "colab": {
          "base_uri": "https://localhost:8080/",
          "height": 538
        },
        "id": "Y-8LxOdNfESU",
        "outputId": "181e4e1c-d95b-428d-ce06-da7a86eab862"
      },
      "outputs": [
        {
          "output_type": "display_data",
          "data": {
            "text/plain": [
              "<Figure size 640x480 with 1 Axes>"
            ],
            "image/png": "[encoded data removed]"
          },
          "metadata": {}
        },
        {
          "output_type": "stream",
          "name": "stdout",
          "text": [
            "time: 286 ms (started: 2024-05-23 13:55:39 +00:00)\n"
          ]
        }
      ],
      "source": [
        "plt.plot(history.history['sparse_categorical_accuracy'])\n",
        "plt.plot(history.history['val_sparse_categorical_accuracy'])\n",
        "plt.title('model Conv1D accuracy')\n",
        "plt.ylabel('accuracy')\n",
        "plt.xlabel('epoch')\n",
        "plt.legend(['train', 'val'], loc='upper left')\n",
        "plt.show()"
      ]
    },
    {
      "cell_type": "code",
      "execution_count": null,
      "metadata": {
        "colab": {
          "base_uri": "https://localhost:8080/",
          "height": 538
        },
        "id": "apYAoL4rfNFu",
        "outputId": "18e3bc7e-ffa9-4ce5-8ead-ed48eb0aa269"
      },
      "outputs": [
        {
          "output_type": "display_data",
          "data": {
            "text/plain": [
              "<Figure size 640x480 with 1 Axes>"
            ],
            "image/png": "[encoded data removed]"
          },
          "metadata": {}
        },
        {
          "output_type": "stream",
          "name": "stdout",
          "text": [
            "time: 288 ms (started: 2024-05-23 13:55:57 +00:00)\n"
          ]
        }
      ],
      "source": [
        "plt.plot(history.history['loss'])\n",
        "plt.plot(history.history['val_loss'])\n",
        "plt.title('model Conv1D loss')\n",
        "plt.ylabel('loss')\n",
        "plt.xlabel('epoch')\n",
        "plt.legend(['train', 'val'], loc='upper left')\n",
        "plt.show()"
      ]
    },
    {
      "cell_type": "markdown",
      "metadata": {
        "id": "47JZwp2afkc0"
      },
      "source": [
        "## Save the trained model"
      ]
    },
    {
      "cell_type": "code",
      "execution_count": null,
      "metadata": {
        "colab": {
          "base_uri": "https://localhost:8080/"
        },
        "id": "jl2SUiEtfcXc",
        "outputId": "eb254798-8a5a-41fb-a75d-839b5280e180"
      },
      "outputs": [
        {
          "output_type": "stream",
          "name": "stdout",
          "text": [
            "time: 1.2 s (started: 2024-05-23 13:56:11 +00:00)\n"
          ]
        }
      ],
      "source": [
        "tf.keras.models.save_model(model, 'MultiClassTextClassification_Conv1D')"
      ]
    },
    {
      "cell_type": "code",
      "execution_count": null,
      "metadata": {
        "colab": {
          "base_uri": "https://localhost:8080/"
        },
        "id": "YiofA8thAsIk",
        "outputId": "bbf5f95c-3426-4262-85ec-195e9963b157"
      },
      "outputs": [
        {
          "output_type": "stream",
          "name": "stdout",
          "text": [
            "time: 505 ms (started: 2024-05-23 13:56:14 +00:00)\n"
          ]
        }
      ],
      "source": [
        "model_Conv1D=tf.keras.models.load_model('MultiClassTextClassification_Conv1D')"
      ]
    },
    {
      "cell_type": "code",
      "execution_count": null,
      "metadata": {
        "colab": {
          "base_uri": "https://localhost:8080/"
        },
        "id": "QvXdtHhyBLsq",
        "outputId": "6fefc764-37ec-4bfd-cd8e-d96204f98b53"
      },
      "outputs": [
        {
          "output_type": "stream",
          "name": "stdout",
          "text": [
            "Model: \"model_Conv1D\"\n",
            "_________________________________________________________________\n",
            " Layer (type)                Output Shape              Param #   \n",
            "=================================================================\n",
            " input_4 (InputLayer)        [(None, 53)]              0         \n",
            "                                                                 \n",
            " embedding_1 (Embedding)     (None, 53, 16)            237056    \n",
            "                                                                 \n",
            " conv1d (Conv1D)             (None, 53, 256)           28928     \n",
            "                                                                 \n",
            " conv1d_1 (Conv1D)           (None, 53, 128)           163968    \n",
            "                                                                 \n",
            " conv1d_2 (Conv1D)           (None, 53, 128)           49280     \n",
            "                                                                 \n",
            " max_pooling1d (MaxPooling1  (None, 26, 128)           0         \n",
            " D)                                                              \n",
            "                                                                 \n",
            " flatten_1 (Flatten)         (None, 3328)              0         \n",
            "                                                                 \n",
            " dense_2 (Dense)             (None, 64)                213056    \n",
            "                                                                 \n",
            " dropout_1 (Dropout)         (None, 64)                0         \n",
            "                                                                 \n",
            " dense_3 (Dense)             (None, 3)                 195       \n",
            "                                                                 \n",
            "=================================================================\n",
            "Total params: 692483 (2.64 MB)\n",
            "Trainable params: 692483 (2.64 MB)\n",
            "Non-trainable params: 0 (0.00 Byte)\n",
            "_________________________________________________________________\n",
            "time: 52.3 ms (started: 2024-05-23 13:56:15 +00:00)\n"
          ]
        }
      ],
      "source": [
        "model_Conv1D.summary()"
      ]
    },
    {
      "cell_type": "markdown",
      "metadata": {
        "id": "XvN-VHY0foZX"
      },
      "source": [
        "## Test"
      ]
    },
    {
      "cell_type": "code",
      "execution_count": null,
      "metadata": {
        "colab": {
          "base_uri": "https://localhost:8080/"
        },
        "id": "xRdKZGY9fpRY",
        "outputId": "0d6e0170-1517-4797-9a50-d1adbc5274a5"
      },
      "outputs": [
        {
          "output_type": "stream",
          "name": "stdout",
          "text": [
            "210/210 [==============================] - 8s 35ms/step - loss: 0.4953 - sparse_categorical_accuracy: 0.9152\n",
            "Test accuracy:  0.9151785969734192\n",
            "time: 7.7 s (started: 2024-05-23 13:56:21 +00:00)\n"
          ]
        }
      ],
      "source": [
        "loss, accuracy = model_Conv1D.evaluate(test_ds)\n",
        "print(\"Test accuracy: \", accuracy)"
      ]
    },
    {
      "cell_type": "markdown",
      "metadata": {
        "id": "SY00yPKaU_KQ"
      },
      "source": [
        "## Predictions"
      ]
    },
    {
      "cell_type": "markdown",
      "metadata": {
        "id": "wqAB4CHdVA7I"
      },
      "source": [
        "We can use the **trained model** `predict()` method to **predict** the class of the given reviews as follows:"
      ]
    },
    {
      "cell_type": "code",
      "execution_count": null,
      "metadata": {
        "colab": {
          "base_uri": "https://localhost:8080/"
        },
        "id": "nyZx161DVGPm",
        "outputId": "379ed85a-6101-408d-eb0d-bbab8b87038e"
      },
      "outputs": [
        {
          "output_type": "stream",
          "name": "stdout",
          "text": [
            "210/210 [==============================] - 8s 39ms/step\n",
            "time: 8.51 s (started: 2024-05-23 13:56:35 +00:00)\n"
          ]
        }
      ],
      "source": [
        "preds = model_Conv1D.predict(test_ds)\n",
        "preds = preds.argmax(axis=1)"
      ]
    },
    {
      "cell_type": "markdown",
      "metadata": {
        "id": "_G7kZj2_VORb"
      },
      "source": [
        "We can also get the **actual (true)** class of the given reviews as follows:"
      ]
    },
    {
      "cell_type": "code",
      "execution_count": null,
      "metadata": {
        "id": "O0aLGbyDVT_4",
        "colab": {
          "base_uri": "https://localhost:8080/"
        },
        "outputId": "3e935265-c75d-4447-8287-4bd6e17958bd"
      },
      "outputs": [
        {
          "output_type": "stream",
          "name": "stdout",
          "text": [
            "time: 5.14 s (started: 2024-05-23 13:56:48 +00:00)\n"
          ]
        }
      ],
      "source": [
        "actuals = test_ds.unbatch().map(lambda x,y: y)\n",
        "actuals=list(actuals.as_numpy_iterator())"
      ]
    },
    {
      "cell_type": "markdown",
      "metadata": {
        "id": "8lkY9jOXVfK9"
      },
      "source": [
        "By comparing the ***`preds`*** and the ***`actuals`***\n",
        "values, we can **measure** the model performance as below."
      ]
    },
    {
      "cell_type": "markdown",
      "metadata": {
        "id": "qPNXfQoRVlHP"
      },
      "source": [
        "## Classification Report"
      ]
    },
    {
      "cell_type": "code",
      "execution_count": null,
      "metadata": {
        "id": "N249MuHjVxch",
        "colab": {
          "base_uri": "https://localhost:8080/"
        },
        "outputId": "7217a462-08a9-47ad-e28e-6d22bbcf8034"
      },
      "outputs": [
        {
          "output_type": "stream",
          "name": "stdout",
          "text": [
            "              precision    recall  f1-score   support\n",
            "\n",
            "           0     0.9112    0.8939    0.9024      5899\n",
            "           1     0.9182    0.9318    0.9250      7541\n",
            "\n",
            "    accuracy                         0.9152     13440\n",
            "   macro avg     0.9147    0.9129    0.9137     13440\n",
            "weighted avg     0.9151    0.9152    0.9151     13440\n",
            "\n",
            "time: 35.7 ms (started: 2024-05-23 13:56:57 +00:00)\n"
          ]
        }
      ],
      "source": [
        "from sklearn import metrics\n",
        "print(metrics.classification_report(actuals, preds, digits=4))"
      ]
    },
    {
      "cell_type": "code",
      "execution_count": null,
      "metadata": {
        "id": "D7mg_8FYcnCe",
        "colab": {
          "base_uri": "https://localhost:8080/"
        },
        "outputId": "f7847ae0-8131-4c12-ae86-d1ce6d0139ae"
      },
      "outputs": [
        {
          "output_type": "stream",
          "name": "stdout",
          "text": [
            "time: 10.1 ms (started: 2024-05-23 13:56:59 +00:00)\n"
          ]
        }
      ],
      "source": [
        "from sklearn.metrics import confusion_matrix\n",
        "# Creating  a confusion matrix,\n",
        "# which compares the y_test and y_pred\n",
        "cm = confusion_matrix(actuals, preds)\n",
        "cm_df = pd.DataFrame(cm, index = id_to_sentiment.values() ,\n",
        "                     columns = id_to_sentiment.values())"
      ]
    },
    {
      "cell_type": "code",
      "execution_count": null,
      "metadata": {
        "id": "gOKeea3octkH",
        "colab": {
          "base_uri": "https://localhost:8080/",
          "height": 129
        },
        "outputId": "40975682-51fb-4c50-c3c0-07e914c8d9cf"
      },
      "outputs": [
        {
          "output_type": "execute_result",
          "data": {
            "text/plain": [
              "          positive  negative\n",
              "positive      5273       626\n",
              "negative       514      7027"
            ],
            "text/html": [
              "\n",
              "  <div id=\"df-31106c47-ae3d-4776-b8f0-9e9ee753f0ff\" class=\"colab-df-container\">\n",
              "    <div>\n",
              "<style scoped>\n",
              "    .dataframe tbody tr th:only-of-type {\n",
              "        vertical-align: middle;\n",
              "    }\n",
              "\n",
              "    .dataframe tbody tr th {\n",
              "        vertical-align: top;\n",
              "    }\n",
              "\n",
              "    .dataframe thead th {\n",
              "        text-align: right;\n",
              "    }\n",
              "</style>\n",
              "<table border=\"1\" class=\"dataframe\">\n",
              "  <thead>\n",
              "    <tr style=\"text-align: right;\">\n",
              "      <th></th>\n",
              "      <th>positive</th>\n",
              "      <th>negative</th>\n",
              "    </tr>\n",
              "  </thead>\n",
              "  <tbody>\n",
              "    <tr>\n",
              "      <th>positive</th>\n",
              "      <td>5273</td>\n",
              "      <td>626</td>\n",
              "    </tr>\n",
              "    <tr>\n",
              "      <th>negative</th>\n",
              "      <td>514</td>\n",
              "      <td>7027</td>\n",
              "    </tr>\n",
              "  </tbody>\n",
              "</table>\n",
              "</div>\n",
              "    <div class=\"colab-df-buttons\">\n",
              "\n",
              "  <div class=\"colab-df-container\">\n",
              "    <button class=\"colab-df-convert\" onclick=\"convertToInteractive('df-31106c47-ae3d-4776-b8f0-9e9ee753f0ff')\"\n",
              "            title=\"Convert this dataframe to an interactive table.\"\n",
              "            style=\"display:none;\">\n",
              "\n",
              "  <svg xmlns=\"http://www.w3.org/2000/svg\" height=\"24px\" viewBox=\"0 -960 960 960\">\n",
              "    <path d=\"M120-120v-720h720v720H120Zm60-500h600v-160H180v160Zm220 220h160v-160H400v160Zm0 220h160v-160H400v160ZM180-400h160v-160H180v160Zm440 0h160v-160H620v160ZM180-180h160v-160H180v160Zm440 0h160v-160H620v160Z\"/>\n",
              "  </svg>\n",
              "    </button>\n",
              "\n",
              "  <style>\n",
              "    .colab-df-container {\n",
              "      display:flex;\n",
              "      gap: 12px;\n",
              "    }\n",
              "\n",
              "    .colab-df-convert {\n",
              "      background-color: #E8F0FE;\n",
              "      border: none;\n",
              "      border-radius: 50%;\n",
              "      cursor: pointer;\n",
              "      display: none;\n",
              "      fill: #1967D2;\n",
              "      height: 32px;\n",
              "      padding: 0 0 0 0;\n",
              "      width: 32px;\n",
              "    }\n",
              "\n",
              "    .colab-df-convert:hover {\n",
              "      background-color: #E2EBFA;\n",
              "      box-shadow: 0px 1px 2px rgba(60, 64, 67, 0.3), 0px 1px 3px 1px rgba(60, 64, 67, 0.15);\n",
              "      fill: #174EA6;\n",
              "    }\n",
              "\n",
              "    .colab-df-buttons div {\n",
              "      margin-bottom: 4px;\n",
              "    }\n",
              "\n",
              "    [theme=dark] .colab-df-convert {\n",
              "      background-color: #3B4455;\n",
              "      fill: #D2E3FC;\n",
              "    }\n",
              "\n",
              "    [theme=dark] .colab-df-convert:hover {\n",
              "      background-color: #434B5C;\n",
              "      box-shadow: 0px 1px 3px 1px rgba(0, 0, 0, 0.15);\n",
              "      filter: drop-shadow(0px 1px 2px rgba(0, 0, 0, 0.3));\n",
              "      fill: #FFFFFF;\n",
              "    }\n",
              "  </style>\n",
              "\n",
              "    <script>\n",
              "      const buttonEl =\n",
              "        document.querySelector('#df-31106c47-ae3d-4776-b8f0-9e9ee753f0ff button.colab-df-convert');\n",
              "      buttonEl.style.display =\n",
              "        google.colab.kernel.accessAllowed ? 'block' : 'none';\n",
              "\n",
              "      async function convertToInteractive(key) {\n",
              "        const element = document.querySelector('#df-31106c47-ae3d-4776-b8f0-9e9ee753f0ff');\n",
              "        const dataTable =\n",
              "          await google.colab.kernel.invokeFunction('convertToInteractive',\n",
              "                                                    [key], {});\n",
              "        if (!dataTable) return;\n",
              "\n",
              "        const docLinkHtml = 'Like what you see? Visit the ' +\n",
              "          '<a target=\"_blank\" href=https://colab.research.google.com/notebooks/data_table.ipynb>data table notebook</a>'\n",
              "          + ' to learn more about interactive tables.';\n",
              "        element.innerHTML = '';\n",
              "        dataTable['output_type'] = 'display_data';\n",
              "        await google.colab.output.renderOutput(dataTable, element);\n",
              "        const docLink = document.createElement('div');\n",
              "        docLink.innerHTML = docLinkHtml;\n",
              "        element.appendChild(docLink);\n",
              "      }\n",
              "    </script>\n",
              "  </div>\n",
              "\n",
              "\n",
              "<div id=\"df-c4e86478-53cf-4312-b632-4b0627ff0bcd\">\n",
              "  <button class=\"colab-df-quickchart\" onclick=\"quickchart('df-c4e86478-53cf-4312-b632-4b0627ff0bcd')\"\n",
              "            title=\"Suggest charts\"\n",
              "            style=\"display:none;\">\n",
              "\n",
              "<svg xmlns=\"http://www.w3.org/2000/svg\" height=\"24px\"viewBox=\"0 0 24 24\"\n",
              "     width=\"24px\">\n",
              "    <g>\n",
              "        <path d=\"M19 3H5c-1.1 0-2 .9-2 2v14c0 1.1.9 2 2 2h14c1.1 0 2-.9 2-2V5c0-1.1-.9-2-2-2zM9 17H7v-7h2v7zm4 0h-2V7h2v10zm4 0h-2v-4h2v4z\"/>\n",
              "    </g>\n",
              "</svg>\n",
              "  </button>\n",
              "\n",
              "<style>\n",
              "  .colab-df-quickchart {\n",
              "      --bg-color: #E8F0FE;\n",
              "      --fill-color: #1967D2;\n",
              "      --hover-bg-color: #E2EBFA;\n",
              "      --hover-fill-color: #174EA6;\n",
              "      --disabled-fill-color: #AAA;\n",
              "      --disabled-bg-color: #DDD;\n",
              "  }\n",
              "\n",
              "  [theme=dark] .colab-df-quickchart {\n",
              "      --bg-color: #3B4455;\n",
              "      --fill-color: #D2E3FC;\n",
              "      --hover-bg-color: #434B5C;\n",
              "      --hover-fill-color: #FFFFFF;\n",
              "      --disabled-bg-color: #3B4455;\n",
              "      --disabled-fill-color: #666;\n",
              "  }\n",
              "\n",
              "  .colab-df-quickchart {\n",
              "    background-color: var(--bg-color);\n",
              "    border: none;\n",
              "    border-radius: 50%;\n",
              "    cursor: pointer;\n",
              "    display: none;\n",
              "    fill: var(--fill-color);\n",
              "    height: 32px;\n",
              "    padding: 0;\n",
              "    width: 32px;\n",
              "  }\n",
              "\n",
              "  .colab-df-quickchart:hover {\n",
              "    background-color: var(--hover-bg-color);\n",
              "    box-shadow: 0 1px 2px rgba(60, 64, 67, 0.3), 0 1px 3px 1px rgba(60, 64, 67, 0.15);\n",
              "    fill: var(--button-hover-fill-color);\n",
              "  }\n",
              "\n",
              "  .colab-df-quickchart-complete:disabled,\n",
              "  .colab-df-quickchart-complete:disabled:hover {\n",
              "    background-color: var(--disabled-bg-color);\n",
              "    fill: var(--disabled-fill-color);\n",
              "    box-shadow: none;\n",
              "  }\n",
              "\n",
              "  .colab-df-spinner {\n",
              "    border: 2px solid var(--fill-color);\n",
              "    border-color: transparent;\n",
              "    border-bottom-color: var(--fill-color);\n",
              "    animation:\n",
              "      spin 1s steps(1) infinite;\n",
              "  }\n",
              "\n",
              "  @keyframes spin {\n",
              "    0% {\n",
              "      border-color: transparent;\n",
              "      border-bottom-color: var(--fill-color);\n",
              "      border-left-color: var(--fill-color);\n",
              "    }\n",
              "    20% {\n",
              "      border-color: transparent;\n",
              "      border-left-color: var(--fill-color);\n",
              "      border-top-color: var(--fill-color);\n",
              "    }\n",
              "    30% {\n",
              "      border-color: transparent;\n",
              "      border-left-color: var(--fill-color);\n",
              "      border-top-color: var(--fill-color);\n",
              "      border-right-color: var(--fill-color);\n",
              "    }\n",
              "    40% {\n",
              "      border-color: transparent;\n",
              "      border-right-color: var(--fill-color);\n",
              "      border-top-color: var(--fill-color);\n",
              "    }\n",
              "    60% {\n",
              "      border-color: transparent;\n",
              "      border-right-color: var(--fill-color);\n",
              "    }\n",
              "    80% {\n",
              "      border-color: transparent;\n",
              "      border-right-color: var(--fill-color);\n",
              "      border-bottom-color: var(--fill-color);\n",
              "    }\n",
              "    90% {\n",
              "      border-color: transparent;\n",
              "      border-bottom-color: var(--fill-color);\n",
              "    }\n",
              "  }\n",
              "</style>\n",
              "\n",
              "  <script>\n",
              "    async function quickchart(key) {\n",
              "      const quickchartButtonEl =\n",
              "        document.querySelector('#' + key + ' button');\n",
              "      quickchartButtonEl.disabled = true;  // To prevent multiple clicks.\n",
              "      quickchartButtonEl.classList.add('colab-df-spinner');\n",
              "      try {\n",
              "        const charts = await google.colab.kernel.invokeFunction(\n",
              "            'suggestCharts', [key], {});\n",
              "      } catch (error) {\n",
              "        console.error('Error during call to suggestCharts:', error);\n",
              "      }\n",
              "      quickchartButtonEl.classList.remove('colab-df-spinner');\n",
              "      quickchartButtonEl.classList.add('colab-df-quickchart-complete');\n",
              "    }\n",
              "    (() => {\n",
              "      let quickchartButtonEl =\n",
              "        document.querySelector('#df-c4e86478-53cf-4312-b632-4b0627ff0bcd button');\n",
              "      quickchartButtonEl.style.display =\n",
              "        google.colab.kernel.accessAllowed ? 'block' : 'none';\n",
              "    })();\n",
              "  </script>\n",
              "</div>\n",
              "    </div>\n",
              "  </div>\n"
            ],
            "application/vnd.google.colaboratory.intrinsic+json": {
              "type": "dataframe",
              "variable_name": "cm_df",
              "summary": "{\n  \"name\": \"cm_df\",\n  \"rows\": 2,\n  \"fields\": [\n    {\n      \"column\": \"positive\",\n      \"properties\": {\n        \"dtype\": \"number\",\n        \"std\": 3365,\n        \"min\": 514,\n        \"max\": 5273,\n        \"num_unique_values\": 2,\n        \"samples\": [\n          514,\n          5273\n        ],\n        \"semantic_type\": \"\",\n        \"description\": \"\"\n      }\n    },\n    {\n      \"column\": \"negative\",\n      \"properties\": {\n        \"dtype\": \"number\",\n        \"std\": 4526,\n        \"min\": 626,\n        \"max\": 7027,\n        \"num_unique_values\": 2,\n        \"samples\": [\n          7027,\n          626\n        ],\n        \"semantic_type\": \"\",\n        \"description\": \"\"\n      }\n    }\n  ]\n}"
            }
          },
          "metadata": {},
          "execution_count": 221
        },
        {
          "output_type": "stream",
          "name": "stdout",
          "text": [
            "time: 18 ms (started: 2024-05-23 13:57:00 +00:00)\n"
          ]
        }
      ],
      "source": [
        "cm_df"
      ]
    },
    {
      "cell_type": "markdown",
      "metadata": {
        "id": "i6iMK8D5cymL"
      },
      "source": [
        "We can also visualize the confusion matrix as the **ratios** of the predictions over the classes. The ratios on the **diagonal** are the ratios of the **correct predictions**."
      ]
    },
    {
      "cell_type": "code",
      "execution_count": null,
      "metadata": {
        "id": "f7yCdQPzdKCs",
        "colab": {
          "base_uri": "https://localhost:8080/",
          "height": 1000
        },
        "outputId": "0bb577ea-6008-4e9d-fa0a-61b1fd6b6d2f"
      },
      "outputs": [
        {
          "output_type": "display_data",
          "data": {
            "text/plain": [
              "<Figure size 1600x1600 with 2 Axes>"
            ],
            "image/png": "[encoded data removed]"
          },
          "metadata": {}
        },
        {
          "output_type": "stream",
          "name": "stdout",
          "text": [
            "time: 638 ms (started: 2024-05-23 13:57:05 +00:00)\n"
          ]
        }
      ],
      "source": [
        "import seaborn as sns\n",
        "import matplotlib.pyplot as plt\n",
        "plt.figure(figsize=(16,16))\n",
        "ax = sns.heatmap(cm_df/np.sum(cm_df), annot=True, fmt='.1%', cmap='Greens')\n",
        "\n",
        "ax.set_title('Confusion Matrix\\n\\n');\n",
        "ax.set_xlabel('\\nPredicted')\n",
        "ax.set_ylabel('Actual');\n",
        "\n",
        "ax.xaxis.set_ticklabels(id_to_sentiment.values())\n",
        "ax.yaxis.set_ticklabels(id_to_sentiment.values())\n",
        "\n",
        "plt.show()"
      ]
    }
  ],
  "metadata": {
    "colab": {
      "provenance": [],
      "toc_visible": true
    },
    "kernelspec": {
      "display_name": "Python 3",
      "name": "python3"
    },
    "language_info": {
      "name": "python"
    },
    "widgets": {
      "application/vnd.jupyter.widget-state+json": {
        "f8dbce256fc44ca9812a21964dfd4406": {
          "model_module": "@jupyter-widgets/controls",
          "model_name": "VBoxModel",
          "model_module_version": "1.5.0",
          "state": {
            "_dom_classes": [
              "widget-interact"
            ],
            "_model_module": "@jupyter-widgets/controls",
            "_model_module_version": "1.5.0",
            "_model_name": "VBoxModel",
            "_view_count": null,
            "_view_module": "@jupyter-widgets/controls",
            "_view_module_version": "1.5.0",
            "_view_name": "VBoxView",
            "box_style": "",
            "children": [
              "IPY_MODEL_485bd1d016cb42acaa4661c65c3f3236"
            ],
            "layout": "IPY_MODEL_860fba34d9e8459bba2ea13b7f9ab226"
          }
        },
        "485bd1d016cb42acaa4661c65c3f3236": {
          "model_module": "@jupyter-widgets/output",
          "model_name": "OutputModel",
          "model_module_version": "1.0.0",
          "state": {
            "_dom_classes": [],
            "_model_module": "@jupyter-widgets/output",
            "_model_module_version": "1.0.0",
            "_model_name": "OutputModel",
            "_view_count": null,
            "_view_module": "@jupyter-widgets/output",
            "_view_module_version": "1.0.0",
            "_view_name": "OutputView",
            "layout": "IPY_MODEL_a7cee3cc32bd4da095a41b10fa210644",
            "msg_id": "",
            "outputs": []
          }
        },
        "860fba34d9e8459bba2ea13b7f9ab226": {
          "model_module": "@jupyter-widgets/base",
          "model_name": "LayoutModel",
          "model_module_version": "1.2.0",
          "state": {
            "_model_module": "@jupyter-widgets/base",
            "_model_module_version": "1.2.0",
            "_model_name": "LayoutModel",
            "_view_count": null,
            "_view_module": "@jupyter-widgets/base",
            "_view_module_version": "1.2.0",
            "_view_name": "LayoutView",
            "align_content": null,
            "align_items": null,
            "align_self": null,
            "border": null,
            "bottom": null,
            "display": null,
            "flex": null,
            "flex_flow": null,
            "grid_area": null,
            "grid_auto_columns": null,
            "grid_auto_flow": null,
            "grid_auto_rows": null,
            "grid_column": null,
            "grid_gap": null,
            "grid_row": null,
            "grid_template_areas": null,
            "grid_template_columns": null,
            "grid_template_rows": null,
            "height": null,
            "justify_content": null,
            "justify_items": null,
            "left": null,
            "margin": null,
            "max_height": null,
            "max_width": null,
            "min_height": null,
            "min_width": null,
            "object_fit": null,
            "object_position": null,
            "order": null,
            "overflow": null,
            "overflow_x": null,
            "overflow_y": null,
            "padding": null,
            "right": null,
            "top": null,
            "visibility": null,
            "width": null
          }
        },
        "a7cee3cc32bd4da095a41b10fa210644": {
          "model_module": "@jupyter-widgets/base",
          "model_name": "LayoutModel",
          "model_module_version": "1.2.0",
          "state": {
            "_model_module": "@jupyter-widgets/base",
            "_model_module_version": "1.2.0",
            "_model_name": "LayoutModel",
            "_view_count": null,
            "_view_module": "@jupyter-widgets/base",
            "_view_module_version": "1.2.0",
            "_view_name": "LayoutView",
            "align_content": null,
            "align_items": null,
            "align_self": null,
            "border": null,
            "bottom": null,
            "display": null,
            "flex": null,
            "flex_flow": null,
            "grid_area": null,
            "grid_auto_columns": null,
            "grid_auto_flow": null,
            "grid_auto_rows": null,
            "grid_column": null,
            "grid_gap": null,
            "grid_row": null,
            "grid_template_areas": null,
            "grid_template_columns": null,
            "grid_template_rows": null,
            "height": null,
            "justify_content": null,
            "justify_items": null,
            "left": null,
            "margin": null,
            "max_height": null,
            "max_width": null,
            "min_height": null,
            "min_width": null,
            "object_fit": null,
            "object_position": null,
            "order": null,
            "overflow": null,
            "overflow_x": null,
            "overflow_y": null,
            "padding": null,
            "right": null,
            "top": null,
            "visibility": null,
            "width": null
          }
        }
      }
    }
  },
  "nbformat": 4,
  "nbformat_minor": 0
}